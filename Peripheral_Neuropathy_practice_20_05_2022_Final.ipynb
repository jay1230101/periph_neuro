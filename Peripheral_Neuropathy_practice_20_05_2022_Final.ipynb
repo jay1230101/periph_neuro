{
  "cells": [
    {
      "cell_type": "markdown",
      "metadata": {
        "id": "view-in-github",
        "colab_type": "text"
      },
      "source": [
        "<a href=\"https://colab.research.google.com/github/jay1230101/periph_neuro/blob/main/Peripheral_Neuropathy_practice_20_05_2022_Final.ipynb\" target=\"_parent\"><img src=\"https://colab.research.google.com/assets/colab-badge.svg\" alt=\"Open In Colab\"/></a>"
      ]
    },
    {
      "cell_type": "markdown",
      "source": [
        "# Import Libraries "
      ],
      "metadata": {
        "id": "ZNn5tjzlZWYU"
      }
    },
    {
      "cell_type": "code",
      "source": [
        "# importing libraries \n",
        "import pandas as pd \n",
        "import numpy as np "
      ],
      "metadata": {
        "id": "4QrrZg3bY_dv"
      },
      "execution_count": 1,
      "outputs": []
    },
    {
      "cell_type": "code",
      "execution_count": 2,
      "metadata": {
        "colab": {
          "base_uri": "https://localhost:8080/",
          "height": 234
        },
        "id": "OfcLVZVYuhhn",
        "outputId": "037c5715-3a2d-4244-bb9f-87231d35e92c"
      },
      "outputs": [
        {
          "output_type": "execute_result",
          "data": {
            "text/plain": [
              "   ID Age Sex Weight Height  BMI Diet Smoker  PY Activity Level  ...     Tg  \\\n",
              "0   1  60   2     95    NaN  NaN    8      1   0              4  ...  139.0   \n",
              "1   2  56   2    NaN    NaN  NaN    7      1   0              4  ...  116.0   \n",
              "2   3  59   2    NaN    NaN  NaN    7      3  35              4  ...    NaN   \n",
              "\n",
              "   S_A  MP-A MP-CV  Me-CV  P-A  P-CV  S-CV   U-A  U-CV  \n",
              "0   3.0  0.0   0.0    0.0  4.3  46.0  36.0   9.0  63.0  \n",
              "1  32.0  7.0  53.0   51.0  5.4  42.0  47.0  18.0  54.0  \n",
              "2  28.0  5.0  47.0    0.0  1.4  47.0   0.0  22.0  63.0  \n",
              "\n",
              "[3 rows x 60 columns]"
            ],
            "text/html": [
              "\n",
              "  <div id=\"df-9e367540-1323-4743-b5b1-8911decc15c2\">\n",
              "    <div class=\"colab-df-container\">\n",
              "      <div>\n",
              "<style scoped>\n",
              "    .dataframe tbody tr th:only-of-type {\n",
              "        vertical-align: middle;\n",
              "    }\n",
              "\n",
              "    .dataframe tbody tr th {\n",
              "        vertical-align: top;\n",
              "    }\n",
              "\n",
              "    .dataframe thead th {\n",
              "        text-align: right;\n",
              "    }\n",
              "</style>\n",
              "<table border=\"1\" class=\"dataframe\">\n",
              "  <thead>\n",
              "    <tr style=\"text-align: right;\">\n",
              "      <th></th>\n",
              "      <th>ID</th>\n",
              "      <th>Age</th>\n",
              "      <th>Sex</th>\n",
              "      <th>Weight</th>\n",
              "      <th>Height</th>\n",
              "      <th>BMI</th>\n",
              "      <th>Diet</th>\n",
              "      <th>Smoker</th>\n",
              "      <th>PY</th>\n",
              "      <th>Activity Level</th>\n",
              "      <th>...</th>\n",
              "      <th>Tg</th>\n",
              "      <th>S_A</th>\n",
              "      <th>MP-A</th>\n",
              "      <th>MP-CV</th>\n",
              "      <th>Me-CV</th>\n",
              "      <th>P-A</th>\n",
              "      <th>P-CV</th>\n",
              "      <th>S-CV</th>\n",
              "      <th>U-A</th>\n",
              "      <th>U-CV</th>\n",
              "    </tr>\n",
              "  </thead>\n",
              "  <tbody>\n",
              "    <tr>\n",
              "      <th>0</th>\n",
              "      <td>1</td>\n",
              "      <td>60</td>\n",
              "      <td>2</td>\n",
              "      <td>95</td>\n",
              "      <td>NaN</td>\n",
              "      <td>NaN</td>\n",
              "      <td>8</td>\n",
              "      <td>1</td>\n",
              "      <td>0</td>\n",
              "      <td>4</td>\n",
              "      <td>...</td>\n",
              "      <td>139.0</td>\n",
              "      <td>3.0</td>\n",
              "      <td>0.0</td>\n",
              "      <td>0.0</td>\n",
              "      <td>0.0</td>\n",
              "      <td>4.3</td>\n",
              "      <td>46.0</td>\n",
              "      <td>36.0</td>\n",
              "      <td>9.0</td>\n",
              "      <td>63.0</td>\n",
              "    </tr>\n",
              "    <tr>\n",
              "      <th>1</th>\n",
              "      <td>2</td>\n",
              "      <td>56</td>\n",
              "      <td>2</td>\n",
              "      <td>NaN</td>\n",
              "      <td>NaN</td>\n",
              "      <td>NaN</td>\n",
              "      <td>7</td>\n",
              "      <td>1</td>\n",
              "      <td>0</td>\n",
              "      <td>4</td>\n",
              "      <td>...</td>\n",
              "      <td>116.0</td>\n",
              "      <td>32.0</td>\n",
              "      <td>7.0</td>\n",
              "      <td>53.0</td>\n",
              "      <td>51.0</td>\n",
              "      <td>5.4</td>\n",
              "      <td>42.0</td>\n",
              "      <td>47.0</td>\n",
              "      <td>18.0</td>\n",
              "      <td>54.0</td>\n",
              "    </tr>\n",
              "    <tr>\n",
              "      <th>2</th>\n",
              "      <td>3</td>\n",
              "      <td>59</td>\n",
              "      <td>2</td>\n",
              "      <td>NaN</td>\n",
              "      <td>NaN</td>\n",
              "      <td>NaN</td>\n",
              "      <td>7</td>\n",
              "      <td>3</td>\n",
              "      <td>35</td>\n",
              "      <td>4</td>\n",
              "      <td>...</td>\n",
              "      <td>NaN</td>\n",
              "      <td>28.0</td>\n",
              "      <td>5.0</td>\n",
              "      <td>47.0</td>\n",
              "      <td>0.0</td>\n",
              "      <td>1.4</td>\n",
              "      <td>47.0</td>\n",
              "      <td>0.0</td>\n",
              "      <td>22.0</td>\n",
              "      <td>63.0</td>\n",
              "    </tr>\n",
              "  </tbody>\n",
              "</table>\n",
              "<p>3 rows × 60 columns</p>\n",
              "</div>\n",
              "      <button class=\"colab-df-convert\" onclick=\"convertToInteractive('df-9e367540-1323-4743-b5b1-8911decc15c2')\"\n",
              "              title=\"Convert this dataframe to an interactive table.\"\n",
              "              style=\"display:none;\">\n",
              "        \n",
              "  <svg xmlns=\"http://www.w3.org/2000/svg\" height=\"24px\"viewBox=\"0 0 24 24\"\n",
              "       width=\"24px\">\n",
              "    <path d=\"M0 0h24v24H0V0z\" fill=\"none\"/>\n",
              "    <path d=\"M18.56 5.44l.94 2.06.94-2.06 2.06-.94-2.06-.94-.94-2.06-.94 2.06-2.06.94zm-11 1L8.5 8.5l.94-2.06 2.06-.94-2.06-.94L8.5 2.5l-.94 2.06-2.06.94zm10 10l.94 2.06.94-2.06 2.06-.94-2.06-.94-.94-2.06-.94 2.06-2.06.94z\"/><path d=\"M17.41 7.96l-1.37-1.37c-.4-.4-.92-.59-1.43-.59-.52 0-1.04.2-1.43.59L10.3 9.45l-7.72 7.72c-.78.78-.78 2.05 0 2.83L4 21.41c.39.39.9.59 1.41.59.51 0 1.02-.2 1.41-.59l7.78-7.78 2.81-2.81c.8-.78.8-2.07 0-2.86zM5.41 20L4 18.59l7.72-7.72 1.47 1.35L5.41 20z\"/>\n",
              "  </svg>\n",
              "      </button>\n",
              "      \n",
              "  <style>\n",
              "    .colab-df-container {\n",
              "      display:flex;\n",
              "      flex-wrap:wrap;\n",
              "      gap: 12px;\n",
              "    }\n",
              "\n",
              "    .colab-df-convert {\n",
              "      background-color: #E8F0FE;\n",
              "      border: none;\n",
              "      border-radius: 50%;\n",
              "      cursor: pointer;\n",
              "      display: none;\n",
              "      fill: #1967D2;\n",
              "      height: 32px;\n",
              "      padding: 0 0 0 0;\n",
              "      width: 32px;\n",
              "    }\n",
              "\n",
              "    .colab-df-convert:hover {\n",
              "      background-color: #E2EBFA;\n",
              "      box-shadow: 0px 1px 2px rgba(60, 64, 67, 0.3), 0px 1px 3px 1px rgba(60, 64, 67, 0.15);\n",
              "      fill: #174EA6;\n",
              "    }\n",
              "\n",
              "    [theme=dark] .colab-df-convert {\n",
              "      background-color: #3B4455;\n",
              "      fill: #D2E3FC;\n",
              "    }\n",
              "\n",
              "    [theme=dark] .colab-df-convert:hover {\n",
              "      background-color: #434B5C;\n",
              "      box-shadow: 0px 1px 3px 1px rgba(0, 0, 0, 0.15);\n",
              "      filter: drop-shadow(0px 1px 2px rgba(0, 0, 0, 0.3));\n",
              "      fill: #FFFFFF;\n",
              "    }\n",
              "  </style>\n",
              "\n",
              "      <script>\n",
              "        const buttonEl =\n",
              "          document.querySelector('#df-9e367540-1323-4743-b5b1-8911decc15c2 button.colab-df-convert');\n",
              "        buttonEl.style.display =\n",
              "          google.colab.kernel.accessAllowed ? 'block' : 'none';\n",
              "\n",
              "        async function convertToInteractive(key) {\n",
              "          const element = document.querySelector('#df-9e367540-1323-4743-b5b1-8911decc15c2');\n",
              "          const dataTable =\n",
              "            await google.colab.kernel.invokeFunction('convertToInteractive',\n",
              "                                                     [key], {});\n",
              "          if (!dataTable) return;\n",
              "\n",
              "          const docLinkHtml = 'Like what you see? Visit the ' +\n",
              "            '<a target=\"_blank\" href=https://colab.research.google.com/notebooks/data_table.ipynb>data table notebook</a>'\n",
              "            + ' to learn more about interactive tables.';\n",
              "          element.innerHTML = '';\n",
              "          dataTable['output_type'] = 'display_data';\n",
              "          await google.colab.output.renderOutput(dataTable, element);\n",
              "          const docLink = document.createElement('div');\n",
              "          docLink.innerHTML = docLinkHtml;\n",
              "          element.appendChild(docLink);\n",
              "        }\n",
              "      </script>\n",
              "    </div>\n",
              "  </div>\n",
              "  "
            ]
          },
          "metadata": {},
          "execution_count": 2
        }
      ],
      "source": [
        "#uploading dataset \n",
        "data = pd.read_csv('/content/sample_data/peripheral_neuropathy_19_03-2022.csv',encoding = \"ISO-8859-1\")\n",
        "data.head(3)"
      ]
    },
    {
      "cell_type": "code",
      "source": [
        "data.shape"
      ],
      "metadata": {
        "colab": {
          "base_uri": "https://localhost:8080/"
        },
        "id": "q_bSJ7LB2k5x",
        "outputId": "674ea411-481a-4f03-baa3-2c2387b2a05e"
      },
      "execution_count": 3,
      "outputs": [
        {
          "output_type": "execute_result",
          "data": {
            "text/plain": [
              "(403, 60)"
            ]
          },
          "metadata": {},
          "execution_count": 3
        }
      ]
    },
    {
      "cell_type": "code",
      "source": [
        "data.isnull().sum()"
      ],
      "metadata": {
        "id": "SC2j0N9SaBLB"
      },
      "execution_count": null,
      "outputs": []
    },
    {
      "cell_type": "markdown",
      "source": [
        "# Data Cleaning "
      ],
      "metadata": {
        "id": "bz_Dc6kTFakS"
      }
    },
    {
      "cell_type": "code",
      "source": [
        "# Drop all neurophysiological features as per Dr Rushdi Ahdab 'MP-A','MP-CV','Me-CV','P-A','P-CV','S-CV','U-CV',Vib,'PinP','U-A','LT','Tgait'\n",
        "data= data.drop(['Sx Onset','RLS','Anesthesia','PY','ID','MP-A','MP-CV','Me-CV','P-A','P-CV','S-CV','U-CV','Vib','PinP','U-A','LT','Tgait','Alcohol','Tg'],axis=1)"
      ],
      "metadata": {
        "id": "JGQKkWjLnzdK"
      },
      "execution_count": 5,
      "outputs": []
    },
    {
      "cell_type": "code",
      "source": [
        "data.columns"
      ],
      "metadata": {
        "colab": {
          "base_uri": "https://localhost:8080/"
        },
        "id": "IV-z6tc0n9uB",
        "outputId": "bd32388c-04b9-4e1f-fb5e-1948c7ea3e21"
      },
      "execution_count": 6,
      "outputs": [
        {
          "output_type": "execute_result",
          "data": {
            "text/plain": [
              "Index(['Age', 'Sex', 'Weight', 'Height', 'BMI', 'Diet', 'Smoker',\n",
              "       'Activity Level', 'Caffeine', 'Working hours', 'Driving hours',\n",
              "       'Family stress', 'Hypertension', 'Renal disease', 'Hyperlipidemia',\n",
              "       'Hyperthyroidism', 'Hypothyroidism', 'Retinopathy', 'DM', 'AgeO',\n",
              "       'Modification', 'Pain', 'Diurnal ', 'Coldness', 'Tingling', 'Alloydnia',\n",
              "       'HR - L', 'BP-L Sys', 'BP-L Dias', 'HR-S', 'BP-S Sys', 'BP- S Dias',\n",
              "       'Ohtn', 'DTRs', 'Rom', 'FBS', 'TSH', 'VitB12', 'HDL', 'LDL', 'S_A '],\n",
              "      dtype='object')"
            ]
          },
          "metadata": {},
          "execution_count": 6
        }
      ]
    },
    {
      "cell_type": "code",
      "source": [
        "# rename columns to remove space between words \n",
        "data=data.rename(columns={'HR-S':'HR_S','Renal disease':'Renal_disease','Family stress':'Family_stress','Driving hours':'Driving_hours','Working hours':'Working_hours','BP-L Dias':'BP_L_Dias','BP-S Sys':'BP_S_Sys','BP- S Dias':'BP_S_Dias','HR - L':'HR_L','BP-L Sys':'BP_L_Sys','Diurnal\\xa0':'Diurnal'})\n",
        "data.columns"
      ],
      "metadata": {
        "colab": {
          "base_uri": "https://localhost:8080/"
        },
        "id": "AjQdQLCMpJZ5",
        "outputId": "bafdc4e0-4f62-44a8-acec-0c6e837e7008"
      },
      "execution_count": 7,
      "outputs": [
        {
          "output_type": "execute_result",
          "data": {
            "text/plain": [
              "Index(['Age', 'Sex', 'Weight', 'Height', 'BMI', 'Diet', 'Smoker',\n",
              "       'Activity Level', 'Caffeine', 'Working_hours', 'Driving_hours',\n",
              "       'Family_stress', 'Hypertension', 'Renal_disease', 'Hyperlipidemia',\n",
              "       'Hyperthyroidism', 'Hypothyroidism', 'Retinopathy', 'DM', 'AgeO',\n",
              "       'Modification', 'Pain', 'Diurnal', 'Coldness', 'Tingling', 'Alloydnia',\n",
              "       'HR_L', 'BP_L_Sys', 'BP_L_Dias', 'HR_S', 'BP_S_Sys', 'BP_S_Dias',\n",
              "       'Ohtn', 'DTRs', 'Rom', 'FBS', 'TSH', 'VitB12', 'HDL', 'LDL', 'S_A '],\n",
              "      dtype='object')"
            ]
          },
          "metadata": {},
          "execution_count": 7
        }
      ]
    },
    {
      "cell_type": "code",
      "source": [
        "# remove rows having the following special characters \n",
        "data = data[(data.Diet != 'MISSING') & (data.Diet != 'EXCLUDED') &(data.Diet !='EXCLUDED CHEMO') &(data.Diet !='#DIV/0!')\n",
        "& (data.Diet != '/\\xa0') & (data.Diet != '#VALUE!') &(data.Diet != 'EXCLUDED RENAL TRANSPLANT')]\n",
        "data = data[(data.Age != 'MISSING') & (data.Age != 'EXCLUDED') &(data.Age !='EXCLUDED CHEMO') &(data.Age !='#DIV/0!')\n",
        "& (data.Age != '/\\xa0') & (data.Age != '#VALUE!') &(data.Age != 'EXCLUDED RENAL TRANSPLANT')]\n",
        "data = data[(data.Sex != 'MISSING') & (data.Sex != 'EXCLUDED') &(data.Sex !='EXCLUDED CHEMO') &(data.Sex !='#DIV/0!')\n",
        "& (data.Sex != '/\\xa0') & (data.Sex != '#VALUE!') &(data.Sex != 'EXCLUDED RENAL TRANSPLANT')]\n",
        "data = data[(data.Weight != 'MISSING') & (data.Weight != 'EXCLUDED') &(data.Weight !='EXCLUDED CHEMO') &(data.Weight !='#DIV/0!')\n",
        "& (data.Weight != '/\\xa0') & (data.Weight != '#VALUE!') &(data.Weight != 'EXCLUDED RENAL TRANSPLANT')]\n",
        "data = data[(data.Height!= 'MISSING') & (data.Height!= 'EXCLUDED') &(data.Height!='EXCLUDED CHEMO') &(data.Height!='#DIV/0!')\n",
        "& (data.Height!= '/\\xa0') & (data.Height!= '#VALUE!') &(data.Height!= 'EXCLUDED RENAL TRANSPLANT')]\n",
        "data = data[(data.BMI!= 'MISSING') & (data.BMI!= 'EXCLUDED') &(data.BMI!='EXCLUDED CHEMO') &(data.BMI!='#DIV/0!')\n",
        "& (data.BMI!= '/\\xa0') & (data.BMI!= '#VALUE!') &(data.BMI!= 'EXCLUDED RENAL TRANSPLANT')]\n",
        "data = data[(data.Smoker!= 'MISSING') & (data.Smoker!= 'EXCLUDED') &(data.Smoker!='EXCLUDED CHEMO') &(data.Smoker!='#DIV/0!')\n",
        "& (data.Smoker!= '/\\xa0') & (data.Smoker!= '#VALUE!') &(data.Smoker!= 'EXCLUDED RENAL TRANSPLANT')]\n",
        "data = data[(data['Activity Level']!= 'MISSING') & (data['Activity Level']!= 'EXCLUDED') &(data['Activity Level']!='EXCLUDED CHEMO') &(data['Activity Level']!='#DIV/0!')\n",
        "& (data['Activity Level']!= '/\\xa0') & (data['Activity Level']!= '#VALUE!') &(data['Activity Level']!= 'EXCLUDED RENAL TRANSPLANT')]\n",
        "data = data[(data.Caffeine!= 'MISSING') & (data.Caffeine!= 'EXCLUDED') &(data.Caffeine!='EXCLUDED CHEMO') &(data.Caffeine!='#DIV/0!')\n",
        "& (data.Caffeine!= '/\\xa0') & (data.Caffeine!= '#VALUE!') &(data.Caffeine!= 'EXCLUDED RENAL TRANSPLANT')]\n",
        "data = data[(data.Working_hours!= 'MISSING') & (data.Working_hours!= 'EXCLUDED') &(data.Working_hours!='EXCLUDED CHEMO') &(data.Working_hours!='#DIV/0!')\n",
        "& (data.Working_hours!= '/\\xa0') & (data.Working_hours!= '#VALUE!') &(data.Working_hours!= 'EXCLUDED RENAL TRANSPLANT')]\n",
        "data = data[(data.Driving_hours!= 'MISSING') & (data.Driving_hours!= 'EXCLUDED') &(data.Driving_hours!='EXCLUDED CHEMO') &(data.Driving_hours!='#DIV/0!')\n",
        "& (data.Driving_hours!= '/\\xa0') & (data.Driving_hours!= '#VALUE!') &(data.Driving_hours!= 'EXCLUDED RENAL TRANSPLANT')]\n",
        "data = data[(data.Family_stress!= 'MISSING') & (data.Family_stress!= 'EXCLUDED') &(data.Family_stress!='EXCLUDED CHEMO') &(data.Family_stress!='#DIV/0!')\n",
        "& (data.Family_stress!= '/\\xa0') & (data.Family_stress!= '#VALUE!') &(data.Family_stress!= 'EXCLUDED RENAL TRANSPLANT')]\n",
        "# data = data[(data.Alcohol!= 'MISSING') & (data.Alcohol!= 'EXCLUDED') &(data.Alcohol!='EXCLUDED CHEMO') &(data.Alcohol!='#DIV/0!')\n",
        "# & (data.Alcohol!= '/\\xa0') & (data.Alcohol!= '#VALUE!') &(data.Alcohol!= 'EXCLUDED RENAL TRANSPLANT')]\n",
        "data = data[(data.Hypertension!= 'MISSING') & (data.Hypertension!= 'EXCLUDED') &(data.Hypertension!='EXCLUDED CHEMO') &(data.Hypertension!='#DIV/0!')\n",
        "& (data.Hypertension!= '/\\xa0') & (data.Hypertension!= '#VALUE!') &(data.Hypertension!= 'EXCLUDED RENAL TRANSPLANT')]\n",
        "data = data[(data.Renal_disease!= 'MISSING') & (data.Renal_disease!= 'EXCLUDED') &(data.Renal_disease!='EXCLUDED CHEMO') &(data.Renal_disease!='#DIV/0!')\n",
        "& (data.Renal_disease!= '/\\xa0') & (data.Renal_disease!= '#VALUE!') &(data.Renal_disease!= 'EXCLUDED RENAL TRANSPLANT')]\n",
        "data = data[(data.Hyperlipidemia!= 'MISSING') & (data.Hyperlipidemia!= 'EXCLUDED') &(data.Hyperlipidemia!='EXCLUDED CHEMO') &(data.Hyperlipidemia!='#DIV/0!')\n",
        "& (data.Hyperlipidemia!= '/\\xa0') & (data.Hyperlipidemia!= '#VALUE!') &(data.Hyperlipidemia!= 'EXCLUDED RENAL TRANSPLANT')]\n",
        "data = data[(data.Hyperthyroidism!= 'MISSING') & (data.Hyperthyroidism!= 'EXCLUDED') &(data.Hyperthyroidism!='EXCLUDED CHEMO') &(data.Hyperthyroidism!='#DIV/0!')\n",
        "& (data.Hyperthyroidism!= '/\\xa0') & (data.Hyperthyroidism!= '#VALUE!') &(data.Hyperthyroidism!= 'EXCLUDED RENAL TRANSPLANT')]\n",
        "data = data[(data.Hypothyroidism!= 'MISSING') & (data.Hypothyroidism!= 'EXCLUDED') &(data.Hypothyroidism!='EXCLUDED CHEMO') &(data.Hypothyroidism!='#DIV/0!')\n",
        "& (data.Hypothyroidism!= '/\\xa0') & (data.Hypothyroidism!= '#VALUE!') &(data.Hypothyroidism!= 'EXCLUDED RENAL TRANSPLANT')]\n",
        "data = data[(data.Retinopathy!= 'MISSING') & (data.Retinopathy!= 'EXCLUDED') &(data.Retinopathy!='EXCLUDED CHEMO') &(data.Retinopathy!='#DIV/0!')\n",
        "& (data.Retinopathy!= '/\\xa0') & (data.Retinopathy!= '#VALUE!') &(data.Retinopathy!= 'EXCLUDED RENAL TRANSPLANT')]\n",
        "data = data[(data.DM!= 'MISSING') & (data.DM!= 'EXCLUDED') &(data.DM!='EXCLUDED CHEMO') &(data.DM!='#DIV/0!')\n",
        "& (data.DM!= '/\\xa0') & (data.DM!= '#VALUE!') &(data.DM!= 'EXCLUDED RENAL TRANSPLANT')]\n",
        "data = data[(data.AgeO!= 'MISSING') & (data.AgeO!= 'EXCLUDED') &(data.AgeO!='EXCLUDED CHEMO') &(data.AgeO!='#DIV/0!')\n",
        "& (data.AgeO!= '/\\xa0') & (data.AgeO!= '#VALUE!') &(data.AgeO!= 'EXCLUDED RENAL TRANSPLANT')]\n",
        "data = data[(data.Modification!= 'MISSING') & (data.Modification!= 'EXCLUDED') &(data.Modification!='EXCLUDED CHEMO') &(data.Modification!='#DIV/0!')\n",
        "& (data.Modification!= '/\\xa0') & (data.Modification!= '#VALUE!') &(data.Modification!= 'EXCLUDED RENAL TRANSPLANT')]\n",
        "data = data[(data.Pain!= 'MISSING') & (data.Pain!= 'EXCLUDED') &(data.Pain!='EXCLUDED CHEMO') &(data.Pain!='#DIV/0!')\n",
        "& (data.Pain!= '/\\xa0') & (data.Pain!= '#VALUE!') &(data.Pain!= 'EXCLUDED RENAL TRANSPLANT')]\n",
        "data = data[(data.Diurnal!= 'MISSING') & (data.Diurnal!= 'EXCLUDED') &(data.Diurnal!='EXCLUDED CHEMO') &(data.Diurnal!='#DIV/0!')\n",
        "& (data.Diurnal!= '/\\xa0') & (data.Diurnal!= '#VALUE!') &(data.Diurnal!= 'EXCLUDED RENAL TRANSPLANT')]\n",
        "data = data[(data.Coldness!= 'MISSING') & (data.Coldness!= 'EXCLUDED') &(data.Coldness!='EXCLUDED CHEMO') &(data.Coldness!='#DIV/0!')\n",
        "& (data.Coldness!= '/\\xa0') & (data.Coldness!= '#VALUE!') &(data.Coldness!= 'EXCLUDED RENAL TRANSPLANT')]\n",
        "data = data[(data.Tingling!= 'MISSING') & (data.Tingling!= 'EXCLUDED') &(data.Tingling!='EXCLUDED CHEMO') &(data.Tingling!='#DIV/0!')\n",
        "& (data.Tingling!= '/\\xa0') & (data.Tingling!= '#VALUE!') &(data.Tingling!= 'EXCLUDED RENAL TRANSPLANT')]\n",
        "data = data[(data.Alloydnia!= 'MISSING') & (data.Alloydnia!= 'EXCLUDED') &(data.Alloydnia!='EXCLUDED CHEMO') &(data.Alloydnia!='#DIV/0!')\n",
        "& (data.Alloydnia!= '/\\xa0') & (data.Alloydnia!= '#VALUE!') &(data.Alloydnia!= 'EXCLUDED RENAL TRANSPLANT')]\n",
        "data = data[(data.HR_L!= 'MISSING') & (data.HR_L!= 'EXCLUDED') &(data.HR_L!='EXCLUDED CHEMO') &(data.HR_L!='#DIV/0!')\n",
        "& (data.HR_L!= '/\\xa0') & (data.HR_L!= '#VALUE!') &(data.HR_L!= 'EXCLUDED RENAL TRANSPLANT')]\n",
        "data = data[(data.BP_L_Sys!= 'MISSING') & (data.BP_L_Sys!= 'EXCLUDED') &(data.BP_L_Sys!='EXCLUDED CHEMO') &(data.BP_L_Sys!='#DIV/0!')\n",
        "& (data.BP_L_Sys!= '/\\xa0') & (data.BP_L_Sys!= '#VALUE!') &(data.BP_L_Sys!= 'EXCLUDED RENAL TRANSPLANT')]\n",
        "data = data[(data.BP_L_Dias!= 'MISSING') & (data.BP_L_Dias!= 'EXCLUDED') &(data.BP_L_Dias!='EXCLUDED CHEMO') &(data.BP_L_Dias!='#DIV/0!')\n",
        "& (data.BP_L_Dias!= '/\\xa0') & (data.BP_L_Dias!= '#VALUE!') &(data.BP_L_Dias!= 'EXCLUDED RENAL TRANSPLANT')]\n",
        "data = data[(data.HR_S!= 'MISSING') & (data.HR_S!= 'EXCLUDED') &(data.HR_S!='EXCLUDED CHEMO') &(data.HR_S!='#DIV/0!')\n",
        "& (data.HR_S!= '/\\xa0') & (data.HR_S!= '#VALUE!') &(data.HR_S!= 'EXCLUDED RENAL TRANSPLANT')]\n",
        "data = data[(data.BP_S_Sys!= 'MISSING') & (data.BP_S_Sys!= 'EXCLUDED') &(data.BP_S_Sys!='EXCLUDED CHEMO') &(data.BP_S_Sys!='#DIV/0!')\n",
        "& (data.BP_S_Sys!= '/\\xa0') & (data.BP_S_Sys!= '#VALUE!') &(data.BP_S_Sys!= 'EXCLUDED RENAL TRANSPLANT')]\n",
        "data = data[(data.BP_S_Dias!= 'MISSING') & (data.BP_S_Dias!= 'EXCLUDED') &(data.BP_S_Dias!='EXCLUDED CHEMO') &(data.BP_S_Dias!='#DIV/0!')\n",
        "& (data.BP_S_Dias!= '/\\xa0') & (data.BP_S_Dias!= '#VALUE!') &(data.BP_S_Dias!= 'EXCLUDED RENAL TRANSPLANT')]\n",
        "data = data[(data.Ohtn!= 'MISSING') & (data.Ohtn!= 'EXCLUDED') &(data.Ohtn!='EXCLUDED CHEMO') &(data.Ohtn!='#DIV/0!')\n",
        "& (data.Ohtn!= '/\\xa0') & (data.Ohtn!= '#VALUE!') &(data.Ohtn!= 'EXCLUDED RENAL TRANSPLANT')]\n",
        "data = data[(data.DTRs!= 'MISSING') & (data.DTRs!= 'EXCLUDED') &(data.DTRs!='EXCLUDED CHEMO') &(data.DTRs!='#DIV/0!')\n",
        "& (data.DTRs!= '/\\xa0') & (data.DTRs!= '#VALUE!') &(data.DTRs!= 'EXCLUDED RENAL TRANSPLANT')]\n",
        "data = data[(data.Rom!= 'MISSING') & (data.Rom!= 'EXCLUDED') &(data.Rom!='EXCLUDED CHEMO') &(data.Rom!='#DIV/0!')\n",
        "& (data.Rom!= '/\\xa0') & (data.Rom!= '#VALUE!') &(data.Rom!= 'EXCLUDED RENAL TRANSPLANT')]\n",
        "data = data[(data.FBS!= 'MISSING') & (data.FBS!= 'EXCLUDED') &(data.FBS!='EXCLUDED CHEMO') &(data.FBS!='#DIV/0!')\n",
        "& (data.FBS!= '/\\xa0') & (data.FBS!= '#VALUE!') &(data.FBS!= 'EXCLUDED RENAL TRANSPLANT')]\n",
        "data = data[(data.TSH!= 'MISSING') & (data.TSH!= 'EXCLUDED') &(data.TSH!='EXCLUDED CHEMO') &(data.TSH!='#DIV/0!')\n",
        "& (data.TSH!= '/\\xa0') & (data.TSH!= '#VALUE!') &(data.TSH!= 'EXCLUDED RENAL TRANSPLANT')]\n",
        "data = data[(data.VitB12!= 'MISSING') & (data.VitB12!= 'EXCLUDED') &(data.VitB12!='EXCLUDED CHEMO') &(data.VitB12!='#DIV/0!')\n",
        "& (data.VitB12!= '/\\xa0') & (data.VitB12!= '#VALUE!') &(data.VitB12!= 'EXCLUDED RENAL TRANSPLANT')]\n",
        "data = data[(data.HDL!= 'MISSING') & (data.HDL!= 'EXCLUDED') &(data.HDL!='EXCLUDED CHEMO') &(data.HDL!='#DIV/0!')\n",
        "& (data.HDL!= '/\\xa0') & (data.HDL!= '#VALUE!') &(data.HDL!= 'EXCLUDED RENAL TRANSPLANT')]\n",
        "# data = data[(data.Tg!= 'MISSING') & (data.Tg!= 'EXCLUDED') &(data.Tg!='EXCLUDED CHEMO') &(data.Tg!='#DIV/0!')\n",
        "# & (data.Tg!= '/\\xa0') & (data.Tg!= '#VALUE!') &(data.Tg!= 'EXCLUDED RENAL TRANSPLANT')]"
      ],
      "metadata": {
        "id": "v4VkEWwNatSv"
      },
      "execution_count": 8,
      "outputs": []
    },
    {
      "cell_type": "code",
      "source": [
        "data.shape"
      ],
      "metadata": {
        "colab": {
          "base_uri": "https://localhost:8080/"
        },
        "id": "VDT0kP4lxAY-",
        "outputId": "142289df-48a1-48e5-bc11-7f5b7c49c4c1"
      },
      "execution_count": 9,
      "outputs": [
        {
          "output_type": "execute_result",
          "data": {
            "text/plain": [
              "(359, 41)"
            ]
          },
          "metadata": {},
          "execution_count": 9
        }
      ]
    },
    {
      "cell_type": "code",
      "source": [
        "data.dtypes"
      ],
      "metadata": {
        "id": "Ntwg6dc-t9Az",
        "colab": {
          "base_uri": "https://localhost:8080/"
        },
        "outputId": "ee97a7ed-216d-42a4-fa1e-d33cf9232862"
      },
      "execution_count": 10,
      "outputs": [
        {
          "output_type": "execute_result",
          "data": {
            "text/plain": [
              "Age                 object\n",
              "Sex                 object\n",
              "Weight              object\n",
              "Height              object\n",
              "BMI                 object\n",
              "Diet                object\n",
              "Smoker              object\n",
              "Activity Level      object\n",
              "Caffeine            object\n",
              "Working_hours       object\n",
              "Driving_hours       object\n",
              "Family_stress       object\n",
              "Hypertension        object\n",
              "Renal_disease       object\n",
              "Hyperlipidemia      object\n",
              "Hyperthyroidism     object\n",
              "Hypothyroidism      object\n",
              "Retinopathy         object\n",
              "DM                  object\n",
              "AgeO                object\n",
              "Modification        object\n",
              "Pain                object\n",
              "Diurnal             object\n",
              "Coldness            object\n",
              "Tingling            object\n",
              "Alloydnia           object\n",
              "HR_L                object\n",
              "BP_L_Sys            object\n",
              "BP_L_Dias           object\n",
              "HR_S                object\n",
              "BP_S_Sys            object\n",
              "BP_S_Dias           object\n",
              "Ohtn                object\n",
              "DTRs                object\n",
              "Rom                 object\n",
              "FBS                float64\n",
              "TSH                 object\n",
              "VitB12             float64\n",
              "HDL                float64\n",
              "LDL                float64\n",
              "S_A                float64\n",
              "dtype: object"
            ]
          },
          "metadata": {},
          "execution_count": 10
        }
      ]
    },
    {
      "cell_type": "code",
      "source": [
        "# number of NaN values in the target variable column \n",
        "data['S_A '].isnull().sum()"
      ],
      "metadata": {
        "colab": {
          "base_uri": "https://localhost:8080/"
        },
        "id": "65YtTp0xUn1e",
        "outputId": "d97267db-deed-45ea-ca12-efbaf815f691"
      },
      "execution_count": 11,
      "outputs": [
        {
          "output_type": "execute_result",
          "data": {
            "text/plain": [
              "5"
            ]
          },
          "metadata": {},
          "execution_count": 11
        }
      ]
    },
    {
      "cell_type": "code",
      "source": [
        "# drop NaN for the target Variable , they are useless \n",
        "data = data[data['S_A '].notnull()]\n",
        "print (data)"
      ],
      "metadata": {
        "colab": {
          "base_uri": "https://localhost:8080/"
        },
        "id": "CvYEVQwPUodl",
        "outputId": "d8085721-f085-43ac-89c9-d8fa36c414bd"
      },
      "execution_count": 12,
      "outputs": [
        {
          "output_type": "stream",
          "name": "stdout",
          "text": [
            "    Age Sex Weight Height          BMI Diet Smoker Activity Level Caffeine  \\\n",
            "0    60   2     95    NaN          NaN    8      1              4        2   \n",
            "1    56   2    NaN    NaN          NaN    7      1              4        2   \n",
            "2    59   2    NaN    NaN          NaN    7      3              4        3   \n",
            "3    68   1     80   1.77  25.53544639    7      2              2        3   \n",
            "4    54   1     83   1.67  29.76083761    8      /              2        4   \n",
            "..   ..  ..    ...    ...          ...  ...    ...            ...      ...   \n",
            "398  73   1     94   1.76  30.34607438    7      3              4        2   \n",
            "399  42   1    113    1.8  34.87654321    5      3              4        2   \n",
            "400  68   1     85    1.6    33.203125    7      3              4        3   \n",
            "401  36   1    100    1.9  27.70083102    5      1              1        2   \n",
            "402  64   2     82   1.65  30.11937557    1      3              4        3   \n",
            "\n",
            "    Working_hours  ... BP_S_Dias Ohtn DTRs Rom    FBS    TSH VitB12   HDL  \\\n",
            "0               0  ...        74    2    0   1  192.0  0.499  207.3  90.0   \n",
            "1               0  ...        86    2    1   1  207.0   1.03  274.7  52.0   \n",
            "2               2  ...        70    1    0   1  176.0   4.45  357.0   NaN   \n",
            "3               8  ...        80    1    0   1  159.0   1.26  246.6  44.8   \n",
            "4               0  ...        64    2    0   1  137.0    2.7  287.7   NaN   \n",
            "..            ...  ...       ...  ...  ...  ..    ...    ...    ...   ...   \n",
            "398             0  ...        55    2    0   1    NaN    NaN    NaN   NaN   \n",
            "399            12  ...       101    1    0   1  110.0   1.48  381.3   NaN   \n",
            "400             0  ...        71    1    1   1   98.0   1.81  286.7   NaN   \n",
            "401             4  ...        81    1    0   1  155.0   1.64  245.1  32.0   \n",
            "402             0  ...        67    1    0   1  340.0   2.58  242.7   NaN   \n",
            "\n",
            "      LDL  S_A   \n",
            "0    76.0   3.0  \n",
            "1     NaN  32.0  \n",
            "2     NaN  28.0  \n",
            "3     NaN  14.0  \n",
            "4     NaN  15.0  \n",
            "..    ...   ...  \n",
            "398   NaN   7.0  \n",
            "399   NaN  19.0  \n",
            "400   NaN   9.0  \n",
            "401  94.0  14.0  \n",
            "402   NaN   0.0  \n",
            "\n",
            "[354 rows x 41 columns]\n"
          ]
        }
      ]
    },
    {
      "cell_type": "code",
      "source": [
        "data['S_A '].isnull().sum()"
      ],
      "metadata": {
        "colab": {
          "base_uri": "https://localhost:8080/"
        },
        "id": "C94cLeV0Ut7G",
        "outputId": "37357975-3094-458a-a555-a82a7019eb48"
      },
      "execution_count": 13,
      "outputs": [
        {
          "output_type": "execute_result",
          "data": {
            "text/plain": [
              "0"
            ]
          },
          "metadata": {},
          "execution_count": 13
        }
      ]
    },
    {
      "cell_type": "code",
      "source": [
        "data.shape"
      ],
      "metadata": {
        "colab": {
          "base_uri": "https://localhost:8080/"
        },
        "id": "Jwj06jXlU4hb",
        "outputId": "e4bb10d9-6f14-4cc2-9b81-8b22eef7e0a5"
      },
      "execution_count": 14,
      "outputs": [
        {
          "output_type": "execute_result",
          "data": {
            "text/plain": [
              "(354, 41)"
            ]
          },
          "metadata": {},
          "execution_count": 14
        }
      ]
    },
    {
      "cell_type": "code",
      "source": [
        "# replicate target variable as categorical \n",
        "import numpy as np\n",
        "bins =[-1,0.1,20,np.inf]\n",
        "labels=('Severe_PN','Moderate_PN','No_PN')\n",
        "data['S_A_categories']=pd.cut(data['S_A '],bins=bins,labels=labels) \n",
        "data.head(3)"
      ],
      "metadata": {
        "colab": {
          "base_uri": "https://localhost:8080/",
          "height": 254
        },
        "id": "YhkFxEh4ykSY",
        "outputId": "d783e98f-dc08-49ef-bfb4-7010f7e26249"
      },
      "execution_count": 15,
      "outputs": [
        {
          "output_type": "execute_result",
          "data": {
            "text/plain": [
              "  Age Sex Weight Height  BMI Diet Smoker Activity Level Caffeine  \\\n",
              "0  60   2     95    NaN  NaN    8      1              4        2   \n",
              "1  56   2    NaN    NaN  NaN    7      1              4        2   \n",
              "2  59   2    NaN    NaN  NaN    7      3              4        3   \n",
              "\n",
              "  Working_hours  ... Ohtn DTRs Rom    FBS    TSH VitB12   HDL   LDL  S_A   \\\n",
              "0             0  ...    2    0   1  192.0  0.499  207.3  90.0  76.0   3.0   \n",
              "1             0  ...    2    1   1  207.0   1.03  274.7  52.0   NaN  32.0   \n",
              "2             2  ...    1    0   1  176.0   4.45  357.0   NaN   NaN  28.0   \n",
              "\n",
              "  S_A_categories  \n",
              "0    Moderate_PN  \n",
              "1          No_PN  \n",
              "2          No_PN  \n",
              "\n",
              "[3 rows x 42 columns]"
            ],
            "text/html": [
              "\n",
              "  <div id=\"df-bf024615-2275-429c-afbf-1053e25c31aa\">\n",
              "    <div class=\"colab-df-container\">\n",
              "      <div>\n",
              "<style scoped>\n",
              "    .dataframe tbody tr th:only-of-type {\n",
              "        vertical-align: middle;\n",
              "    }\n",
              "\n",
              "    .dataframe tbody tr th {\n",
              "        vertical-align: top;\n",
              "    }\n",
              "\n",
              "    .dataframe thead th {\n",
              "        text-align: right;\n",
              "    }\n",
              "</style>\n",
              "<table border=\"1\" class=\"dataframe\">\n",
              "  <thead>\n",
              "    <tr style=\"text-align: right;\">\n",
              "      <th></th>\n",
              "      <th>Age</th>\n",
              "      <th>Sex</th>\n",
              "      <th>Weight</th>\n",
              "      <th>Height</th>\n",
              "      <th>BMI</th>\n",
              "      <th>Diet</th>\n",
              "      <th>Smoker</th>\n",
              "      <th>Activity Level</th>\n",
              "      <th>Caffeine</th>\n",
              "      <th>Working_hours</th>\n",
              "      <th>...</th>\n",
              "      <th>Ohtn</th>\n",
              "      <th>DTRs</th>\n",
              "      <th>Rom</th>\n",
              "      <th>FBS</th>\n",
              "      <th>TSH</th>\n",
              "      <th>VitB12</th>\n",
              "      <th>HDL</th>\n",
              "      <th>LDL</th>\n",
              "      <th>S_A</th>\n",
              "      <th>S_A_categories</th>\n",
              "    </tr>\n",
              "  </thead>\n",
              "  <tbody>\n",
              "    <tr>\n",
              "      <th>0</th>\n",
              "      <td>60</td>\n",
              "      <td>2</td>\n",
              "      <td>95</td>\n",
              "      <td>NaN</td>\n",
              "      <td>NaN</td>\n",
              "      <td>8</td>\n",
              "      <td>1</td>\n",
              "      <td>4</td>\n",
              "      <td>2</td>\n",
              "      <td>0</td>\n",
              "      <td>...</td>\n",
              "      <td>2</td>\n",
              "      <td>0</td>\n",
              "      <td>1</td>\n",
              "      <td>192.0</td>\n",
              "      <td>0.499</td>\n",
              "      <td>207.3</td>\n",
              "      <td>90.0</td>\n",
              "      <td>76.0</td>\n",
              "      <td>3.0</td>\n",
              "      <td>Moderate_PN</td>\n",
              "    </tr>\n",
              "    <tr>\n",
              "      <th>1</th>\n",
              "      <td>56</td>\n",
              "      <td>2</td>\n",
              "      <td>NaN</td>\n",
              "      <td>NaN</td>\n",
              "      <td>NaN</td>\n",
              "      <td>7</td>\n",
              "      <td>1</td>\n",
              "      <td>4</td>\n",
              "      <td>2</td>\n",
              "      <td>0</td>\n",
              "      <td>...</td>\n",
              "      <td>2</td>\n",
              "      <td>1</td>\n",
              "      <td>1</td>\n",
              "      <td>207.0</td>\n",
              "      <td>1.03</td>\n",
              "      <td>274.7</td>\n",
              "      <td>52.0</td>\n",
              "      <td>NaN</td>\n",
              "      <td>32.0</td>\n",
              "      <td>No_PN</td>\n",
              "    </tr>\n",
              "    <tr>\n",
              "      <th>2</th>\n",
              "      <td>59</td>\n",
              "      <td>2</td>\n",
              "      <td>NaN</td>\n",
              "      <td>NaN</td>\n",
              "      <td>NaN</td>\n",
              "      <td>7</td>\n",
              "      <td>3</td>\n",
              "      <td>4</td>\n",
              "      <td>3</td>\n",
              "      <td>2</td>\n",
              "      <td>...</td>\n",
              "      <td>1</td>\n",
              "      <td>0</td>\n",
              "      <td>1</td>\n",
              "      <td>176.0</td>\n",
              "      <td>4.45</td>\n",
              "      <td>357.0</td>\n",
              "      <td>NaN</td>\n",
              "      <td>NaN</td>\n",
              "      <td>28.0</td>\n",
              "      <td>No_PN</td>\n",
              "    </tr>\n",
              "  </tbody>\n",
              "</table>\n",
              "<p>3 rows × 42 columns</p>\n",
              "</div>\n",
              "      <button class=\"colab-df-convert\" onclick=\"convertToInteractive('df-bf024615-2275-429c-afbf-1053e25c31aa')\"\n",
              "              title=\"Convert this dataframe to an interactive table.\"\n",
              "              style=\"display:none;\">\n",
              "        \n",
              "  <svg xmlns=\"http://www.w3.org/2000/svg\" height=\"24px\"viewBox=\"0 0 24 24\"\n",
              "       width=\"24px\">\n",
              "    <path d=\"M0 0h24v24H0V0z\" fill=\"none\"/>\n",
              "    <path d=\"M18.56 5.44l.94 2.06.94-2.06 2.06-.94-2.06-.94-.94-2.06-.94 2.06-2.06.94zm-11 1L8.5 8.5l.94-2.06 2.06-.94-2.06-.94L8.5 2.5l-.94 2.06-2.06.94zm10 10l.94 2.06.94-2.06 2.06-.94-2.06-.94-.94-2.06-.94 2.06-2.06.94z\"/><path d=\"M17.41 7.96l-1.37-1.37c-.4-.4-.92-.59-1.43-.59-.52 0-1.04.2-1.43.59L10.3 9.45l-7.72 7.72c-.78.78-.78 2.05 0 2.83L4 21.41c.39.39.9.59 1.41.59.51 0 1.02-.2 1.41-.59l7.78-7.78 2.81-2.81c.8-.78.8-2.07 0-2.86zM5.41 20L4 18.59l7.72-7.72 1.47 1.35L5.41 20z\"/>\n",
              "  </svg>\n",
              "      </button>\n",
              "      \n",
              "  <style>\n",
              "    .colab-df-container {\n",
              "      display:flex;\n",
              "      flex-wrap:wrap;\n",
              "      gap: 12px;\n",
              "    }\n",
              "\n",
              "    .colab-df-convert {\n",
              "      background-color: #E8F0FE;\n",
              "      border: none;\n",
              "      border-radius: 50%;\n",
              "      cursor: pointer;\n",
              "      display: none;\n",
              "      fill: #1967D2;\n",
              "      height: 32px;\n",
              "      padding: 0 0 0 0;\n",
              "      width: 32px;\n",
              "    }\n",
              "\n",
              "    .colab-df-convert:hover {\n",
              "      background-color: #E2EBFA;\n",
              "      box-shadow: 0px 1px 2px rgba(60, 64, 67, 0.3), 0px 1px 3px 1px rgba(60, 64, 67, 0.15);\n",
              "      fill: #174EA6;\n",
              "    }\n",
              "\n",
              "    [theme=dark] .colab-df-convert {\n",
              "      background-color: #3B4455;\n",
              "      fill: #D2E3FC;\n",
              "    }\n",
              "\n",
              "    [theme=dark] .colab-df-convert:hover {\n",
              "      background-color: #434B5C;\n",
              "      box-shadow: 0px 1px 3px 1px rgba(0, 0, 0, 0.15);\n",
              "      filter: drop-shadow(0px 1px 2px rgba(0, 0, 0, 0.3));\n",
              "      fill: #FFFFFF;\n",
              "    }\n",
              "  </style>\n",
              "\n",
              "      <script>\n",
              "        const buttonEl =\n",
              "          document.querySelector('#df-bf024615-2275-429c-afbf-1053e25c31aa button.colab-df-convert');\n",
              "        buttonEl.style.display =\n",
              "          google.colab.kernel.accessAllowed ? 'block' : 'none';\n",
              "\n",
              "        async function convertToInteractive(key) {\n",
              "          const element = document.querySelector('#df-bf024615-2275-429c-afbf-1053e25c31aa');\n",
              "          const dataTable =\n",
              "            await google.colab.kernel.invokeFunction('convertToInteractive',\n",
              "                                                     [key], {});\n",
              "          if (!dataTable) return;\n",
              "\n",
              "          const docLinkHtml = 'Like what you see? Visit the ' +\n",
              "            '<a target=\"_blank\" href=https://colab.research.google.com/notebooks/data_table.ipynb>data table notebook</a>'\n",
              "            + ' to learn more about interactive tables.';\n",
              "          element.innerHTML = '';\n",
              "          dataTable['output_type'] = 'display_data';\n",
              "          await google.colab.output.renderOutput(dataTable, element);\n",
              "          const docLink = document.createElement('div');\n",
              "          docLink.innerHTML = docLinkHtml;\n",
              "          element.appendChild(docLink);\n",
              "        }\n",
              "      </script>\n",
              "    </div>\n",
              "  </div>\n",
              "  "
            ]
          },
          "metadata": {},
          "execution_count": 15
        }
      ]
    },
    {
      "cell_type": "code",
      "source": [
        "data = data.replace(['-','/'],np.nan)"
      ],
      "metadata": {
        "id": "4eS2vlYjwyZ0"
      },
      "execution_count": 16,
      "outputs": []
    },
    {
      "cell_type": "code",
      "source": [
        "# further cleaning of data \n",
        "data['TSH']=data['TSH'].map(lambda x: str(x).lstrip('<'))\n",
        "data['TSH']=data['TSH'].astype('float32')"
      ],
      "metadata": {
        "id": "Dvk4GEOUxSJY"
      },
      "execution_count": 17,
      "outputs": []
    },
    {
      "cell_type": "code",
      "source": [
        "# use appropriate data type \n",
        "data['Age']=data['Age'].astype('float32') \n",
        "data['Weight']=data['Weight'].astype('float32')\n",
        "data['Height']=data['Height'].astype('float32')\n",
        "data['BMI']=data['BMI'].astype('float32')\n",
        "data['Working_hours']=data['Working_hours'].astype('float32')\n",
        "data['Driving_hours']=data['Driving_hours'].astype('float32')\n",
        "data['AgeO']=data['AgeO'].astype('float32')\n",
        "data['HR_L']=data['HR_L'].astype('float32')\n",
        "data['BP_L_Sys']=data['BP_L_Sys'].astype('float32')\n",
        "data['BP_L_Dias']=data['BP_L_Dias'].astype('float32')\n",
        "data['HR_S']=data['HR_S'].astype('float32')\n",
        "data['BP_S_Sys']=data['BP_S_Sys'].astype('float32')\n",
        "data['BP_S_Dias']=data['BP_S_Dias'].astype('float32')\n"
      ],
      "metadata": {
        "id": "I3Dhfju9uE2Z"
      },
      "execution_count": 18,
      "outputs": []
    },
    {
      "cell_type": "code",
      "source": [
        "data.columns"
      ],
      "metadata": {
        "colab": {
          "base_uri": "https://localhost:8080/"
        },
        "id": "VfzXCdEi0bxS",
        "outputId": "130feefb-2fe5-4a15-a26f-42371c8e0a79"
      },
      "execution_count": 19,
      "outputs": [
        {
          "output_type": "execute_result",
          "data": {
            "text/plain": [
              "Index(['Age', 'Sex', 'Weight', 'Height', 'BMI', 'Diet', 'Smoker',\n",
              "       'Activity Level', 'Caffeine', 'Working_hours', 'Driving_hours',\n",
              "       'Family_stress', 'Hypertension', 'Renal_disease', 'Hyperlipidemia',\n",
              "       'Hyperthyroidism', 'Hypothyroidism', 'Retinopathy', 'DM', 'AgeO',\n",
              "       'Modification', 'Pain', 'Diurnal', 'Coldness', 'Tingling', 'Alloydnia',\n",
              "       'HR_L', 'BP_L_Sys', 'BP_L_Dias', 'HR_S', 'BP_S_Sys', 'BP_S_Dias',\n",
              "       'Ohtn', 'DTRs', 'Rom', 'FBS', 'TSH', 'VitB12', 'HDL', 'LDL', 'S_A ',\n",
              "       'S_A_categories'],\n",
              "      dtype='object')"
            ]
          },
          "metadata": {},
          "execution_count": 19
        }
      ]
    },
    {
      "cell_type": "code",
      "source": [
        "data.shape"
      ],
      "metadata": {
        "colab": {
          "base_uri": "https://localhost:8080/"
        },
        "id": "QkHs8ki90ztL",
        "outputId": "7b280ee5-37d6-4ead-f88c-4ffdb98e8c86"
      },
      "execution_count": 20,
      "outputs": [
        {
          "output_type": "execute_result",
          "data": {
            "text/plain": [
              "(354, 42)"
            ]
          },
          "metadata": {},
          "execution_count": 20
        }
      ]
    },
    {
      "cell_type": "code",
      "source": [
        "# re-ordering features by order so the pipeline works properly \n",
        "data=data[['Age', 'Sex', 'HR_L', 'BP_L_Sys', 'BP_L_Dias', 'HR_S', 'BP_S_Sys', 'BP_S_Dias',\n",
        "       'Ohtn', 'DTRs', 'Rom', 'FBS', 'TSH', 'VitB12', 'HDL', 'LDL','Weight', 'Height', 'BMI', 'Diet', 'Smoker',\n",
        "       'Activity Level', 'Caffeine', 'Working_hours', 'Driving_hours',\n",
        "       'Family_stress', 'Hypertension', 'Renal_disease', 'Hyperlipidemia',\n",
        "       'Hyperthyroidism', 'Hypothyroidism', 'Retinopathy', 'DM', 'AgeO',\n",
        "       'Modification', 'Pain', 'Diurnal', 'Coldness', 'Tingling', 'Alloydnia','S_A ',\n",
        "       'S_A_categories']]"
      ],
      "metadata": {
        "id": "RWJRORIZ02vZ"
      },
      "execution_count": 21,
      "outputs": []
    },
    {
      "cell_type": "markdown",
      "source": [
        "# Data Splitting "
      ],
      "metadata": {
        "id": "GUn1DE6hfqRY"
      }
    },
    {
      "cell_type": "code",
      "source": [
        "X=data.drop(['S_A_categories','S_A '],axis=1) \n",
        "y_cat=data['S_A_categories']\n",
        "y_num=data['S_A ']"
      ],
      "metadata": {
        "id": "qrFQpQJGdKbe"
      },
      "execution_count": 22,
      "outputs": []
    },
    {
      "cell_type": "code",
      "source": [
        "y_cat=data['S_A_categories'].map({\n",
        "    'Severe_PN':0,\n",
        "    'Moderate_PN':1,\n",
        "    'No_PN':2\n",
        "}) \n"
      ],
      "metadata": {
        "id": "SNs4Cc-Pj5y5"
      },
      "execution_count": 23,
      "outputs": []
    },
    {
      "cell_type": "code",
      "source": [
        "from sklearn.model_selection import train_test_split \n",
        "X_train,X_test,y_train,y_test = train_test_split(X,y_cat,test_size=0.4,stratify=y_cat,random_state=0)\n",
        "X_train_val,X_val,y_train_val,y_val=train_test_split(X_train,y_train,test_size=0.4,stratify=y_train,random_state=0)"
      ],
      "metadata": {
        "id": "oOEWu8XudKeB"
      },
      "execution_count": 24,
      "outputs": []
    },
    {
      "cell_type": "code",
      "source": [
        "# merge categories 1 and 2 with 3 as we only have one observation for category 1 and one for category 2 \n",
        "# one limitation is that some features does not have enough observation for some subcategories. \n",
        "# convert to string so pipeline works\n",
        "X_train_val['DTRs']=X_train_val['DTRs'].replace('3','2')\n",
        "X_train_val['DTRs']=X_train_val['DTRs'].astype(str)\n",
        "X_train_val['Diet']=X_train_val['Diet'].replace(['5','3','9','2'],'6')\n",
        "X_train_val['Diet']=X_train_val['Diet'].astype(str)"
      ],
      "metadata": {
        "id": "pOnocAYgmBAJ"
      },
      "execution_count": 25,
      "outputs": []
    },
    {
      "cell_type": "code",
      "source": [
        "X_train_val.columns"
      ],
      "metadata": {
        "colab": {
          "base_uri": "https://localhost:8080/"
        },
        "id": "4JygPb1txxGN",
        "outputId": "fcff0d4a-13bc-4d51-e33d-5e568b3e130f"
      },
      "execution_count": 26,
      "outputs": [
        {
          "output_type": "execute_result",
          "data": {
            "text/plain": [
              "Index(['Age', 'Sex', 'HR_L', 'BP_L_Sys', 'BP_L_Dias', 'HR_S', 'BP_S_Sys',\n",
              "       'BP_S_Dias', 'Ohtn', 'DTRs', 'Rom', 'FBS', 'TSH', 'VitB12', 'HDL',\n",
              "       'LDL', 'Weight', 'Height', 'BMI', 'Diet', 'Smoker', 'Activity Level',\n",
              "       'Caffeine', 'Working_hours', 'Driving_hours', 'Family_stress',\n",
              "       'Hypertension', 'Renal_disease', 'Hyperlipidemia', 'Hyperthyroidism',\n",
              "       'Hypothyroidism', 'Retinopathy', 'DM', 'AgeO', 'Modification', 'Pain',\n",
              "       'Diurnal', 'Coldness', 'Tingling', 'Alloydnia'],\n",
              "      dtype='object')"
            ]
          },
          "metadata": {},
          "execution_count": 26
        }
      ]
    },
    {
      "cell_type": "markdown",
      "source": [
        "#Data Exploration"
      ],
      "metadata": {
        "id": "j_mPyEmf8K7h"
      }
    },
    {
      "cell_type": "code",
      "source": [
        "# using new variables names just for exploration \n",
        "from sklearn.model_selection import train_test_split \n",
        "X_train1,X_test1,y_train1,y_test1 = train_test_split(X,y_num,test_size=0.4,random_state=0)\n",
        "X_train_val1,X_val1,y_train_val1,y_val1=train_test_split(X_train1,y_train1,test_size=0.4,random_state=0)"
      ],
      "metadata": {
        "id": "dJN8Sp1r8nrQ"
      },
      "execution_count": 27,
      "outputs": []
    },
    {
      "cell_type": "code",
      "source": [
        "# extracting numerical variables \n",
        "X_train_val_explor_numeric= X_train_val1.select_dtypes(include=[np.number]) \n",
        "X_train_val_explor_numeric =X_train_val_explor_numeric.reset_index()\n",
        "X_train_val_explor_numeric"
      ],
      "metadata": {
        "id": "CSUWjhvz56Fd",
        "colab": {
          "base_uri": "https://localhost:8080/",
          "height": 488
        },
        "outputId": "311e956f-29bc-48a7-e951-90cb15206663"
      },
      "execution_count": 28,
      "outputs": [
        {
          "output_type": "execute_result",
          "data": {
            "text/plain": [
              "     index   Age  HR_L  BP_L_Sys  BP_L_Dias  HR_S  BP_S_Sys  BP_S_Dias    FBS  \\\n",
              "0       37  50.0  91.0     130.0       71.0  85.0     117.0       71.0  189.0   \n",
              "1      347  61.0  75.0     155.0       77.0  74.0     153.0       77.0  113.0   \n",
              "2      194  51.0  88.0     163.0       99.0  95.0     151.0       94.0  125.0   \n",
              "3      190  69.0  62.0     167.0       62.0  54.0     144.0       58.0  102.0   \n",
              "4       67  62.0  63.0     121.0       59.0  70.0     109.0       65.0   98.0   \n",
              "..     ...   ...   ...       ...        ...   ...       ...        ...    ...   \n",
              "122    178  57.0  73.0     131.0       71.0  74.0     124.0       76.0  125.0   \n",
              "123    198  71.0  79.0     154.0       68.0  84.0     130.0       66.0  167.0   \n",
              "124    340  49.0  65.0     127.0       54.0  70.0     104.0       65.0    NaN   \n",
              "125    379  71.0  79.0     159.0       81.0  83.0     134.0       83.0  164.0   \n",
              "126     32  47.0  73.0     176.0      110.0  84.0     168.0      103.0   99.0   \n",
              "\n",
              "       TSH  VitB12   HDL   LDL  Weight  Height        BMI  Working_hours  \\\n",
              "0    1.140   214.7  52.0  80.0    68.0    1.60  26.562500            5.0   \n",
              "1    0.873   280.9   NaN   NaN    80.0    1.58  32.046146            0.0   \n",
              "2    2.230   250.3   NaN   NaN    91.0    1.70  31.487888            7.0   \n",
              "3    1.100   202.2   NaN   NaN    76.0    1.73  25.393431           10.0   \n",
              "4    0.973   480.0   NaN   NaN    86.0    1.73  28.734673            3.0   \n",
              "..     ...     ...   ...   ...     ...     ...        ...            ...   \n",
              "122  6.340   965.9   NaN   NaN    70.0    1.72  23.661438            0.0   \n",
              "123  1.180   275.8   NaN   NaN    63.0    1.55  26.222685            6.0   \n",
              "124    NaN     NaN   NaN   NaN    95.0    1.68  33.659298            0.0   \n",
              "125  0.609   378.4   NaN   NaN    80.0    1.58  32.046146            0.0   \n",
              "126  1.130   272.0   NaN   NaN    79.0    1.60  30.859375            0.0   \n",
              "\n",
              "     Driving_hours  AgeO  \n",
              "0              0.0  44.0  \n",
              "1              0.0  60.0  \n",
              "2              0.5  49.0  \n",
              "3              0.0  64.0  \n",
              "4              0.5  55.0  \n",
              "..             ...   ...  \n",
              "122            0.0  54.0  \n",
              "123            0.0  32.0  \n",
              "124            0.0  48.0  \n",
              "125            0.0  61.0  \n",
              "126            0.0  46.0  \n",
              "\n",
              "[127 rows x 19 columns]"
            ],
            "text/html": [
              "\n",
              "  <div id=\"df-bf91df50-a3f2-4605-8b3a-fd0dfdfd877c\">\n",
              "    <div class=\"colab-df-container\">\n",
              "      <div>\n",
              "<style scoped>\n",
              "    .dataframe tbody tr th:only-of-type {\n",
              "        vertical-align: middle;\n",
              "    }\n",
              "\n",
              "    .dataframe tbody tr th {\n",
              "        vertical-align: top;\n",
              "    }\n",
              "\n",
              "    .dataframe thead th {\n",
              "        text-align: right;\n",
              "    }\n",
              "</style>\n",
              "<table border=\"1\" class=\"dataframe\">\n",
              "  <thead>\n",
              "    <tr style=\"text-align: right;\">\n",
              "      <th></th>\n",
              "      <th>index</th>\n",
              "      <th>Age</th>\n",
              "      <th>HR_L</th>\n",
              "      <th>BP_L_Sys</th>\n",
              "      <th>BP_L_Dias</th>\n",
              "      <th>HR_S</th>\n",
              "      <th>BP_S_Sys</th>\n",
              "      <th>BP_S_Dias</th>\n",
              "      <th>FBS</th>\n",
              "      <th>TSH</th>\n",
              "      <th>VitB12</th>\n",
              "      <th>HDL</th>\n",
              "      <th>LDL</th>\n",
              "      <th>Weight</th>\n",
              "      <th>Height</th>\n",
              "      <th>BMI</th>\n",
              "      <th>Working_hours</th>\n",
              "      <th>Driving_hours</th>\n",
              "      <th>AgeO</th>\n",
              "    </tr>\n",
              "  </thead>\n",
              "  <tbody>\n",
              "    <tr>\n",
              "      <th>0</th>\n",
              "      <td>37</td>\n",
              "      <td>50.0</td>\n",
              "      <td>91.0</td>\n",
              "      <td>130.0</td>\n",
              "      <td>71.0</td>\n",
              "      <td>85.0</td>\n",
              "      <td>117.0</td>\n",
              "      <td>71.0</td>\n",
              "      <td>189.0</td>\n",
              "      <td>1.140</td>\n",
              "      <td>214.7</td>\n",
              "      <td>52.0</td>\n",
              "      <td>80.0</td>\n",
              "      <td>68.0</td>\n",
              "      <td>1.60</td>\n",
              "      <td>26.562500</td>\n",
              "      <td>5.0</td>\n",
              "      <td>0.0</td>\n",
              "      <td>44.0</td>\n",
              "    </tr>\n",
              "    <tr>\n",
              "      <th>1</th>\n",
              "      <td>347</td>\n",
              "      <td>61.0</td>\n",
              "      <td>75.0</td>\n",
              "      <td>155.0</td>\n",
              "      <td>77.0</td>\n",
              "      <td>74.0</td>\n",
              "      <td>153.0</td>\n",
              "      <td>77.0</td>\n",
              "      <td>113.0</td>\n",
              "      <td>0.873</td>\n",
              "      <td>280.9</td>\n",
              "      <td>NaN</td>\n",
              "      <td>NaN</td>\n",
              "      <td>80.0</td>\n",
              "      <td>1.58</td>\n",
              "      <td>32.046146</td>\n",
              "      <td>0.0</td>\n",
              "      <td>0.0</td>\n",
              "      <td>60.0</td>\n",
              "    </tr>\n",
              "    <tr>\n",
              "      <th>2</th>\n",
              "      <td>194</td>\n",
              "      <td>51.0</td>\n",
              "      <td>88.0</td>\n",
              "      <td>163.0</td>\n",
              "      <td>99.0</td>\n",
              "      <td>95.0</td>\n",
              "      <td>151.0</td>\n",
              "      <td>94.0</td>\n",
              "      <td>125.0</td>\n",
              "      <td>2.230</td>\n",
              "      <td>250.3</td>\n",
              "      <td>NaN</td>\n",
              "      <td>NaN</td>\n",
              "      <td>91.0</td>\n",
              "      <td>1.70</td>\n",
              "      <td>31.487888</td>\n",
              "      <td>7.0</td>\n",
              "      <td>0.5</td>\n",
              "      <td>49.0</td>\n",
              "    </tr>\n",
              "    <tr>\n",
              "      <th>3</th>\n",
              "      <td>190</td>\n",
              "      <td>69.0</td>\n",
              "      <td>62.0</td>\n",
              "      <td>167.0</td>\n",
              "      <td>62.0</td>\n",
              "      <td>54.0</td>\n",
              "      <td>144.0</td>\n",
              "      <td>58.0</td>\n",
              "      <td>102.0</td>\n",
              "      <td>1.100</td>\n",
              "      <td>202.2</td>\n",
              "      <td>NaN</td>\n",
              "      <td>NaN</td>\n",
              "      <td>76.0</td>\n",
              "      <td>1.73</td>\n",
              "      <td>25.393431</td>\n",
              "      <td>10.0</td>\n",
              "      <td>0.0</td>\n",
              "      <td>64.0</td>\n",
              "    </tr>\n",
              "    <tr>\n",
              "      <th>4</th>\n",
              "      <td>67</td>\n",
              "      <td>62.0</td>\n",
              "      <td>63.0</td>\n",
              "      <td>121.0</td>\n",
              "      <td>59.0</td>\n",
              "      <td>70.0</td>\n",
              "      <td>109.0</td>\n",
              "      <td>65.0</td>\n",
              "      <td>98.0</td>\n",
              "      <td>0.973</td>\n",
              "      <td>480.0</td>\n",
              "      <td>NaN</td>\n",
              "      <td>NaN</td>\n",
              "      <td>86.0</td>\n",
              "      <td>1.73</td>\n",
              "      <td>28.734673</td>\n",
              "      <td>3.0</td>\n",
              "      <td>0.5</td>\n",
              "      <td>55.0</td>\n",
              "    </tr>\n",
              "    <tr>\n",
              "      <th>...</th>\n",
              "      <td>...</td>\n",
              "      <td>...</td>\n",
              "      <td>...</td>\n",
              "      <td>...</td>\n",
              "      <td>...</td>\n",
              "      <td>...</td>\n",
              "      <td>...</td>\n",
              "      <td>...</td>\n",
              "      <td>...</td>\n",
              "      <td>...</td>\n",
              "      <td>...</td>\n",
              "      <td>...</td>\n",
              "      <td>...</td>\n",
              "      <td>...</td>\n",
              "      <td>...</td>\n",
              "      <td>...</td>\n",
              "      <td>...</td>\n",
              "      <td>...</td>\n",
              "      <td>...</td>\n",
              "    </tr>\n",
              "    <tr>\n",
              "      <th>122</th>\n",
              "      <td>178</td>\n",
              "      <td>57.0</td>\n",
              "      <td>73.0</td>\n",
              "      <td>131.0</td>\n",
              "      <td>71.0</td>\n",
              "      <td>74.0</td>\n",
              "      <td>124.0</td>\n",
              "      <td>76.0</td>\n",
              "      <td>125.0</td>\n",
              "      <td>6.340</td>\n",
              "      <td>965.9</td>\n",
              "      <td>NaN</td>\n",
              "      <td>NaN</td>\n",
              "      <td>70.0</td>\n",
              "      <td>1.72</td>\n",
              "      <td>23.661438</td>\n",
              "      <td>0.0</td>\n",
              "      <td>0.0</td>\n",
              "      <td>54.0</td>\n",
              "    </tr>\n",
              "    <tr>\n",
              "      <th>123</th>\n",
              "      <td>198</td>\n",
              "      <td>71.0</td>\n",
              "      <td>79.0</td>\n",
              "      <td>154.0</td>\n",
              "      <td>68.0</td>\n",
              "      <td>84.0</td>\n",
              "      <td>130.0</td>\n",
              "      <td>66.0</td>\n",
              "      <td>167.0</td>\n",
              "      <td>1.180</td>\n",
              "      <td>275.8</td>\n",
              "      <td>NaN</td>\n",
              "      <td>NaN</td>\n",
              "      <td>63.0</td>\n",
              "      <td>1.55</td>\n",
              "      <td>26.222685</td>\n",
              "      <td>6.0</td>\n",
              "      <td>0.0</td>\n",
              "      <td>32.0</td>\n",
              "    </tr>\n",
              "    <tr>\n",
              "      <th>124</th>\n",
              "      <td>340</td>\n",
              "      <td>49.0</td>\n",
              "      <td>65.0</td>\n",
              "      <td>127.0</td>\n",
              "      <td>54.0</td>\n",
              "      <td>70.0</td>\n",
              "      <td>104.0</td>\n",
              "      <td>65.0</td>\n",
              "      <td>NaN</td>\n",
              "      <td>NaN</td>\n",
              "      <td>NaN</td>\n",
              "      <td>NaN</td>\n",
              "      <td>NaN</td>\n",
              "      <td>95.0</td>\n",
              "      <td>1.68</td>\n",
              "      <td>33.659298</td>\n",
              "      <td>0.0</td>\n",
              "      <td>0.0</td>\n",
              "      <td>48.0</td>\n",
              "    </tr>\n",
              "    <tr>\n",
              "      <th>125</th>\n",
              "      <td>379</td>\n",
              "      <td>71.0</td>\n",
              "      <td>79.0</td>\n",
              "      <td>159.0</td>\n",
              "      <td>81.0</td>\n",
              "      <td>83.0</td>\n",
              "      <td>134.0</td>\n",
              "      <td>83.0</td>\n",
              "      <td>164.0</td>\n",
              "      <td>0.609</td>\n",
              "      <td>378.4</td>\n",
              "      <td>NaN</td>\n",
              "      <td>NaN</td>\n",
              "      <td>80.0</td>\n",
              "      <td>1.58</td>\n",
              "      <td>32.046146</td>\n",
              "      <td>0.0</td>\n",
              "      <td>0.0</td>\n",
              "      <td>61.0</td>\n",
              "    </tr>\n",
              "    <tr>\n",
              "      <th>126</th>\n",
              "      <td>32</td>\n",
              "      <td>47.0</td>\n",
              "      <td>73.0</td>\n",
              "      <td>176.0</td>\n",
              "      <td>110.0</td>\n",
              "      <td>84.0</td>\n",
              "      <td>168.0</td>\n",
              "      <td>103.0</td>\n",
              "      <td>99.0</td>\n",
              "      <td>1.130</td>\n",
              "      <td>272.0</td>\n",
              "      <td>NaN</td>\n",
              "      <td>NaN</td>\n",
              "      <td>79.0</td>\n",
              "      <td>1.60</td>\n",
              "      <td>30.859375</td>\n",
              "      <td>0.0</td>\n",
              "      <td>0.0</td>\n",
              "      <td>46.0</td>\n",
              "    </tr>\n",
              "  </tbody>\n",
              "</table>\n",
              "<p>127 rows × 19 columns</p>\n",
              "</div>\n",
              "      <button class=\"colab-df-convert\" onclick=\"convertToInteractive('df-bf91df50-a3f2-4605-8b3a-fd0dfdfd877c')\"\n",
              "              title=\"Convert this dataframe to an interactive table.\"\n",
              "              style=\"display:none;\">\n",
              "        \n",
              "  <svg xmlns=\"http://www.w3.org/2000/svg\" height=\"24px\"viewBox=\"0 0 24 24\"\n",
              "       width=\"24px\">\n",
              "    <path d=\"M0 0h24v24H0V0z\" fill=\"none\"/>\n",
              "    <path d=\"M18.56 5.44l.94 2.06.94-2.06 2.06-.94-2.06-.94-.94-2.06-.94 2.06-2.06.94zm-11 1L8.5 8.5l.94-2.06 2.06-.94-2.06-.94L8.5 2.5l-.94 2.06-2.06.94zm10 10l.94 2.06.94-2.06 2.06-.94-2.06-.94-.94-2.06-.94 2.06-2.06.94z\"/><path d=\"M17.41 7.96l-1.37-1.37c-.4-.4-.92-.59-1.43-.59-.52 0-1.04.2-1.43.59L10.3 9.45l-7.72 7.72c-.78.78-.78 2.05 0 2.83L4 21.41c.39.39.9.59 1.41.59.51 0 1.02-.2 1.41-.59l7.78-7.78 2.81-2.81c.8-.78.8-2.07 0-2.86zM5.41 20L4 18.59l7.72-7.72 1.47 1.35L5.41 20z\"/>\n",
              "  </svg>\n",
              "      </button>\n",
              "      \n",
              "  <style>\n",
              "    .colab-df-container {\n",
              "      display:flex;\n",
              "      flex-wrap:wrap;\n",
              "      gap: 12px;\n",
              "    }\n",
              "\n",
              "    .colab-df-convert {\n",
              "      background-color: #E8F0FE;\n",
              "      border: none;\n",
              "      border-radius: 50%;\n",
              "      cursor: pointer;\n",
              "      display: none;\n",
              "      fill: #1967D2;\n",
              "      height: 32px;\n",
              "      padding: 0 0 0 0;\n",
              "      width: 32px;\n",
              "    }\n",
              "\n",
              "    .colab-df-convert:hover {\n",
              "      background-color: #E2EBFA;\n",
              "      box-shadow: 0px 1px 2px rgba(60, 64, 67, 0.3), 0px 1px 3px 1px rgba(60, 64, 67, 0.15);\n",
              "      fill: #174EA6;\n",
              "    }\n",
              "\n",
              "    [theme=dark] .colab-df-convert {\n",
              "      background-color: #3B4455;\n",
              "      fill: #D2E3FC;\n",
              "    }\n",
              "\n",
              "    [theme=dark] .colab-df-convert:hover {\n",
              "      background-color: #434B5C;\n",
              "      box-shadow: 0px 1px 3px 1px rgba(0, 0, 0, 0.15);\n",
              "      filter: drop-shadow(0px 1px 2px rgba(0, 0, 0, 0.3));\n",
              "      fill: #FFFFFF;\n",
              "    }\n",
              "  </style>\n",
              "\n",
              "      <script>\n",
              "        const buttonEl =\n",
              "          document.querySelector('#df-bf91df50-a3f2-4605-8b3a-fd0dfdfd877c button.colab-df-convert');\n",
              "        buttonEl.style.display =\n",
              "          google.colab.kernel.accessAllowed ? 'block' : 'none';\n",
              "\n",
              "        async function convertToInteractive(key) {\n",
              "          const element = document.querySelector('#df-bf91df50-a3f2-4605-8b3a-fd0dfdfd877c');\n",
              "          const dataTable =\n",
              "            await google.colab.kernel.invokeFunction('convertToInteractive',\n",
              "                                                     [key], {});\n",
              "          if (!dataTable) return;\n",
              "\n",
              "          const docLinkHtml = 'Like what you see? Visit the ' +\n",
              "            '<a target=\"_blank\" href=https://colab.research.google.com/notebooks/data_table.ipynb>data table notebook</a>'\n",
              "            + ' to learn more about interactive tables.';\n",
              "          element.innerHTML = '';\n",
              "          dataTable['output_type'] = 'display_data';\n",
              "          await google.colab.output.renderOutput(dataTable, element);\n",
              "          const docLink = document.createElement('div');\n",
              "          docLink.innerHTML = docLinkHtml;\n",
              "          element.appendChild(docLink);\n",
              "        }\n",
              "      </script>\n",
              "    </div>\n",
              "  </div>\n",
              "  "
            ]
          },
          "metadata": {},
          "execution_count": 28
        }
      ]
    },
    {
      "cell_type": "code",
      "source": [
        "y_train_val_explor = y_train_val1.reset_index()\n",
        "y_train_val_explor "
      ],
      "metadata": {
        "id": "hZMQ6xrH5FUa",
        "colab": {
          "base_uri": "https://localhost:8080/",
          "height": 424
        },
        "outputId": "fdb3d0ff-fb6c-4dec-9774-a0467a6741fa"
      },
      "execution_count": 29,
      "outputs": [
        {
          "output_type": "execute_result",
          "data": {
            "text/plain": [
              "     index  S_A \n",
              "0       37  30.0\n",
              "1      347   5.0\n",
              "2      194  17.0\n",
              "3      190  10.0\n",
              "4       67   7.0\n",
              "..     ...   ...\n",
              "122    178  15.0\n",
              "123    198   6.0\n",
              "124    340  32.0\n",
              "125    379  26.0\n",
              "126     32  26.0\n",
              "\n",
              "[127 rows x 2 columns]"
            ],
            "text/html": [
              "\n",
              "  <div id=\"df-b88b5766-f1c3-4259-b166-1dddd9545514\">\n",
              "    <div class=\"colab-df-container\">\n",
              "      <div>\n",
              "<style scoped>\n",
              "    .dataframe tbody tr th:only-of-type {\n",
              "        vertical-align: middle;\n",
              "    }\n",
              "\n",
              "    .dataframe tbody tr th {\n",
              "        vertical-align: top;\n",
              "    }\n",
              "\n",
              "    .dataframe thead th {\n",
              "        text-align: right;\n",
              "    }\n",
              "</style>\n",
              "<table border=\"1\" class=\"dataframe\">\n",
              "  <thead>\n",
              "    <tr style=\"text-align: right;\">\n",
              "      <th></th>\n",
              "      <th>index</th>\n",
              "      <th>S_A</th>\n",
              "    </tr>\n",
              "  </thead>\n",
              "  <tbody>\n",
              "    <tr>\n",
              "      <th>0</th>\n",
              "      <td>37</td>\n",
              "      <td>30.0</td>\n",
              "    </tr>\n",
              "    <tr>\n",
              "      <th>1</th>\n",
              "      <td>347</td>\n",
              "      <td>5.0</td>\n",
              "    </tr>\n",
              "    <tr>\n",
              "      <th>2</th>\n",
              "      <td>194</td>\n",
              "      <td>17.0</td>\n",
              "    </tr>\n",
              "    <tr>\n",
              "      <th>3</th>\n",
              "      <td>190</td>\n",
              "      <td>10.0</td>\n",
              "    </tr>\n",
              "    <tr>\n",
              "      <th>4</th>\n",
              "      <td>67</td>\n",
              "      <td>7.0</td>\n",
              "    </tr>\n",
              "    <tr>\n",
              "      <th>...</th>\n",
              "      <td>...</td>\n",
              "      <td>...</td>\n",
              "    </tr>\n",
              "    <tr>\n",
              "      <th>122</th>\n",
              "      <td>178</td>\n",
              "      <td>15.0</td>\n",
              "    </tr>\n",
              "    <tr>\n",
              "      <th>123</th>\n",
              "      <td>198</td>\n",
              "      <td>6.0</td>\n",
              "    </tr>\n",
              "    <tr>\n",
              "      <th>124</th>\n",
              "      <td>340</td>\n",
              "      <td>32.0</td>\n",
              "    </tr>\n",
              "    <tr>\n",
              "      <th>125</th>\n",
              "      <td>379</td>\n",
              "      <td>26.0</td>\n",
              "    </tr>\n",
              "    <tr>\n",
              "      <th>126</th>\n",
              "      <td>32</td>\n",
              "      <td>26.0</td>\n",
              "    </tr>\n",
              "  </tbody>\n",
              "</table>\n",
              "<p>127 rows × 2 columns</p>\n",
              "</div>\n",
              "      <button class=\"colab-df-convert\" onclick=\"convertToInteractive('df-b88b5766-f1c3-4259-b166-1dddd9545514')\"\n",
              "              title=\"Convert this dataframe to an interactive table.\"\n",
              "              style=\"display:none;\">\n",
              "        \n",
              "  <svg xmlns=\"http://www.w3.org/2000/svg\" height=\"24px\"viewBox=\"0 0 24 24\"\n",
              "       width=\"24px\">\n",
              "    <path d=\"M0 0h24v24H0V0z\" fill=\"none\"/>\n",
              "    <path d=\"M18.56 5.44l.94 2.06.94-2.06 2.06-.94-2.06-.94-.94-2.06-.94 2.06-2.06.94zm-11 1L8.5 8.5l.94-2.06 2.06-.94-2.06-.94L8.5 2.5l-.94 2.06-2.06.94zm10 10l.94 2.06.94-2.06 2.06-.94-2.06-.94-.94-2.06-.94 2.06-2.06.94z\"/><path d=\"M17.41 7.96l-1.37-1.37c-.4-.4-.92-.59-1.43-.59-.52 0-1.04.2-1.43.59L10.3 9.45l-7.72 7.72c-.78.78-.78 2.05 0 2.83L4 21.41c.39.39.9.59 1.41.59.51 0 1.02-.2 1.41-.59l7.78-7.78 2.81-2.81c.8-.78.8-2.07 0-2.86zM5.41 20L4 18.59l7.72-7.72 1.47 1.35L5.41 20z\"/>\n",
              "  </svg>\n",
              "      </button>\n",
              "      \n",
              "  <style>\n",
              "    .colab-df-container {\n",
              "      display:flex;\n",
              "      flex-wrap:wrap;\n",
              "      gap: 12px;\n",
              "    }\n",
              "\n",
              "    .colab-df-convert {\n",
              "      background-color: #E8F0FE;\n",
              "      border: none;\n",
              "      border-radius: 50%;\n",
              "      cursor: pointer;\n",
              "      display: none;\n",
              "      fill: #1967D2;\n",
              "      height: 32px;\n",
              "      padding: 0 0 0 0;\n",
              "      width: 32px;\n",
              "    }\n",
              "\n",
              "    .colab-df-convert:hover {\n",
              "      background-color: #E2EBFA;\n",
              "      box-shadow: 0px 1px 2px rgba(60, 64, 67, 0.3), 0px 1px 3px 1px rgba(60, 64, 67, 0.15);\n",
              "      fill: #174EA6;\n",
              "    }\n",
              "\n",
              "    [theme=dark] .colab-df-convert {\n",
              "      background-color: #3B4455;\n",
              "      fill: #D2E3FC;\n",
              "    }\n",
              "\n",
              "    [theme=dark] .colab-df-convert:hover {\n",
              "      background-color: #434B5C;\n",
              "      box-shadow: 0px 1px 3px 1px rgba(0, 0, 0, 0.15);\n",
              "      filter: drop-shadow(0px 1px 2px rgba(0, 0, 0, 0.3));\n",
              "      fill: #FFFFFF;\n",
              "    }\n",
              "  </style>\n",
              "\n",
              "      <script>\n",
              "        const buttonEl =\n",
              "          document.querySelector('#df-b88b5766-f1c3-4259-b166-1dddd9545514 button.colab-df-convert');\n",
              "        buttonEl.style.display =\n",
              "          google.colab.kernel.accessAllowed ? 'block' : 'none';\n",
              "\n",
              "        async function convertToInteractive(key) {\n",
              "          const element = document.querySelector('#df-b88b5766-f1c3-4259-b166-1dddd9545514');\n",
              "          const dataTable =\n",
              "            await google.colab.kernel.invokeFunction('convertToInteractive',\n",
              "                                                     [key], {});\n",
              "          if (!dataTable) return;\n",
              "\n",
              "          const docLinkHtml = 'Like what you see? Visit the ' +\n",
              "            '<a target=\"_blank\" href=https://colab.research.google.com/notebooks/data_table.ipynb>data table notebook</a>'\n",
              "            + ' to learn more about interactive tables.';\n",
              "          element.innerHTML = '';\n",
              "          dataTable['output_type'] = 'display_data';\n",
              "          await google.colab.output.renderOutput(dataTable, element);\n",
              "          const docLink = document.createElement('div');\n",
              "          docLink.innerHTML = docLinkHtml;\n",
              "          element.appendChild(docLink);\n",
              "        }\n",
              "      </script>\n",
              "    </div>\n",
              "  </div>\n",
              "  "
            ]
          },
          "metadata": {},
          "execution_count": 29
        }
      ]
    },
    {
      "cell_type": "code",
      "source": [
        "# merging X_train_val and y_train_val for exploration purposes only \n",
        "train_val_explor_final = X_train_val_explor_numeric.merge(y_train_val_explor,on='index',how='outer')\n",
        "train_val_explor_final.head(2)"
      ],
      "metadata": {
        "colab": {
          "base_uri": "https://localhost:8080/",
          "height": 176
        },
        "id": "cWjTYsER5KjG",
        "outputId": "c7a3eeee-1df0-49d8-8ffd-c9de12b38d7e"
      },
      "execution_count": 30,
      "outputs": [
        {
          "output_type": "execute_result",
          "data": {
            "text/plain": [
              "   index   Age  HR_L  BP_L_Sys  BP_L_Dias  HR_S  BP_S_Sys  BP_S_Dias    FBS  \\\n",
              "0     37  50.0  91.0     130.0       71.0  85.0     117.0       71.0  189.0   \n",
              "1    347  61.0  75.0     155.0       77.0  74.0     153.0       77.0  113.0   \n",
              "\n",
              "     TSH  VitB12   HDL   LDL  Weight  Height        BMI  Working_hours  \\\n",
              "0  1.140   214.7  52.0  80.0    68.0    1.60  26.562500            5.0   \n",
              "1  0.873   280.9   NaN   NaN    80.0    1.58  32.046146            0.0   \n",
              "\n",
              "   Driving_hours  AgeO  S_A   \n",
              "0            0.0  44.0  30.0  \n",
              "1            0.0  60.0   5.0  "
            ],
            "text/html": [
              "\n",
              "  <div id=\"df-8f241031-07d2-4b6e-b8f1-0a39c864b739\">\n",
              "    <div class=\"colab-df-container\">\n",
              "      <div>\n",
              "<style scoped>\n",
              "    .dataframe tbody tr th:only-of-type {\n",
              "        vertical-align: middle;\n",
              "    }\n",
              "\n",
              "    .dataframe tbody tr th {\n",
              "        vertical-align: top;\n",
              "    }\n",
              "\n",
              "    .dataframe thead th {\n",
              "        text-align: right;\n",
              "    }\n",
              "</style>\n",
              "<table border=\"1\" class=\"dataframe\">\n",
              "  <thead>\n",
              "    <tr style=\"text-align: right;\">\n",
              "      <th></th>\n",
              "      <th>index</th>\n",
              "      <th>Age</th>\n",
              "      <th>HR_L</th>\n",
              "      <th>BP_L_Sys</th>\n",
              "      <th>BP_L_Dias</th>\n",
              "      <th>HR_S</th>\n",
              "      <th>BP_S_Sys</th>\n",
              "      <th>BP_S_Dias</th>\n",
              "      <th>FBS</th>\n",
              "      <th>TSH</th>\n",
              "      <th>VitB12</th>\n",
              "      <th>HDL</th>\n",
              "      <th>LDL</th>\n",
              "      <th>Weight</th>\n",
              "      <th>Height</th>\n",
              "      <th>BMI</th>\n",
              "      <th>Working_hours</th>\n",
              "      <th>Driving_hours</th>\n",
              "      <th>AgeO</th>\n",
              "      <th>S_A</th>\n",
              "    </tr>\n",
              "  </thead>\n",
              "  <tbody>\n",
              "    <tr>\n",
              "      <th>0</th>\n",
              "      <td>37</td>\n",
              "      <td>50.0</td>\n",
              "      <td>91.0</td>\n",
              "      <td>130.0</td>\n",
              "      <td>71.0</td>\n",
              "      <td>85.0</td>\n",
              "      <td>117.0</td>\n",
              "      <td>71.0</td>\n",
              "      <td>189.0</td>\n",
              "      <td>1.140</td>\n",
              "      <td>214.7</td>\n",
              "      <td>52.0</td>\n",
              "      <td>80.0</td>\n",
              "      <td>68.0</td>\n",
              "      <td>1.60</td>\n",
              "      <td>26.562500</td>\n",
              "      <td>5.0</td>\n",
              "      <td>0.0</td>\n",
              "      <td>44.0</td>\n",
              "      <td>30.0</td>\n",
              "    </tr>\n",
              "    <tr>\n",
              "      <th>1</th>\n",
              "      <td>347</td>\n",
              "      <td>61.0</td>\n",
              "      <td>75.0</td>\n",
              "      <td>155.0</td>\n",
              "      <td>77.0</td>\n",
              "      <td>74.0</td>\n",
              "      <td>153.0</td>\n",
              "      <td>77.0</td>\n",
              "      <td>113.0</td>\n",
              "      <td>0.873</td>\n",
              "      <td>280.9</td>\n",
              "      <td>NaN</td>\n",
              "      <td>NaN</td>\n",
              "      <td>80.0</td>\n",
              "      <td>1.58</td>\n",
              "      <td>32.046146</td>\n",
              "      <td>0.0</td>\n",
              "      <td>0.0</td>\n",
              "      <td>60.0</td>\n",
              "      <td>5.0</td>\n",
              "    </tr>\n",
              "  </tbody>\n",
              "</table>\n",
              "</div>\n",
              "      <button class=\"colab-df-convert\" onclick=\"convertToInteractive('df-8f241031-07d2-4b6e-b8f1-0a39c864b739')\"\n",
              "              title=\"Convert this dataframe to an interactive table.\"\n",
              "              style=\"display:none;\">\n",
              "        \n",
              "  <svg xmlns=\"http://www.w3.org/2000/svg\" height=\"24px\"viewBox=\"0 0 24 24\"\n",
              "       width=\"24px\">\n",
              "    <path d=\"M0 0h24v24H0V0z\" fill=\"none\"/>\n",
              "    <path d=\"M18.56 5.44l.94 2.06.94-2.06 2.06-.94-2.06-.94-.94-2.06-.94 2.06-2.06.94zm-11 1L8.5 8.5l.94-2.06 2.06-.94-2.06-.94L8.5 2.5l-.94 2.06-2.06.94zm10 10l.94 2.06.94-2.06 2.06-.94-2.06-.94-.94-2.06-.94 2.06-2.06.94z\"/><path d=\"M17.41 7.96l-1.37-1.37c-.4-.4-.92-.59-1.43-.59-.52 0-1.04.2-1.43.59L10.3 9.45l-7.72 7.72c-.78.78-.78 2.05 0 2.83L4 21.41c.39.39.9.59 1.41.59.51 0 1.02-.2 1.41-.59l7.78-7.78 2.81-2.81c.8-.78.8-2.07 0-2.86zM5.41 20L4 18.59l7.72-7.72 1.47 1.35L5.41 20z\"/>\n",
              "  </svg>\n",
              "      </button>\n",
              "      \n",
              "  <style>\n",
              "    .colab-df-container {\n",
              "      display:flex;\n",
              "      flex-wrap:wrap;\n",
              "      gap: 12px;\n",
              "    }\n",
              "\n",
              "    .colab-df-convert {\n",
              "      background-color: #E8F0FE;\n",
              "      border: none;\n",
              "      border-radius: 50%;\n",
              "      cursor: pointer;\n",
              "      display: none;\n",
              "      fill: #1967D2;\n",
              "      height: 32px;\n",
              "      padding: 0 0 0 0;\n",
              "      width: 32px;\n",
              "    }\n",
              "\n",
              "    .colab-df-convert:hover {\n",
              "      background-color: #E2EBFA;\n",
              "      box-shadow: 0px 1px 2px rgba(60, 64, 67, 0.3), 0px 1px 3px 1px rgba(60, 64, 67, 0.15);\n",
              "      fill: #174EA6;\n",
              "    }\n",
              "\n",
              "    [theme=dark] .colab-df-convert {\n",
              "      background-color: #3B4455;\n",
              "      fill: #D2E3FC;\n",
              "    }\n",
              "\n",
              "    [theme=dark] .colab-df-convert:hover {\n",
              "      background-color: #434B5C;\n",
              "      box-shadow: 0px 1px 3px 1px rgba(0, 0, 0, 0.15);\n",
              "      filter: drop-shadow(0px 1px 2px rgba(0, 0, 0, 0.3));\n",
              "      fill: #FFFFFF;\n",
              "    }\n",
              "  </style>\n",
              "\n",
              "      <script>\n",
              "        const buttonEl =\n",
              "          document.querySelector('#df-8f241031-07d2-4b6e-b8f1-0a39c864b739 button.colab-df-convert');\n",
              "        buttonEl.style.display =\n",
              "          google.colab.kernel.accessAllowed ? 'block' : 'none';\n",
              "\n",
              "        async function convertToInteractive(key) {\n",
              "          const element = document.querySelector('#df-8f241031-07d2-4b6e-b8f1-0a39c864b739');\n",
              "          const dataTable =\n",
              "            await google.colab.kernel.invokeFunction('convertToInteractive',\n",
              "                                                     [key], {});\n",
              "          if (!dataTable) return;\n",
              "\n",
              "          const docLinkHtml = 'Like what you see? Visit the ' +\n",
              "            '<a target=\"_blank\" href=https://colab.research.google.com/notebooks/data_table.ipynb>data table notebook</a>'\n",
              "            + ' to learn more about interactive tables.';\n",
              "          element.innerHTML = '';\n",
              "          dataTable['output_type'] = 'display_data';\n",
              "          await google.colab.output.renderOutput(dataTable, element);\n",
              "          const docLink = document.createElement('div');\n",
              "          docLink.innerHTML = docLinkHtml;\n",
              "          element.appendChild(docLink);\n",
              "        }\n",
              "      </script>\n",
              "    </div>\n",
              "  </div>\n",
              "  "
            ]
          },
          "metadata": {},
          "execution_count": 30
        }
      ]
    },
    {
      "cell_type": "code",
      "source": [
        "# replace NaN for exploration purposes on X_train_val dataset only \n",
        "train_val_explor_final = train_val_explor_final.fillna(train_val_explor_final.mean())\n",
        "train_val_explor_final.columns"
      ],
      "metadata": {
        "colab": {
          "base_uri": "https://localhost:8080/"
        },
        "id": "gLVe51_r9Ggu",
        "outputId": "55c6d992-d50c-413d-8c5f-fa6cb8d6481d"
      },
      "execution_count": 31,
      "outputs": [
        {
          "output_type": "execute_result",
          "data": {
            "text/plain": [
              "Index(['index', 'Age', 'HR_L', 'BP_L_Sys', 'BP_L_Dias', 'HR_S', 'BP_S_Sys',\n",
              "       'BP_S_Dias', 'FBS', 'TSH', 'VitB12', 'HDL', 'LDL', 'Weight', 'Height',\n",
              "       'BMI', 'Working_hours', 'Driving_hours', 'AgeO', 'S_A '],\n",
              "      dtype='object')"
            ]
          },
          "metadata": {},
          "execution_count": 31
        }
      ]
    },
    {
      "cell_type": "code",
      "source": [
        "# extracting categorical variables \n",
        "X_train_val_explor_cat= X_train_val1.select_dtypes(exclude=[np.number]) \n",
        "X_train_val_explor_cat=X_train_val_explor_cat.reset_index()\n",
        "X_train_val_explor_cat.columns"
      ],
      "metadata": {
        "colab": {
          "base_uri": "https://localhost:8080/"
        },
        "id": "olqXbl0yBouX",
        "outputId": "56750d58-54a9-4dc3-d587-14d664d2cf79"
      },
      "execution_count": 32,
      "outputs": [
        {
          "output_type": "execute_result",
          "data": {
            "text/plain": [
              "Index(['index', 'Sex', 'Ohtn', 'DTRs', 'Rom', 'Diet', 'Smoker',\n",
              "       'Activity Level', 'Caffeine', 'Family_stress', 'Hypertension',\n",
              "       'Renal_disease', 'Hyperlipidemia', 'Hyperthyroidism', 'Hypothyroidism',\n",
              "       'Retinopathy', 'DM', 'Modification', 'Pain', 'Diurnal', 'Coldness',\n",
              "       'Tingling', 'Alloydnia'],\n",
              "      dtype='object')"
            ]
          },
          "metadata": {},
          "execution_count": 32
        }
      ]
    },
    {
      "cell_type": "code",
      "source": [
        "# replace NaN with Mode for categorical v \n",
        "X_train_val_explor_cat= X_train_val_explor_cat.apply(lambda x: x.fillna(x.value_counts().index[0]))\n",
        "X_train_val_explor_cat=X_train_val_explor_cat.reset_index()\n",
        "X_train_val_explor_cat.head(3)"
      ],
      "metadata": {
        "colab": {
          "base_uri": "https://localhost:8080/",
          "height": 254
        },
        "id": "a5hp7V4FCPYQ",
        "outputId": "fde25310-950f-4336-ae41-344665a2ffd6"
      },
      "execution_count": 33,
      "outputs": [
        {
          "output_type": "execute_result",
          "data": {
            "text/plain": [
              "   level_0  index Sex Ohtn DTRs Rom Diet Smoker Activity Level Caffeine  ...  \\\n",
              "0        0     37   2    2    0   1    1      3              4        4  ...   \n",
              "1        1    347   2    2    2   1   10      3              4        3  ...   \n",
              "2        2    194   1    2    0   1    7      1              2        4  ...   \n",
              "\n",
              "  Hyperthyroidism Hypothyroidism Retinopathy DM Modification Pain Diurnal  \\\n",
              "0               2              2           2  2            2    1       2   \n",
              "1               2              2           2  2            1    2       1   \n",
              "2               2              2           1  2            2    1       1   \n",
              "\n",
              "  Coldness Tingling Alloydnia  \n",
              "0        2        1         1  \n",
              "1        1        1         1  \n",
              "2        2        2         2  \n",
              "\n",
              "[3 rows x 24 columns]"
            ],
            "text/html": [
              "\n",
              "  <div id=\"df-bc84b475-49d6-42e5-b5ba-608c76aab44b\">\n",
              "    <div class=\"colab-df-container\">\n",
              "      <div>\n",
              "<style scoped>\n",
              "    .dataframe tbody tr th:only-of-type {\n",
              "        vertical-align: middle;\n",
              "    }\n",
              "\n",
              "    .dataframe tbody tr th {\n",
              "        vertical-align: top;\n",
              "    }\n",
              "\n",
              "    .dataframe thead th {\n",
              "        text-align: right;\n",
              "    }\n",
              "</style>\n",
              "<table border=\"1\" class=\"dataframe\">\n",
              "  <thead>\n",
              "    <tr style=\"text-align: right;\">\n",
              "      <th></th>\n",
              "      <th>level_0</th>\n",
              "      <th>index</th>\n",
              "      <th>Sex</th>\n",
              "      <th>Ohtn</th>\n",
              "      <th>DTRs</th>\n",
              "      <th>Rom</th>\n",
              "      <th>Diet</th>\n",
              "      <th>Smoker</th>\n",
              "      <th>Activity Level</th>\n",
              "      <th>Caffeine</th>\n",
              "      <th>...</th>\n",
              "      <th>Hyperthyroidism</th>\n",
              "      <th>Hypothyroidism</th>\n",
              "      <th>Retinopathy</th>\n",
              "      <th>DM</th>\n",
              "      <th>Modification</th>\n",
              "      <th>Pain</th>\n",
              "      <th>Diurnal</th>\n",
              "      <th>Coldness</th>\n",
              "      <th>Tingling</th>\n",
              "      <th>Alloydnia</th>\n",
              "    </tr>\n",
              "  </thead>\n",
              "  <tbody>\n",
              "    <tr>\n",
              "      <th>0</th>\n",
              "      <td>0</td>\n",
              "      <td>37</td>\n",
              "      <td>2</td>\n",
              "      <td>2</td>\n",
              "      <td>0</td>\n",
              "      <td>1</td>\n",
              "      <td>1</td>\n",
              "      <td>3</td>\n",
              "      <td>4</td>\n",
              "      <td>4</td>\n",
              "      <td>...</td>\n",
              "      <td>2</td>\n",
              "      <td>2</td>\n",
              "      <td>2</td>\n",
              "      <td>2</td>\n",
              "      <td>2</td>\n",
              "      <td>1</td>\n",
              "      <td>2</td>\n",
              "      <td>2</td>\n",
              "      <td>1</td>\n",
              "      <td>1</td>\n",
              "    </tr>\n",
              "    <tr>\n",
              "      <th>1</th>\n",
              "      <td>1</td>\n",
              "      <td>347</td>\n",
              "      <td>2</td>\n",
              "      <td>2</td>\n",
              "      <td>2</td>\n",
              "      <td>1</td>\n",
              "      <td>10</td>\n",
              "      <td>3</td>\n",
              "      <td>4</td>\n",
              "      <td>3</td>\n",
              "      <td>...</td>\n",
              "      <td>2</td>\n",
              "      <td>2</td>\n",
              "      <td>2</td>\n",
              "      <td>2</td>\n",
              "      <td>1</td>\n",
              "      <td>2</td>\n",
              "      <td>1</td>\n",
              "      <td>1</td>\n",
              "      <td>1</td>\n",
              "      <td>1</td>\n",
              "    </tr>\n",
              "    <tr>\n",
              "      <th>2</th>\n",
              "      <td>2</td>\n",
              "      <td>194</td>\n",
              "      <td>1</td>\n",
              "      <td>2</td>\n",
              "      <td>0</td>\n",
              "      <td>1</td>\n",
              "      <td>7</td>\n",
              "      <td>1</td>\n",
              "      <td>2</td>\n",
              "      <td>4</td>\n",
              "      <td>...</td>\n",
              "      <td>2</td>\n",
              "      <td>2</td>\n",
              "      <td>1</td>\n",
              "      <td>2</td>\n",
              "      <td>2</td>\n",
              "      <td>1</td>\n",
              "      <td>1</td>\n",
              "      <td>2</td>\n",
              "      <td>2</td>\n",
              "      <td>2</td>\n",
              "    </tr>\n",
              "  </tbody>\n",
              "</table>\n",
              "<p>3 rows × 24 columns</p>\n",
              "</div>\n",
              "      <button class=\"colab-df-convert\" onclick=\"convertToInteractive('df-bc84b475-49d6-42e5-b5ba-608c76aab44b')\"\n",
              "              title=\"Convert this dataframe to an interactive table.\"\n",
              "              style=\"display:none;\">\n",
              "        \n",
              "  <svg xmlns=\"http://www.w3.org/2000/svg\" height=\"24px\"viewBox=\"0 0 24 24\"\n",
              "       width=\"24px\">\n",
              "    <path d=\"M0 0h24v24H0V0z\" fill=\"none\"/>\n",
              "    <path d=\"M18.56 5.44l.94 2.06.94-2.06 2.06-.94-2.06-.94-.94-2.06-.94 2.06-2.06.94zm-11 1L8.5 8.5l.94-2.06 2.06-.94-2.06-.94L8.5 2.5l-.94 2.06-2.06.94zm10 10l.94 2.06.94-2.06 2.06-.94-2.06-.94-.94-2.06-.94 2.06-2.06.94z\"/><path d=\"M17.41 7.96l-1.37-1.37c-.4-.4-.92-.59-1.43-.59-.52 0-1.04.2-1.43.59L10.3 9.45l-7.72 7.72c-.78.78-.78 2.05 0 2.83L4 21.41c.39.39.9.59 1.41.59.51 0 1.02-.2 1.41-.59l7.78-7.78 2.81-2.81c.8-.78.8-2.07 0-2.86zM5.41 20L4 18.59l7.72-7.72 1.47 1.35L5.41 20z\"/>\n",
              "  </svg>\n",
              "      </button>\n",
              "      \n",
              "  <style>\n",
              "    .colab-df-container {\n",
              "      display:flex;\n",
              "      flex-wrap:wrap;\n",
              "      gap: 12px;\n",
              "    }\n",
              "\n",
              "    .colab-df-convert {\n",
              "      background-color: #E8F0FE;\n",
              "      border: none;\n",
              "      border-radius: 50%;\n",
              "      cursor: pointer;\n",
              "      display: none;\n",
              "      fill: #1967D2;\n",
              "      height: 32px;\n",
              "      padding: 0 0 0 0;\n",
              "      width: 32px;\n",
              "    }\n",
              "\n",
              "    .colab-df-convert:hover {\n",
              "      background-color: #E2EBFA;\n",
              "      box-shadow: 0px 1px 2px rgba(60, 64, 67, 0.3), 0px 1px 3px 1px rgba(60, 64, 67, 0.15);\n",
              "      fill: #174EA6;\n",
              "    }\n",
              "\n",
              "    [theme=dark] .colab-df-convert {\n",
              "      background-color: #3B4455;\n",
              "      fill: #D2E3FC;\n",
              "    }\n",
              "\n",
              "    [theme=dark] .colab-df-convert:hover {\n",
              "      background-color: #434B5C;\n",
              "      box-shadow: 0px 1px 3px 1px rgba(0, 0, 0, 0.15);\n",
              "      filter: drop-shadow(0px 1px 2px rgba(0, 0, 0, 0.3));\n",
              "      fill: #FFFFFF;\n",
              "    }\n",
              "  </style>\n",
              "\n",
              "      <script>\n",
              "        const buttonEl =\n",
              "          document.querySelector('#df-bc84b475-49d6-42e5-b5ba-608c76aab44b button.colab-df-convert');\n",
              "        buttonEl.style.display =\n",
              "          google.colab.kernel.accessAllowed ? 'block' : 'none';\n",
              "\n",
              "        async function convertToInteractive(key) {\n",
              "          const element = document.querySelector('#df-bc84b475-49d6-42e5-b5ba-608c76aab44b');\n",
              "          const dataTable =\n",
              "            await google.colab.kernel.invokeFunction('convertToInteractive',\n",
              "                                                     [key], {});\n",
              "          if (!dataTable) return;\n",
              "\n",
              "          const docLinkHtml = 'Like what you see? Visit the ' +\n",
              "            '<a target=\"_blank\" href=https://colab.research.google.com/notebooks/data_table.ipynb>data table notebook</a>'\n",
              "            + ' to learn more about interactive tables.';\n",
              "          element.innerHTML = '';\n",
              "          dataTable['output_type'] = 'display_data';\n",
              "          await google.colab.output.renderOutput(dataTable, element);\n",
              "          const docLink = document.createElement('div');\n",
              "          docLink.innerHTML = docLinkHtml;\n",
              "          element.appendChild(docLink);\n",
              "        }\n",
              "      </script>\n",
              "    </div>\n",
              "  </div>\n",
              "  "
            ]
          },
          "metadata": {},
          "execution_count": 33
        }
      ]
    },
    {
      "cell_type": "code",
      "source": [
        "# joining numerical and categorical for exploration purposes \n",
        "data_final_num_cat = train_val_explor_final.merge(X_train_val_explor_cat,on='index',how='outer')\n",
        "data_final_num_cat=data_final_num_cat.drop('index',axis=1)\n",
        "data_final_num_cat.columns"
      ],
      "metadata": {
        "colab": {
          "base_uri": "https://localhost:8080/"
        },
        "id": "5wreJLduCPa9",
        "outputId": "3d03ce51-d17b-4579-9478-9d9dd34a9a34"
      },
      "execution_count": 34,
      "outputs": [
        {
          "output_type": "execute_result",
          "data": {
            "text/plain": [
              "Index(['Age', 'HR_L', 'BP_L_Sys', 'BP_L_Dias', 'HR_S', 'BP_S_Sys', 'BP_S_Dias',\n",
              "       'FBS', 'TSH', 'VitB12', 'HDL', 'LDL', 'Weight', 'Height', 'BMI',\n",
              "       'Working_hours', 'Driving_hours', 'AgeO', 'S_A ', 'level_0', 'Sex',\n",
              "       'Ohtn', 'DTRs', 'Rom', 'Diet', 'Smoker', 'Activity Level', 'Caffeine',\n",
              "       'Family_stress', 'Hypertension', 'Renal_disease', 'Hyperlipidemia',\n",
              "       'Hyperthyroidism', 'Hypothyroidism', 'Retinopathy', 'DM',\n",
              "       'Modification', 'Pain', 'Diurnal', 'Coldness', 'Tingling', 'Alloydnia'],\n",
              "      dtype='object')"
            ]
          },
          "metadata": {},
          "execution_count": 34
        }
      ]
    },
    {
      "cell_type": "code",
      "source": [
        "# age and SA \n",
        "import seaborn as sns \n",
        "import matplotlib.pyplot as plt \n",
        "sns.lmplot(x=\"S_A \", y=\"Age\", hue=\"Sex\", data=data_final_num_cat)\n",
        "plt.show()"
      ],
      "metadata": {
        "colab": {
          "base_uri": "https://localhost:8080/",
          "height": 369
        },
        "id": "0GkBfIYbDojf",
        "outputId": "344dd8a2-fe17-4334-dbd3-a894529ba732"
      },
      "execution_count": 35,
      "outputs": [
        {
          "output_type": "display_data",
          "data": {
            "text/plain": [
              "<Figure size 402.375x360 with 1 Axes>"
            ],
            "image/png": "[encoded data removed]"
          },
          "metadata": {
            "needs_background": "light"
          }
        }
      ]
    },
    {
      "cell_type": "code",
      "source": [
        "# onset age : how long have he/she been diabetic \n",
        "sns.lmplot(x=\"S_A \", y=\"AgeO\", hue=\"Sex\", data=data_final_num_cat)\n",
        "plt.show()"
      ],
      "metadata": {
        "colab": {
          "base_uri": "https://localhost:8080/",
          "height": 369
        },
        "id": "x6yRdFjjCQFu",
        "outputId": "c2999f8f-d674-420c-a6ef-ed23621c8eb7"
      },
      "execution_count": 36,
      "outputs": [
        {
          "output_type": "display_data",
          "data": {
            "text/plain": [
              "<Figure size 402.375x360 with 1 Axes>"
            ],
            "image/png": "[encoded data removed]"
          },
          "metadata": {
            "needs_background": "light"
          }
        }
      ]
    },
    {
      "cell_type": "code",
      "source": [
        "# correlation between severity of Peripheral neuropathy and Fasting Bloog Sugar with Gender \n",
        "# Sex = 1 for Male and 2 for female \n",
        "sns.lmplot(x=\"S_A \", y=\"FBS\", hue=\"Sex\", data=data_final_num_cat)\n",
        "plt.show()"
      ],
      "metadata": {
        "colab": {
          "base_uri": "https://localhost:8080/",
          "height": 369
        },
        "id": "oE1OAPqgCOY6",
        "outputId": "62367956-9308-4569-bd37-2c254dc18e3c"
      },
      "execution_count": 37,
      "outputs": [
        {
          "output_type": "display_data",
          "data": {
            "text/plain": [
              "<Figure size 402.375x360 with 1 Axes>"
            ],
            "image/png": "[encoded data removed]"
          },
          "metadata": {
            "needs_background": "light"
          }
        }
      ]
    },
    {
      "cell_type": "code",
      "source": [
        "# correlation between S_A and VitB12 : inversely correlated \n",
        "sns.lmplot(x=\"S_A \", y=\"VitB12\", hue=\"Sex\", data=data_final_num_cat)\n",
        "plt.show()"
      ],
      "metadata": {
        "colab": {
          "base_uri": "https://localhost:8080/",
          "height": 369
        },
        "id": "0CyCMeWSEMvn",
        "outputId": "0bcdf116-fe3c-401a-b89a-c057fb74890a"
      },
      "execution_count": 38,
      "outputs": [
        {
          "output_type": "display_data",
          "data": {
            "text/plain": [
              "<Figure size 402.375x360 with 1 Axes>"
            ],
            "image/png": "[encoded data removed]"
          },
          "metadata": {
            "needs_background": "light"
          }
        }
      ]
    },
    {
      "cell_type": "code",
      "source": [
        "# correlation between S_A and VitB12 : No clear relationship \n",
        "# Sex = 1 for Male and 2 for female \n",
        "sns.lmplot(x=\"S_A \", y=\"BMI\", hue=\"Sex\", data=data_final_num_cat)\n",
        "plt.show()"
      ],
      "metadata": {
        "colab": {
          "base_uri": "https://localhost:8080/",
          "height": 369
        },
        "id": "kHaH2zXeEXj4",
        "outputId": "16f375eb-2d06-46b3-f6e3-89cb8b55023a"
      },
      "execution_count": 39,
      "outputs": [
        {
          "output_type": "display_data",
          "data": {
            "text/plain": [
              "<Figure size 402.375x360 with 1 Axes>"
            ],
            "image/png": "[encoded data removed]"
          },
          "metadata": {
            "needs_background": "light"
          }
        }
      ]
    },
    {
      "cell_type": "code",
      "source": [
        "# correlation table \n",
        "corr_table = train_val_explor_final.corr()\n",
        "corr_table"
      ],
      "metadata": {
        "colab": {
          "base_uri": "https://localhost:8080/",
          "height": 741
        },
        "id": "wnjD5XMk9o4V",
        "outputId": "d17dd386-b3fd-42b3-a982-3669c74565fb"
      },
      "execution_count": 40,
      "outputs": [
        {
          "output_type": "execute_result",
          "data": {
            "text/plain": [
              "                  index       Age      HR_L  BP_L_Sys  BP_L_Dias      HR_S  \\\n",
              "index          1.000000  0.209551 -0.057968  0.078732  -0.188127 -0.119710   \n",
              "Age            0.209551  1.000000 -0.338839  0.074169  -0.379154 -0.409630   \n",
              "HR_L          -0.057968 -0.338839  1.000000  0.019513   0.311998  0.847814   \n",
              "BP_L_Sys       0.078732  0.074169  0.019513  1.000000   0.513163  0.065969   \n",
              "BP_L_Dias     -0.188127 -0.379154  0.311998  0.513163   1.000000  0.366694   \n",
              "HR_S          -0.119710 -0.409630  0.847814  0.065969   0.366694  1.000000   \n",
              "BP_S_Sys      -0.006866  0.033316  0.090989  0.754108   0.491329  0.045527   \n",
              "BP_S_Dias     -0.327703 -0.413553  0.326578  0.397085   0.767553  0.425970   \n",
              "FBS            0.112164 -0.039987  0.313101  0.057969   0.025836  0.336435   \n",
              "TSH           -0.108366 -0.034362  0.053601 -0.004862  -0.051744  0.107349   \n",
              "VitB12         0.122716  0.126146 -0.128258  0.071666  -0.149327 -0.169755   \n",
              "HDL           -0.065750 -0.039593  0.041325 -0.001588  -0.102706  0.106040   \n",
              "LDL           -0.006967  0.007753  0.124385  0.123021   0.122053  0.113274   \n",
              "Weight        -0.049877 -0.250372 -0.106365  0.158408   0.231657 -0.015559   \n",
              "Height        -0.011031 -0.254066 -0.100223 -0.008961   0.099631 -0.009863   \n",
              "BMI            0.158798 -0.036190 -0.008777  0.163033   0.087950 -0.014678   \n",
              "Working_hours -0.160357 -0.235480  0.023484 -0.000457   0.118661  0.025293   \n",
              "Driving_hours  0.043525 -0.243535  0.022353 -0.067568   0.085711  0.002392   \n",
              "AgeO           0.084450  0.629539 -0.280436  0.104760  -0.209542 -0.295015   \n",
              "S_A           -0.128386 -0.337887  0.147860 -0.098416   0.170255  0.173605   \n",
              "\n",
              "               BP_S_Sys  BP_S_Dias       FBS       TSH    VitB12       HDL  \\\n",
              "index         -0.006866  -0.327703  0.112164 -0.108366  0.122716 -0.065750   \n",
              "Age            0.033316  -0.413553 -0.039987 -0.034362  0.126146 -0.039593   \n",
              "HR_L           0.090989   0.326578  0.313101  0.053601 -0.128258  0.041325   \n",
              "BP_L_Sys       0.754108   0.397085  0.057969 -0.004862  0.071666 -0.001588   \n",
              "BP_L_Dias      0.491329   0.767553  0.025836 -0.051744 -0.149327 -0.102706   \n",
              "HR_S           0.045527   0.425970  0.336435  0.107349 -0.169755  0.106040   \n",
              "BP_S_Sys       1.000000   0.570519 -0.018266 -0.038019  0.027429 -0.075818   \n",
              "BP_S_Dias      0.570519   1.000000  0.018729 -0.018494 -0.162398 -0.052636   \n",
              "FBS           -0.018266   0.018729  1.000000  0.031644 -0.068686  0.246885   \n",
              "TSH           -0.038019  -0.018494  0.031644  1.000000 -0.066894 -0.040597   \n",
              "VitB12         0.027429  -0.162398 -0.068686 -0.066894  1.000000 -0.047334   \n",
              "HDL           -0.075818  -0.052636  0.246885 -0.040597 -0.047334  1.000000   \n",
              "LDL            0.162242   0.176119  0.054755  0.175218 -0.098968 -0.093130   \n",
              "Weight         0.122869   0.162478 -0.154854 -0.000547  0.099512 -0.024209   \n",
              "Height        -0.024372   0.168270 -0.148034 -0.055173 -0.000420 -0.086644   \n",
              "BMI            0.109077  -0.019684  0.011660  0.036157  0.071141  0.077256   \n",
              "Working_hours -0.042296   0.177266  0.052857 -0.041392 -0.046860 -0.032077   \n",
              "Driving_hours  0.002105   0.111334 -0.026332 -0.058705  0.069490 -0.089075   \n",
              "AgeO           0.138979  -0.160297 -0.180451  0.097404  0.132836 -0.034357   \n",
              "S_A           -0.059416   0.229447 -0.130685 -0.076306 -0.144775 -0.009122   \n",
              "\n",
              "                    LDL    Weight    Height       BMI  Working_hours  \\\n",
              "index         -0.006967 -0.049877 -0.011031  0.158798      -0.160357   \n",
              "Age            0.007753 -0.250372 -0.254066 -0.036190      -0.235480   \n",
              "HR_L           0.124385 -0.106365 -0.100223 -0.008777       0.023484   \n",
              "BP_L_Sys       0.123021  0.158408 -0.008961  0.163033      -0.000457   \n",
              "BP_L_Dias      0.122053  0.231657  0.099631  0.087950       0.118661   \n",
              "HR_S           0.113274 -0.015559 -0.009863 -0.014678       0.025293   \n",
              "BP_S_Sys       0.162242  0.122869 -0.024372  0.109077      -0.042296   \n",
              "BP_S_Dias      0.176119  0.162478  0.168270 -0.019684       0.177266   \n",
              "FBS            0.054755 -0.154854 -0.148034  0.011660       0.052857   \n",
              "TSH            0.175218 -0.000547 -0.055173  0.036157      -0.041392   \n",
              "VitB12        -0.098968  0.099512 -0.000420  0.071141      -0.046860   \n",
              "HDL           -0.093130 -0.024209 -0.086644  0.077256      -0.032077   \n",
              "LDL            1.000000 -0.151307 -0.137530 -0.033164       0.041154   \n",
              "Weight        -0.151307  1.000000  0.493072  0.527594       0.230501   \n",
              "Height        -0.137530  0.493072  1.000000 -0.155994       0.465255   \n",
              "BMI           -0.033164  0.527594 -0.155994  1.000000      -0.047521   \n",
              "Working_hours  0.041154  0.230501  0.465255 -0.047521       1.000000   \n",
              "Driving_hours -0.087655  0.151474  0.310347  0.000028       0.342356   \n",
              "AgeO           0.040557 -0.205448 -0.236018 -0.045036      -0.199902   \n",
              "S_A           -0.006065 -0.035009  0.055444 -0.081592       0.149850   \n",
              "\n",
              "               Driving_hours      AgeO      S_A   \n",
              "index               0.043525  0.084450 -0.128386  \n",
              "Age                -0.243535  0.629539 -0.337887  \n",
              "HR_L                0.022353 -0.280436  0.147860  \n",
              "BP_L_Sys           -0.067568  0.104760 -0.098416  \n",
              "BP_L_Dias           0.085711 -0.209542  0.170255  \n",
              "HR_S                0.002392 -0.295015  0.173605  \n",
              "BP_S_Sys            0.002105  0.138979 -0.059416  \n",
              "BP_S_Dias           0.111334 -0.160297  0.229447  \n",
              "FBS                -0.026332 -0.180451 -0.130685  \n",
              "TSH                -0.058705  0.097404 -0.076306  \n",
              "VitB12              0.069490  0.132836 -0.144775  \n",
              "HDL                -0.089075 -0.034357 -0.009122  \n",
              "LDL                -0.087655  0.040557 -0.006065  \n",
              "Weight              0.151474 -0.205448 -0.035009  \n",
              "Height              0.310347 -0.236018  0.055444  \n",
              "BMI                 0.000028 -0.045036 -0.081592  \n",
              "Working_hours       0.342356 -0.199902  0.149850  \n",
              "Driving_hours       1.000000 -0.132785  0.194176  \n",
              "AgeO               -0.132785  1.000000 -0.149320  \n",
              "S_A                 0.194176 -0.149320  1.000000  "
            ],
            "text/html": [
              "\n",
              "  <div id=\"df-2f53bc48-fd4a-4ab0-8ca3-618c7879f5d7\">\n",
              "    <div class=\"colab-df-container\">\n",
              "      <div>\n",
              "<style scoped>\n",
              "    .dataframe tbody tr th:only-of-type {\n",
              "        vertical-align: middle;\n",
              "    }\n",
              "\n",
              "    .dataframe tbody tr th {\n",
              "        vertical-align: top;\n",
              "    }\n",
              "\n",
              "    .dataframe thead th {\n",
              "        text-align: right;\n",
              "    }\n",
              "</style>\n",
              "<table border=\"1\" class=\"dataframe\">\n",
              "  <thead>\n",
              "    <tr style=\"text-align: right;\">\n",
              "      <th></th>\n",
              "      <th>index</th>\n",
              "      <th>Age</th>\n",
              "      <th>HR_L</th>\n",
              "      <th>BP_L_Sys</th>\n",
              "      <th>BP_L_Dias</th>\n",
              "      <th>HR_S</th>\n",
              "      <th>BP_S_Sys</th>\n",
              "      <th>BP_S_Dias</th>\n",
              "      <th>FBS</th>\n",
              "      <th>TSH</th>\n",
              "      <th>VitB12</th>\n",
              "      <th>HDL</th>\n",
              "      <th>LDL</th>\n",
              "      <th>Weight</th>\n",
              "      <th>Height</th>\n",
              "      <th>BMI</th>\n",
              "      <th>Working_hours</th>\n",
              "      <th>Driving_hours</th>\n",
              "      <th>AgeO</th>\n",
              "      <th>S_A</th>\n",
              "    </tr>\n",
              "  </thead>\n",
              "  <tbody>\n",
              "    <tr>\n",
              "      <th>index</th>\n",
              "      <td>1.000000</td>\n",
              "      <td>0.209551</td>\n",
              "      <td>-0.057968</td>\n",
              "      <td>0.078732</td>\n",
              "      <td>-0.188127</td>\n",
              "      <td>-0.119710</td>\n",
              "      <td>-0.006866</td>\n",
              "      <td>-0.327703</td>\n",
              "      <td>0.112164</td>\n",
              "      <td>-0.108366</td>\n",
              "      <td>0.122716</td>\n",
              "      <td>-0.065750</td>\n",
              "      <td>-0.006967</td>\n",
              "      <td>-0.049877</td>\n",
              "      <td>-0.011031</td>\n",
              "      <td>0.158798</td>\n",
              "      <td>-0.160357</td>\n",
              "      <td>0.043525</td>\n",
              "      <td>0.084450</td>\n",
              "      <td>-0.128386</td>\n",
              "    </tr>\n",
              "    <tr>\n",
              "      <th>Age</th>\n",
              "      <td>0.209551</td>\n",
              "      <td>1.000000</td>\n",
              "      <td>-0.338839</td>\n",
              "      <td>0.074169</td>\n",
              "      <td>-0.379154</td>\n",
              "      <td>-0.409630</td>\n",
              "      <td>0.033316</td>\n",
              "      <td>-0.413553</td>\n",
              "      <td>-0.039987</td>\n",
              "      <td>-0.034362</td>\n",
              "      <td>0.126146</td>\n",
              "      <td>-0.039593</td>\n",
              "      <td>0.007753</td>\n",
              "      <td>-0.250372</td>\n",
              "      <td>-0.254066</td>\n",
              "      <td>-0.036190</td>\n",
              "      <td>-0.235480</td>\n",
              "      <td>-0.243535</td>\n",
              "      <td>0.629539</td>\n",
              "      <td>-0.337887</td>\n",
              "    </tr>\n",
              "    <tr>\n",
              "      <th>HR_L</th>\n",
              "      <td>-0.057968</td>\n",
              "      <td>-0.338839</td>\n",
              "      <td>1.000000</td>\n",
              "      <td>0.019513</td>\n",
              "      <td>0.311998</td>\n",
              "      <td>0.847814</td>\n",
              "      <td>0.090989</td>\n",
              "      <td>0.326578</td>\n",
              "      <td>0.313101</td>\n",
              "      <td>0.053601</td>\n",
              "      <td>-0.128258</td>\n",
              "      <td>0.041325</td>\n",
              "      <td>0.124385</td>\n",
              "      <td>-0.106365</td>\n",
              "      <td>-0.100223</td>\n",
              "      <td>-0.008777</td>\n",
              "      <td>0.023484</td>\n",
              "      <td>0.022353</td>\n",
              "      <td>-0.280436</td>\n",
              "      <td>0.147860</td>\n",
              "    </tr>\n",
              "    <tr>\n",
              "      <th>BP_L_Sys</th>\n",
              "      <td>0.078732</td>\n",
              "      <td>0.074169</td>\n",
              "      <td>0.019513</td>\n",
              "      <td>1.000000</td>\n",
              "      <td>0.513163</td>\n",
              "      <td>0.065969</td>\n",
              "      <td>0.754108</td>\n",
              "      <td>0.397085</td>\n",
              "      <td>0.057969</td>\n",
              "      <td>-0.004862</td>\n",
              "      <td>0.071666</td>\n",
              "      <td>-0.001588</td>\n",
              "      <td>0.123021</td>\n",
              "      <td>0.158408</td>\n",
              "      <td>-0.008961</td>\n",
              "      <td>0.163033</td>\n",
              "      <td>-0.000457</td>\n",
              "      <td>-0.067568</td>\n",
              "      <td>0.104760</td>\n",
              "      <td>-0.098416</td>\n",
              "    </tr>\n",
              "    <tr>\n",
              "      <th>BP_L_Dias</th>\n",
              "      <td>-0.188127</td>\n",
              "      <td>-0.379154</td>\n",
              "      <td>0.311998</td>\n",
              "      <td>0.513163</td>\n",
              "      <td>1.000000</td>\n",
              "      <td>0.366694</td>\n",
              "      <td>0.491329</td>\n",
              "      <td>0.767553</td>\n",
              "      <td>0.025836</td>\n",
              "      <td>-0.051744</td>\n",
              "      <td>-0.149327</td>\n",
              "      <td>-0.102706</td>\n",
              "      <td>0.122053</td>\n",
              "      <td>0.231657</td>\n",
              "      <td>0.099631</td>\n",
              "      <td>0.087950</td>\n",
              "      <td>0.118661</td>\n",
              "      <td>0.085711</td>\n",
              "      <td>-0.209542</td>\n",
              "      <td>0.170255</td>\n",
              "    </tr>\n",
              "    <tr>\n",
              "      <th>HR_S</th>\n",
              "      <td>-0.119710</td>\n",
              "      <td>-0.409630</td>\n",
              "      <td>0.847814</td>\n",
              "      <td>0.065969</td>\n",
              "      <td>0.366694</td>\n",
              "      <td>1.000000</td>\n",
              "      <td>0.045527</td>\n",
              "      <td>0.425970</td>\n",
              "      <td>0.336435</td>\n",
              "      <td>0.107349</td>\n",
              "      <td>-0.169755</td>\n",
              "      <td>0.106040</td>\n",
              "      <td>0.113274</td>\n",
              "      <td>-0.015559</td>\n",
              "      <td>-0.009863</td>\n",
              "      <td>-0.014678</td>\n",
              "      <td>0.025293</td>\n",
              "      <td>0.002392</td>\n",
              "      <td>-0.295015</td>\n",
              "      <td>0.173605</td>\n",
              "    </tr>\n",
              "    <tr>\n",
              "      <th>BP_S_Sys</th>\n",
              "      <td>-0.006866</td>\n",
              "      <td>0.033316</td>\n",
              "      <td>0.090989</td>\n",
              "      <td>0.754108</td>\n",
              "      <td>0.491329</td>\n",
              "      <td>0.045527</td>\n",
              "      <td>1.000000</td>\n",
              "      <td>0.570519</td>\n",
              "      <td>-0.018266</td>\n",
              "      <td>-0.038019</td>\n",
              "      <td>0.027429</td>\n",
              "      <td>-0.075818</td>\n",
              "      <td>0.162242</td>\n",
              "      <td>0.122869</td>\n",
              "      <td>-0.024372</td>\n",
              "      <td>0.109077</td>\n",
              "      <td>-0.042296</td>\n",
              "      <td>0.002105</td>\n",
              "      <td>0.138979</td>\n",
              "      <td>-0.059416</td>\n",
              "    </tr>\n",
              "    <tr>\n",
              "      <th>BP_S_Dias</th>\n",
              "      <td>-0.327703</td>\n",
              "      <td>-0.413553</td>\n",
              "      <td>0.326578</td>\n",
              "      <td>0.397085</td>\n",
              "      <td>0.767553</td>\n",
              "      <td>0.425970</td>\n",
              "      <td>0.570519</td>\n",
              "      <td>1.000000</td>\n",
              "      <td>0.018729</td>\n",
              "      <td>-0.018494</td>\n",
              "      <td>-0.162398</td>\n",
              "      <td>-0.052636</td>\n",
              "      <td>0.176119</td>\n",
              "      <td>0.162478</td>\n",
              "      <td>0.168270</td>\n",
              "      <td>-0.019684</td>\n",
              "      <td>0.177266</td>\n",
              "      <td>0.111334</td>\n",
              "      <td>-0.160297</td>\n",
              "      <td>0.229447</td>\n",
              "    </tr>\n",
              "    <tr>\n",
              "      <th>FBS</th>\n",
              "      <td>0.112164</td>\n",
              "      <td>-0.039987</td>\n",
              "      <td>0.313101</td>\n",
              "      <td>0.057969</td>\n",
              "      <td>0.025836</td>\n",
              "      <td>0.336435</td>\n",
              "      <td>-0.018266</td>\n",
              "      <td>0.018729</td>\n",
              "      <td>1.000000</td>\n",
              "      <td>0.031644</td>\n",
              "      <td>-0.068686</td>\n",
              "      <td>0.246885</td>\n",
              "      <td>0.054755</td>\n",
              "      <td>-0.154854</td>\n",
              "      <td>-0.148034</td>\n",
              "      <td>0.011660</td>\n",
              "      <td>0.052857</td>\n",
              "      <td>-0.026332</td>\n",
              "      <td>-0.180451</td>\n",
              "      <td>-0.130685</td>\n",
              "    </tr>\n",
              "    <tr>\n",
              "      <th>TSH</th>\n",
              "      <td>-0.108366</td>\n",
              "      <td>-0.034362</td>\n",
              "      <td>0.053601</td>\n",
              "      <td>-0.004862</td>\n",
              "      <td>-0.051744</td>\n",
              "      <td>0.107349</td>\n",
              "      <td>-0.038019</td>\n",
              "      <td>-0.018494</td>\n",
              "      <td>0.031644</td>\n",
              "      <td>1.000000</td>\n",
              "      <td>-0.066894</td>\n",
              "      <td>-0.040597</td>\n",
              "      <td>0.175218</td>\n",
              "      <td>-0.000547</td>\n",
              "      <td>-0.055173</td>\n",
              "      <td>0.036157</td>\n",
              "      <td>-0.041392</td>\n",
              "      <td>-0.058705</td>\n",
              "      <td>0.097404</td>\n",
              "      <td>-0.076306</td>\n",
              "    </tr>\n",
              "    <tr>\n",
              "      <th>VitB12</th>\n",
              "      <td>0.122716</td>\n",
              "      <td>0.126146</td>\n",
              "      <td>-0.128258</td>\n",
              "      <td>0.071666</td>\n",
              "      <td>-0.149327</td>\n",
              "      <td>-0.169755</td>\n",
              "      <td>0.027429</td>\n",
              "      <td>-0.162398</td>\n",
              "      <td>-0.068686</td>\n",
              "      <td>-0.066894</td>\n",
              "      <td>1.000000</td>\n",
              "      <td>-0.047334</td>\n",
              "      <td>-0.098968</td>\n",
              "      <td>0.099512</td>\n",
              "      <td>-0.000420</td>\n",
              "      <td>0.071141</td>\n",
              "      <td>-0.046860</td>\n",
              "      <td>0.069490</td>\n",
              "      <td>0.132836</td>\n",
              "      <td>-0.144775</td>\n",
              "    </tr>\n",
              "    <tr>\n",
              "      <th>HDL</th>\n",
              "      <td>-0.065750</td>\n",
              "      <td>-0.039593</td>\n",
              "      <td>0.041325</td>\n",
              "      <td>-0.001588</td>\n",
              "      <td>-0.102706</td>\n",
              "      <td>0.106040</td>\n",
              "      <td>-0.075818</td>\n",
              "      <td>-0.052636</td>\n",
              "      <td>0.246885</td>\n",
              "      <td>-0.040597</td>\n",
              "      <td>-0.047334</td>\n",
              "      <td>1.000000</td>\n",
              "      <td>-0.093130</td>\n",
              "      <td>-0.024209</td>\n",
              "      <td>-0.086644</td>\n",
              "      <td>0.077256</td>\n",
              "      <td>-0.032077</td>\n",
              "      <td>-0.089075</td>\n",
              "      <td>-0.034357</td>\n",
              "      <td>-0.009122</td>\n",
              "    </tr>\n",
              "    <tr>\n",
              "      <th>LDL</th>\n",
              "      <td>-0.006967</td>\n",
              "      <td>0.007753</td>\n",
              "      <td>0.124385</td>\n",
              "      <td>0.123021</td>\n",
              "      <td>0.122053</td>\n",
              "      <td>0.113274</td>\n",
              "      <td>0.162242</td>\n",
              "      <td>0.176119</td>\n",
              "      <td>0.054755</td>\n",
              "      <td>0.175218</td>\n",
              "      <td>-0.098968</td>\n",
              "      <td>-0.093130</td>\n",
              "      <td>1.000000</td>\n",
              "      <td>-0.151307</td>\n",
              "      <td>-0.137530</td>\n",
              "      <td>-0.033164</td>\n",
              "      <td>0.041154</td>\n",
              "      <td>-0.087655</td>\n",
              "      <td>0.040557</td>\n",
              "      <td>-0.006065</td>\n",
              "    </tr>\n",
              "    <tr>\n",
              "      <th>Weight</th>\n",
              "      <td>-0.049877</td>\n",
              "      <td>-0.250372</td>\n",
              "      <td>-0.106365</td>\n",
              "      <td>0.158408</td>\n",
              "      <td>0.231657</td>\n",
              "      <td>-0.015559</td>\n",
              "      <td>0.122869</td>\n",
              "      <td>0.162478</td>\n",
              "      <td>-0.154854</td>\n",
              "      <td>-0.000547</td>\n",
              "      <td>0.099512</td>\n",
              "      <td>-0.024209</td>\n",
              "      <td>-0.151307</td>\n",
              "      <td>1.000000</td>\n",
              "      <td>0.493072</td>\n",
              "      <td>0.527594</td>\n",
              "      <td>0.230501</td>\n",
              "      <td>0.151474</td>\n",
              "      <td>-0.205448</td>\n",
              "      <td>-0.035009</td>\n",
              "    </tr>\n",
              "    <tr>\n",
              "      <th>Height</th>\n",
              "      <td>-0.011031</td>\n",
              "      <td>-0.254066</td>\n",
              "      <td>-0.100223</td>\n",
              "      <td>-0.008961</td>\n",
              "      <td>0.099631</td>\n",
              "      <td>-0.009863</td>\n",
              "      <td>-0.024372</td>\n",
              "      <td>0.168270</td>\n",
              "      <td>-0.148034</td>\n",
              "      <td>-0.055173</td>\n",
              "      <td>-0.000420</td>\n",
              "      <td>-0.086644</td>\n",
              "      <td>-0.137530</td>\n",
              "      <td>0.493072</td>\n",
              "      <td>1.000000</td>\n",
              "      <td>-0.155994</td>\n",
              "      <td>0.465255</td>\n",
              "      <td>0.310347</td>\n",
              "      <td>-0.236018</td>\n",
              "      <td>0.055444</td>\n",
              "    </tr>\n",
              "    <tr>\n",
              "      <th>BMI</th>\n",
              "      <td>0.158798</td>\n",
              "      <td>-0.036190</td>\n",
              "      <td>-0.008777</td>\n",
              "      <td>0.163033</td>\n",
              "      <td>0.087950</td>\n",
              "      <td>-0.014678</td>\n",
              "      <td>0.109077</td>\n",
              "      <td>-0.019684</td>\n",
              "      <td>0.011660</td>\n",
              "      <td>0.036157</td>\n",
              "      <td>0.071141</td>\n",
              "      <td>0.077256</td>\n",
              "      <td>-0.033164</td>\n",
              "      <td>0.527594</td>\n",
              "      <td>-0.155994</td>\n",
              "      <td>1.000000</td>\n",
              "      <td>-0.047521</td>\n",
              "      <td>0.000028</td>\n",
              "      <td>-0.045036</td>\n",
              "      <td>-0.081592</td>\n",
              "    </tr>\n",
              "    <tr>\n",
              "      <th>Working_hours</th>\n",
              "      <td>-0.160357</td>\n",
              "      <td>-0.235480</td>\n",
              "      <td>0.023484</td>\n",
              "      <td>-0.000457</td>\n",
              "      <td>0.118661</td>\n",
              "      <td>0.025293</td>\n",
              "      <td>-0.042296</td>\n",
              "      <td>0.177266</td>\n",
              "      <td>0.052857</td>\n",
              "      <td>-0.041392</td>\n",
              "      <td>-0.046860</td>\n",
              "      <td>-0.032077</td>\n",
              "      <td>0.041154</td>\n",
              "      <td>0.230501</td>\n",
              "      <td>0.465255</td>\n",
              "      <td>-0.047521</td>\n",
              "      <td>1.000000</td>\n",
              "      <td>0.342356</td>\n",
              "      <td>-0.199902</td>\n",
              "      <td>0.149850</td>\n",
              "    </tr>\n",
              "    <tr>\n",
              "      <th>Driving_hours</th>\n",
              "      <td>0.043525</td>\n",
              "      <td>-0.243535</td>\n",
              "      <td>0.022353</td>\n",
              "      <td>-0.067568</td>\n",
              "      <td>0.085711</td>\n",
              "      <td>0.002392</td>\n",
              "      <td>0.002105</td>\n",
              "      <td>0.111334</td>\n",
              "      <td>-0.026332</td>\n",
              "      <td>-0.058705</td>\n",
              "      <td>0.069490</td>\n",
              "      <td>-0.089075</td>\n",
              "      <td>-0.087655</td>\n",
              "      <td>0.151474</td>\n",
              "      <td>0.310347</td>\n",
              "      <td>0.000028</td>\n",
              "      <td>0.342356</td>\n",
              "      <td>1.000000</td>\n",
              "      <td>-0.132785</td>\n",
              "      <td>0.194176</td>\n",
              "    </tr>\n",
              "    <tr>\n",
              "      <th>AgeO</th>\n",
              "      <td>0.084450</td>\n",
              "      <td>0.629539</td>\n",
              "      <td>-0.280436</td>\n",
              "      <td>0.104760</td>\n",
              "      <td>-0.209542</td>\n",
              "      <td>-0.295015</td>\n",
              "      <td>0.138979</td>\n",
              "      <td>-0.160297</td>\n",
              "      <td>-0.180451</td>\n",
              "      <td>0.097404</td>\n",
              "      <td>0.132836</td>\n",
              "      <td>-0.034357</td>\n",
              "      <td>0.040557</td>\n",
              "      <td>-0.205448</td>\n",
              "      <td>-0.236018</td>\n",
              "      <td>-0.045036</td>\n",
              "      <td>-0.199902</td>\n",
              "      <td>-0.132785</td>\n",
              "      <td>1.000000</td>\n",
              "      <td>-0.149320</td>\n",
              "    </tr>\n",
              "    <tr>\n",
              "      <th>S_A</th>\n",
              "      <td>-0.128386</td>\n",
              "      <td>-0.337887</td>\n",
              "      <td>0.147860</td>\n",
              "      <td>-0.098416</td>\n",
              "      <td>0.170255</td>\n",
              "      <td>0.173605</td>\n",
              "      <td>-0.059416</td>\n",
              "      <td>0.229447</td>\n",
              "      <td>-0.130685</td>\n",
              "      <td>-0.076306</td>\n",
              "      <td>-0.144775</td>\n",
              "      <td>-0.009122</td>\n",
              "      <td>-0.006065</td>\n",
              "      <td>-0.035009</td>\n",
              "      <td>0.055444</td>\n",
              "      <td>-0.081592</td>\n",
              "      <td>0.149850</td>\n",
              "      <td>0.194176</td>\n",
              "      <td>-0.149320</td>\n",
              "      <td>1.000000</td>\n",
              "    </tr>\n",
              "  </tbody>\n",
              "</table>\n",
              "</div>\n",
              "      <button class=\"colab-df-convert\" onclick=\"convertToInteractive('df-2f53bc48-fd4a-4ab0-8ca3-618c7879f5d7')\"\n",
              "              title=\"Convert this dataframe to an interactive table.\"\n",
              "              style=\"display:none;\">\n",
              "        \n",
              "  <svg xmlns=\"http://www.w3.org/2000/svg\" height=\"24px\"viewBox=\"0 0 24 24\"\n",
              "       width=\"24px\">\n",
              "    <path d=\"M0 0h24v24H0V0z\" fill=\"none\"/>\n",
              "    <path d=\"M18.56 5.44l.94 2.06.94-2.06 2.06-.94-2.06-.94-.94-2.06-.94 2.06-2.06.94zm-11 1L8.5 8.5l.94-2.06 2.06-.94-2.06-.94L8.5 2.5l-.94 2.06-2.06.94zm10 10l.94 2.06.94-2.06 2.06-.94-2.06-.94-.94-2.06-.94 2.06-2.06.94z\"/><path d=\"M17.41 7.96l-1.37-1.37c-.4-.4-.92-.59-1.43-.59-.52 0-1.04.2-1.43.59L10.3 9.45l-7.72 7.72c-.78.78-.78 2.05 0 2.83L4 21.41c.39.39.9.59 1.41.59.51 0 1.02-.2 1.41-.59l7.78-7.78 2.81-2.81c.8-.78.8-2.07 0-2.86zM5.41 20L4 18.59l7.72-7.72 1.47 1.35L5.41 20z\"/>\n",
              "  </svg>\n",
              "      </button>\n",
              "      \n",
              "  <style>\n",
              "    .colab-df-container {\n",
              "      display:flex;\n",
              "      flex-wrap:wrap;\n",
              "      gap: 12px;\n",
              "    }\n",
              "\n",
              "    .colab-df-convert {\n",
              "      background-color: #E8F0FE;\n",
              "      border: none;\n",
              "      border-radius: 50%;\n",
              "      cursor: pointer;\n",
              "      display: none;\n",
              "      fill: #1967D2;\n",
              "      height: 32px;\n",
              "      padding: 0 0 0 0;\n",
              "      width: 32px;\n",
              "    }\n",
              "\n",
              "    .colab-df-convert:hover {\n",
              "      background-color: #E2EBFA;\n",
              "      box-shadow: 0px 1px 2px rgba(60, 64, 67, 0.3), 0px 1px 3px 1px rgba(60, 64, 67, 0.15);\n",
              "      fill: #174EA6;\n",
              "    }\n",
              "\n",
              "    [theme=dark] .colab-df-convert {\n",
              "      background-color: #3B4455;\n",
              "      fill: #D2E3FC;\n",
              "    }\n",
              "\n",
              "    [theme=dark] .colab-df-convert:hover {\n",
              "      background-color: #434B5C;\n",
              "      box-shadow: 0px 1px 3px 1px rgba(0, 0, 0, 0.15);\n",
              "      filter: drop-shadow(0px 1px 2px rgba(0, 0, 0, 0.3));\n",
              "      fill: #FFFFFF;\n",
              "    }\n",
              "  </style>\n",
              "\n",
              "      <script>\n",
              "        const buttonEl =\n",
              "          document.querySelector('#df-2f53bc48-fd4a-4ab0-8ca3-618c7879f5d7 button.colab-df-convert');\n",
              "        buttonEl.style.display =\n",
              "          google.colab.kernel.accessAllowed ? 'block' : 'none';\n",
              "\n",
              "        async function convertToInteractive(key) {\n",
              "          const element = document.querySelector('#df-2f53bc48-fd4a-4ab0-8ca3-618c7879f5d7');\n",
              "          const dataTable =\n",
              "            await google.colab.kernel.invokeFunction('convertToInteractive',\n",
              "                                                     [key], {});\n",
              "          if (!dataTable) return;\n",
              "\n",
              "          const docLinkHtml = 'Like what you see? Visit the ' +\n",
              "            '<a target=\"_blank\" href=https://colab.research.google.com/notebooks/data_table.ipynb>data table notebook</a>'\n",
              "            + ' to learn more about interactive tables.';\n",
              "          element.innerHTML = '';\n",
              "          dataTable['output_type'] = 'display_data';\n",
              "          await google.colab.output.renderOutput(dataTable, element);\n",
              "          const docLink = document.createElement('div');\n",
              "          docLink.innerHTML = docLinkHtml;\n",
              "          element.appendChild(docLink);\n",
              "        }\n",
              "      </script>\n",
              "    </div>\n",
              "  </div>\n",
              "  "
            ]
          },
          "metadata": {},
          "execution_count": 40
        }
      ]
    },
    {
      "cell_type": "code",
      "source": [
        "# plotting heatmap to show correlation matrix for numerical variables in X_Train_val \n",
        "import seaborn as sns \n",
        "import matplotlib.pyplot as plt \n",
        "mask = np.triu(np.ones_like(corr_table,dtype=bool))\n",
        "plt.figure(figsize=(10,6))\n",
        "sns.heatmap(corr_table,fmt='.2g',mask=mask,annot=False)\n",
        "plt.show()"
      ],
      "metadata": {
        "colab": {
          "base_uri": "https://localhost:8080/",
          "height": 438
        },
        "id": "KQ0crp8KAr-b",
        "outputId": "73ff92e9-2d99-4a88-8712-bd0b83c02635"
      },
      "execution_count": 41,
      "outputs": [
        {
          "output_type": "display_data",
          "data": {
            "text/plain": [
              "<Figure size 720x432 with 2 Axes>"
            ],
            "image/png": "[encoded data removed]"
          },
          "metadata": {
            "needs_background": "light"
          }
        }
      ]
    },
    {
      "cell_type": "code",
      "source": [
        "# plot TSNE - Dimensionality Reduction \n",
        "data_final_num_cat.columns"
      ],
      "metadata": {
        "colab": {
          "base_uri": "https://localhost:8080/"
        },
        "id": "I8BHphhafYNt",
        "outputId": "49c3a648-1d1f-4e90-b1b7-addf98b7c333"
      },
      "execution_count": 42,
      "outputs": [
        {
          "output_type": "execute_result",
          "data": {
            "text/plain": [
              "Index(['Age', 'HR_L', 'BP_L_Sys', 'BP_L_Dias', 'HR_S', 'BP_S_Sys', 'BP_S_Dias',\n",
              "       'FBS', 'TSH', 'VitB12', 'HDL', 'LDL', 'Weight', 'Height', 'BMI',\n",
              "       'Working_hours', 'Driving_hours', 'AgeO', 'S_A ', 'level_0', 'Sex',\n",
              "       'Ohtn', 'DTRs', 'Rom', 'Diet', 'Smoker', 'Activity Level', 'Caffeine',\n",
              "       'Family_stress', 'Hypertension', 'Renal_disease', 'Hyperlipidemia',\n",
              "       'Hyperthyroidism', 'Hypothyroidism', 'Retinopathy', 'DM',\n",
              "       'Modification', 'Pain', 'Diurnal', 'Coldness', 'Tingling', 'Alloydnia'],\n",
              "      dtype='object')"
            ]
          },
          "metadata": {},
          "execution_count": 42
        }
      ]
    },
    {
      "cell_type": "code",
      "source": [
        "# create new feature from exisiting one / convert target variable into categorical \n",
        "bins1 =[-1,0.1,20,np.inf]\n",
        "labels1=('Severe_PN','Moderate_PN','No_PN')\n",
        "data_final_num_cat['S_A_categories']=pd.cut(data_final_num_cat['S_A '],bins=bins,labels=labels) \n",
        "data_final_num_cat.head(3)"
      ],
      "metadata": {
        "colab": {
          "base_uri": "https://localhost:8080/",
          "height": 237
        },
        "id": "PUZhr6hXgOSV",
        "outputId": "b38da36a-a1e2-45fe-c92f-7a83a26e40de"
      },
      "execution_count": 43,
      "outputs": [
        {
          "output_type": "execute_result",
          "data": {
            "text/plain": [
              "    Age  HR_L  BP_L_Sys  BP_L_Dias  HR_S  BP_S_Sys  BP_S_Dias    FBS    TSH  \\\n",
              "0  50.0  91.0     130.0       71.0  85.0     117.0       71.0  189.0  1.140   \n",
              "1  61.0  75.0     155.0       77.0  74.0     153.0       77.0  113.0  0.873   \n",
              "2  51.0  88.0     163.0       99.0  95.0     151.0       94.0  125.0  2.230   \n",
              "\n",
              "   VitB12  ...  Hypothyroidism  Retinopathy  DM  Modification  Pain  Diurnal  \\\n",
              "0   214.7  ...               2            2   2             2     1        2   \n",
              "1   280.9  ...               2            2   2             1     2        1   \n",
              "2   250.3  ...               2            1   2             2     1        1   \n",
              "\n",
              "   Coldness  Tingling  Alloydnia  S_A_categories  \n",
              "0         2         1          1           No_PN  \n",
              "1         1         1          1     Moderate_PN  \n",
              "2         2         2          2     Moderate_PN  \n",
              "\n",
              "[3 rows x 43 columns]"
            ],
            "text/html": [
              "\n",
              "  <div id=\"df-2b34019c-2b46-4a74-af9a-f2dd37276b92\">\n",
              "    <div class=\"colab-df-container\">\n",
              "      <div>\n",
              "<style scoped>\n",
              "    .dataframe tbody tr th:only-of-type {\n",
              "        vertical-align: middle;\n",
              "    }\n",
              "\n",
              "    .dataframe tbody tr th {\n",
              "        vertical-align: top;\n",
              "    }\n",
              "\n",
              "    .dataframe thead th {\n",
              "        text-align: right;\n",
              "    }\n",
              "</style>\n",
              "<table border=\"1\" class=\"dataframe\">\n",
              "  <thead>\n",
              "    <tr style=\"text-align: right;\">\n",
              "      <th></th>\n",
              "      <th>Age</th>\n",
              "      <th>HR_L</th>\n",
              "      <th>BP_L_Sys</th>\n",
              "      <th>BP_L_Dias</th>\n",
              "      <th>HR_S</th>\n",
              "      <th>BP_S_Sys</th>\n",
              "      <th>BP_S_Dias</th>\n",
              "      <th>FBS</th>\n",
              "      <th>TSH</th>\n",
              "      <th>VitB12</th>\n",
              "      <th>...</th>\n",
              "      <th>Hypothyroidism</th>\n",
              "      <th>Retinopathy</th>\n",
              "      <th>DM</th>\n",
              "      <th>Modification</th>\n",
              "      <th>Pain</th>\n",
              "      <th>Diurnal</th>\n",
              "      <th>Coldness</th>\n",
              "      <th>Tingling</th>\n",
              "      <th>Alloydnia</th>\n",
              "      <th>S_A_categories</th>\n",
              "    </tr>\n",
              "  </thead>\n",
              "  <tbody>\n",
              "    <tr>\n",
              "      <th>0</th>\n",
              "      <td>50.0</td>\n",
              "      <td>91.0</td>\n",
              "      <td>130.0</td>\n",
              "      <td>71.0</td>\n",
              "      <td>85.0</td>\n",
              "      <td>117.0</td>\n",
              "      <td>71.0</td>\n",
              "      <td>189.0</td>\n",
              "      <td>1.140</td>\n",
              "      <td>214.7</td>\n",
              "      <td>...</td>\n",
              "      <td>2</td>\n",
              "      <td>2</td>\n",
              "      <td>2</td>\n",
              "      <td>2</td>\n",
              "      <td>1</td>\n",
              "      <td>2</td>\n",
              "      <td>2</td>\n",
              "      <td>1</td>\n",
              "      <td>1</td>\n",
              "      <td>No_PN</td>\n",
              "    </tr>\n",
              "    <tr>\n",
              "      <th>1</th>\n",
              "      <td>61.0</td>\n",
              "      <td>75.0</td>\n",
              "      <td>155.0</td>\n",
              "      <td>77.0</td>\n",
              "      <td>74.0</td>\n",
              "      <td>153.0</td>\n",
              "      <td>77.0</td>\n",
              "      <td>113.0</td>\n",
              "      <td>0.873</td>\n",
              "      <td>280.9</td>\n",
              "      <td>...</td>\n",
              "      <td>2</td>\n",
              "      <td>2</td>\n",
              "      <td>2</td>\n",
              "      <td>1</td>\n",
              "      <td>2</td>\n",
              "      <td>1</td>\n",
              "      <td>1</td>\n",
              "      <td>1</td>\n",
              "      <td>1</td>\n",
              "      <td>Moderate_PN</td>\n",
              "    </tr>\n",
              "    <tr>\n",
              "      <th>2</th>\n",
              "      <td>51.0</td>\n",
              "      <td>88.0</td>\n",
              "      <td>163.0</td>\n",
              "      <td>99.0</td>\n",
              "      <td>95.0</td>\n",
              "      <td>151.0</td>\n",
              "      <td>94.0</td>\n",
              "      <td>125.0</td>\n",
              "      <td>2.230</td>\n",
              "      <td>250.3</td>\n",
              "      <td>...</td>\n",
              "      <td>2</td>\n",
              "      <td>1</td>\n",
              "      <td>2</td>\n",
              "      <td>2</td>\n",
              "      <td>1</td>\n",
              "      <td>1</td>\n",
              "      <td>2</td>\n",
              "      <td>2</td>\n",
              "      <td>2</td>\n",
              "      <td>Moderate_PN</td>\n",
              "    </tr>\n",
              "  </tbody>\n",
              "</table>\n",
              "<p>3 rows × 43 columns</p>\n",
              "</div>\n",
              "      <button class=\"colab-df-convert\" onclick=\"convertToInteractive('df-2b34019c-2b46-4a74-af9a-f2dd37276b92')\"\n",
              "              title=\"Convert this dataframe to an interactive table.\"\n",
              "              style=\"display:none;\">\n",
              "        \n",
              "  <svg xmlns=\"http://www.w3.org/2000/svg\" height=\"24px\"viewBox=\"0 0 24 24\"\n",
              "       width=\"24px\">\n",
              "    <path d=\"M0 0h24v24H0V0z\" fill=\"none\"/>\n",
              "    <path d=\"M18.56 5.44l.94 2.06.94-2.06 2.06-.94-2.06-.94-.94-2.06-.94 2.06-2.06.94zm-11 1L8.5 8.5l.94-2.06 2.06-.94-2.06-.94L8.5 2.5l-.94 2.06-2.06.94zm10 10l.94 2.06.94-2.06 2.06-.94-2.06-.94-.94-2.06-.94 2.06-2.06.94z\"/><path d=\"M17.41 7.96l-1.37-1.37c-.4-.4-.92-.59-1.43-.59-.52 0-1.04.2-1.43.59L10.3 9.45l-7.72 7.72c-.78.78-.78 2.05 0 2.83L4 21.41c.39.39.9.59 1.41.59.51 0 1.02-.2 1.41-.59l7.78-7.78 2.81-2.81c.8-.78.8-2.07 0-2.86zM5.41 20L4 18.59l7.72-7.72 1.47 1.35L5.41 20z\"/>\n",
              "  </svg>\n",
              "      </button>\n",
              "      \n",
              "  <style>\n",
              "    .colab-df-container {\n",
              "      display:flex;\n",
              "      flex-wrap:wrap;\n",
              "      gap: 12px;\n",
              "    }\n",
              "\n",
              "    .colab-df-convert {\n",
              "      background-color: #E8F0FE;\n",
              "      border: none;\n",
              "      border-radius: 50%;\n",
              "      cursor: pointer;\n",
              "      display: none;\n",
              "      fill: #1967D2;\n",
              "      height: 32px;\n",
              "      padding: 0 0 0 0;\n",
              "      width: 32px;\n",
              "    }\n",
              "\n",
              "    .colab-df-convert:hover {\n",
              "      background-color: #E2EBFA;\n",
              "      box-shadow: 0px 1px 2px rgba(60, 64, 67, 0.3), 0px 1px 3px 1px rgba(60, 64, 67, 0.15);\n",
              "      fill: #174EA6;\n",
              "    }\n",
              "\n",
              "    [theme=dark] .colab-df-convert {\n",
              "      background-color: #3B4455;\n",
              "      fill: #D2E3FC;\n",
              "    }\n",
              "\n",
              "    [theme=dark] .colab-df-convert:hover {\n",
              "      background-color: #434B5C;\n",
              "      box-shadow: 0px 1px 3px 1px rgba(0, 0, 0, 0.15);\n",
              "      filter: drop-shadow(0px 1px 2px rgba(0, 0, 0, 0.3));\n",
              "      fill: #FFFFFF;\n",
              "    }\n",
              "  </style>\n",
              "\n",
              "      <script>\n",
              "        const buttonEl =\n",
              "          document.querySelector('#df-2b34019c-2b46-4a74-af9a-f2dd37276b92 button.colab-df-convert');\n",
              "        buttonEl.style.display =\n",
              "          google.colab.kernel.accessAllowed ? 'block' : 'none';\n",
              "\n",
              "        async function convertToInteractive(key) {\n",
              "          const element = document.querySelector('#df-2b34019c-2b46-4a74-af9a-f2dd37276b92');\n",
              "          const dataTable =\n",
              "            await google.colab.kernel.invokeFunction('convertToInteractive',\n",
              "                                                     [key], {});\n",
              "          if (!dataTable) return;\n",
              "\n",
              "          const docLinkHtml = 'Like what you see? Visit the ' +\n",
              "            '<a target=\"_blank\" href=https://colab.research.google.com/notebooks/data_table.ipynb>data table notebook</a>'\n",
              "            + ' to learn more about interactive tables.';\n",
              "          element.innerHTML = '';\n",
              "          dataTable['output_type'] = 'display_data';\n",
              "          await google.colab.output.renderOutput(dataTable, element);\n",
              "          const docLink = document.createElement('div');\n",
              "          docLink.innerHTML = docLinkHtml;\n",
              "          element.appendChild(docLink);\n",
              "        }\n",
              "      </script>\n",
              "    </div>\n",
              "  </div>\n",
              "  "
            ]
          },
          "metadata": {},
          "execution_count": 43
        }
      ]
    },
    {
      "cell_type": "code",
      "source": [
        "# drop SA and SA categories and normalize X_explo \n",
        "from sklearn.preprocessing import StandardScaler \n",
        "scale = StandardScaler() \n",
        "data_final_num_cat1 = data_final_num_cat.drop('S_A ',axis=1)\n",
        "x_explo = data_final_num_cat1.drop('S_A_categories',axis=1)\n",
        "x_explo1 = scale.fit_transform(x_explo)\n",
        "x_explo1 "
      ],
      "metadata": {
        "colab": {
          "base_uri": "https://localhost:8080/"
        },
        "id": "uo0ELP9agmh-",
        "outputId": "95aae98b-19a2-4baf-ab98-2c9736ad41ed"
      },
      "execution_count": 44,
      "outputs": [
        {
          "output_type": "execute_result",
          "data": {
            "text/plain": [
              "array([[-0.71692536,  0.98961303, -0.52424491, ...,  0.06945784,\n",
              "        -1.09071315, -1.9245009 ],\n",
              "       [ 0.36232543, -0.32187413,  0.73692934, ..., -1.6947714 ,\n",
              "        -1.09071315, -1.9245009 ],\n",
              "       [-0.61881166,  0.74370919,  1.1405051 , ...,  0.06945784,\n",
              "         0.91683134,  0.51961524],\n",
              "       ...,\n",
              "       [-0.81503907, -1.1415536 , -0.67558582, ..., -1.6947714 ,\n",
              "        -1.09071315, -1.9245009 ],\n",
              "       [ 1.34346251,  0.00599766,  0.93871722, ..., -1.6947714 ,\n",
              "        -1.09071315,  0.51961524],\n",
              "       [-1.01126649, -0.48581002,  1.79631571, ...,  0.06945784,\n",
              "        -1.09071315,  0.51961524]])"
            ]
          },
          "metadata": {},
          "execution_count": 44
        }
      ]
    },
    {
      "cell_type": "code",
      "source": [
        "# Map SA categories so it works for TSNE \n",
        "y_explo_cat=data_final_num_cat1['S_A_categories'].map({\n",
        "    'Severe_PN':0,\n",
        "    'Moderate_PN':1,\n",
        "    'No_PN':2\n",
        "}) "
      ],
      "metadata": {
        "id": "0_gSJvcpgfcn"
      },
      "execution_count": 45,
      "outputs": []
    },
    {
      "cell_type": "code",
      "source": [
        "from sklearn.manifold import TSNE \n",
        "import matplotlib.pyplot as plt \n",
        "tsne = TSNE(n_components=2) \n",
        "reduced_features = tsne.fit_transform(x_explo1 )\n",
        "plt.figure(figsize=(5,5)) \n",
        "reduced_features0 = reduced_features[y_explo_cat==0] \n",
        "reduced_features1 = reduced_features[y_explo_cat==1]\n",
        "reduced_features2 = reduced_features[y_explo_cat==2]\n",
        "plt.scatter(reduced_features0[:,0],reduced_features0[:,1],label='Severe Peripheral Neuropathy')\n",
        "plt.scatter(reduced_features1[:,0],reduced_features1[:,1],label='Moderate Peripheral Neuropathy')\n",
        "plt.scatter(reduced_features2[:,0],reduced_features2[:,1],label='NO Peripheral Neuropathy')\n",
        "plt.title ('Peripheral Neuropathy Classification') \n",
        "plt.xlabel('TSNE 1')\n",
        "plt.ylabel('TSNE 2')\n",
        "plt.legend(loc=(1.04,1)) \n",
        "plt.show()\n"
      ],
      "metadata": {
        "colab": {
          "base_uri": "https://localhost:8080/",
          "height": 471
        },
        "id": "0xJwo1Fvglgf",
        "outputId": "4fb83597-f5d5-43ac-fc31-7e42ff3eeace"
      },
      "execution_count": 46,
      "outputs": [
        {
          "output_type": "stream",
          "name": "stderr",
          "text": [
            "/usr/local/lib/python3.7/dist-packages/sklearn/manifold/_t_sne.py:783: FutureWarning: The default initialization in TSNE will change from 'random' to 'pca' in 1.2.\n",
            "  FutureWarning,\n",
            "/usr/local/lib/python3.7/dist-packages/sklearn/manifold/_t_sne.py:793: FutureWarning: The default learning rate in TSNE will change from 200.0 to 'auto' in 1.2.\n",
            "  FutureWarning,\n"
          ]
        },
        {
          "output_type": "display_data",
          "data": {
            "text/plain": [
              "<Figure size 360x360 with 1 Axes>"
            ],
            "image/png": "[encoded data removed]"
          },
          "metadata": {
            "needs_background": "light"
          }
        }
      ]
    },
    {
      "cell_type": "code",
      "source": [
        "# let us convert X_train2 to dataframe for plotting purposes \n",
        "columns=list(X_train1.columns) \n",
        "data_Xtrain2=pd.DataFrame(x_explo,columns=columns) \n",
        "data_Xtrain2 = data_Xtrain2.reset_index() \n",
        "y_train3 = y_explo_cat.reset_index() \n",
        "X_t_plotting = pd.concat([data_Xtrain2,y_train3],axis=1)\n",
        "X_t_plotting=X_t_plotting.drop('index',axis=1)\n",
        "X_t_plotting.head(2)"
      ],
      "metadata": {
        "colab": {
          "base_uri": "https://localhost:8080/",
          "height": 205
        },
        "id": "wtP6Rlizi5Um",
        "outputId": "cb38728a-087b-43c8-c2d1-bcafc34db357"
      },
      "execution_count": 47,
      "outputs": [
        {
          "output_type": "execute_result",
          "data": {
            "text/plain": [
              "    Age Sex  HR_L  BP_L_Sys  BP_L_Dias  HR_S  BP_S_Sys  BP_S_Dias Ohtn DTRs  \\\n",
              "0  50.0   2  91.0     130.0       71.0  85.0     117.0       71.0    2    0   \n",
              "1  61.0   2  75.0     155.0       77.0  74.0     153.0       77.0    2    2   \n",
              "\n",
              "   ... Retinopathy  DM  AgeO  Modification  Pain  Diurnal  Coldness  Tingling  \\\n",
              "0  ...           2   2  44.0             2     1        2         2         1   \n",
              "1  ...           2   2  60.0             1     2        1         1         1   \n",
              "\n",
              "   Alloydnia S_A_categories  \n",
              "0          1              2  \n",
              "1          1              1  \n",
              "\n",
              "[2 rows x 41 columns]"
            ],
            "text/html": [
              "\n",
              "  <div id=\"df-38e669f8-214d-40e0-bcca-e55582bc706b\">\n",
              "    <div class=\"colab-df-container\">\n",
              "      <div>\n",
              "<style scoped>\n",
              "    .dataframe tbody tr th:only-of-type {\n",
              "        vertical-align: middle;\n",
              "    }\n",
              "\n",
              "    .dataframe tbody tr th {\n",
              "        vertical-align: top;\n",
              "    }\n",
              "\n",
              "    .dataframe thead th {\n",
              "        text-align: right;\n",
              "    }\n",
              "</style>\n",
              "<table border=\"1\" class=\"dataframe\">\n",
              "  <thead>\n",
              "    <tr style=\"text-align: right;\">\n",
              "      <th></th>\n",
              "      <th>Age</th>\n",
              "      <th>Sex</th>\n",
              "      <th>HR_L</th>\n",
              "      <th>BP_L_Sys</th>\n",
              "      <th>BP_L_Dias</th>\n",
              "      <th>HR_S</th>\n",
              "      <th>BP_S_Sys</th>\n",
              "      <th>BP_S_Dias</th>\n",
              "      <th>Ohtn</th>\n",
              "      <th>DTRs</th>\n",
              "      <th>...</th>\n",
              "      <th>Retinopathy</th>\n",
              "      <th>DM</th>\n",
              "      <th>AgeO</th>\n",
              "      <th>Modification</th>\n",
              "      <th>Pain</th>\n",
              "      <th>Diurnal</th>\n",
              "      <th>Coldness</th>\n",
              "      <th>Tingling</th>\n",
              "      <th>Alloydnia</th>\n",
              "      <th>S_A_categories</th>\n",
              "    </tr>\n",
              "  </thead>\n",
              "  <tbody>\n",
              "    <tr>\n",
              "      <th>0</th>\n",
              "      <td>50.0</td>\n",
              "      <td>2</td>\n",
              "      <td>91.0</td>\n",
              "      <td>130.0</td>\n",
              "      <td>71.0</td>\n",
              "      <td>85.0</td>\n",
              "      <td>117.0</td>\n",
              "      <td>71.0</td>\n",
              "      <td>2</td>\n",
              "      <td>0</td>\n",
              "      <td>...</td>\n",
              "      <td>2</td>\n",
              "      <td>2</td>\n",
              "      <td>44.0</td>\n",
              "      <td>2</td>\n",
              "      <td>1</td>\n",
              "      <td>2</td>\n",
              "      <td>2</td>\n",
              "      <td>1</td>\n",
              "      <td>1</td>\n",
              "      <td>2</td>\n",
              "    </tr>\n",
              "    <tr>\n",
              "      <th>1</th>\n",
              "      <td>61.0</td>\n",
              "      <td>2</td>\n",
              "      <td>75.0</td>\n",
              "      <td>155.0</td>\n",
              "      <td>77.0</td>\n",
              "      <td>74.0</td>\n",
              "      <td>153.0</td>\n",
              "      <td>77.0</td>\n",
              "      <td>2</td>\n",
              "      <td>2</td>\n",
              "      <td>...</td>\n",
              "      <td>2</td>\n",
              "      <td>2</td>\n",
              "      <td>60.0</td>\n",
              "      <td>1</td>\n",
              "      <td>2</td>\n",
              "      <td>1</td>\n",
              "      <td>1</td>\n",
              "      <td>1</td>\n",
              "      <td>1</td>\n",
              "      <td>1</td>\n",
              "    </tr>\n",
              "  </tbody>\n",
              "</table>\n",
              "<p>2 rows × 41 columns</p>\n",
              "</div>\n",
              "      <button class=\"colab-df-convert\" onclick=\"convertToInteractive('df-38e669f8-214d-40e0-bcca-e55582bc706b')\"\n",
              "              title=\"Convert this dataframe to an interactive table.\"\n",
              "              style=\"display:none;\">\n",
              "        \n",
              "  <svg xmlns=\"http://www.w3.org/2000/svg\" height=\"24px\"viewBox=\"0 0 24 24\"\n",
              "       width=\"24px\">\n",
              "    <path d=\"M0 0h24v24H0V0z\" fill=\"none\"/>\n",
              "    <path d=\"M18.56 5.44l.94 2.06.94-2.06 2.06-.94-2.06-.94-.94-2.06-.94 2.06-2.06.94zm-11 1L8.5 8.5l.94-2.06 2.06-.94-2.06-.94L8.5 2.5l-.94 2.06-2.06.94zm10 10l.94 2.06.94-2.06 2.06-.94-2.06-.94-.94-2.06-.94 2.06-2.06.94z\"/><path d=\"M17.41 7.96l-1.37-1.37c-.4-.4-.92-.59-1.43-.59-.52 0-1.04.2-1.43.59L10.3 9.45l-7.72 7.72c-.78.78-.78 2.05 0 2.83L4 21.41c.39.39.9.59 1.41.59.51 0 1.02-.2 1.41-.59l7.78-7.78 2.81-2.81c.8-.78.8-2.07 0-2.86zM5.41 20L4 18.59l7.72-7.72 1.47 1.35L5.41 20z\"/>\n",
              "  </svg>\n",
              "      </button>\n",
              "      \n",
              "  <style>\n",
              "    .colab-df-container {\n",
              "      display:flex;\n",
              "      flex-wrap:wrap;\n",
              "      gap: 12px;\n",
              "    }\n",
              "\n",
              "    .colab-df-convert {\n",
              "      background-color: #E8F0FE;\n",
              "      border: none;\n",
              "      border-radius: 50%;\n",
              "      cursor: pointer;\n",
              "      display: none;\n",
              "      fill: #1967D2;\n",
              "      height: 32px;\n",
              "      padding: 0 0 0 0;\n",
              "      width: 32px;\n",
              "    }\n",
              "\n",
              "    .colab-df-convert:hover {\n",
              "      background-color: #E2EBFA;\n",
              "      box-shadow: 0px 1px 2px rgba(60, 64, 67, 0.3), 0px 1px 3px 1px rgba(60, 64, 67, 0.15);\n",
              "      fill: #174EA6;\n",
              "    }\n",
              "\n",
              "    [theme=dark] .colab-df-convert {\n",
              "      background-color: #3B4455;\n",
              "      fill: #D2E3FC;\n",
              "    }\n",
              "\n",
              "    [theme=dark] .colab-df-convert:hover {\n",
              "      background-color: #434B5C;\n",
              "      box-shadow: 0px 1px 3px 1px rgba(0, 0, 0, 0.15);\n",
              "      filter: drop-shadow(0px 1px 2px rgba(0, 0, 0, 0.3));\n",
              "      fill: #FFFFFF;\n",
              "    }\n",
              "  </style>\n",
              "\n",
              "      <script>\n",
              "        const buttonEl =\n",
              "          document.querySelector('#df-38e669f8-214d-40e0-bcca-e55582bc706b button.colab-df-convert');\n",
              "        buttonEl.style.display =\n",
              "          google.colab.kernel.accessAllowed ? 'block' : 'none';\n",
              "\n",
              "        async function convertToInteractive(key) {\n",
              "          const element = document.querySelector('#df-38e669f8-214d-40e0-bcca-e55582bc706b');\n",
              "          const dataTable =\n",
              "            await google.colab.kernel.invokeFunction('convertToInteractive',\n",
              "                                                     [key], {});\n",
              "          if (!dataTable) return;\n",
              "\n",
              "          const docLinkHtml = 'Like what you see? Visit the ' +\n",
              "            '<a target=\"_blank\" href=https://colab.research.google.com/notebooks/data_table.ipynb>data table notebook</a>'\n",
              "            + ' to learn more about interactive tables.';\n",
              "          element.innerHTML = '';\n",
              "          dataTable['output_type'] = 'display_data';\n",
              "          await google.colab.output.renderOutput(dataTable, element);\n",
              "          const docLink = document.createElement('div');\n",
              "          docLink.innerHTML = docLinkHtml;\n",
              "          element.appendChild(docLink);\n",
              "        }\n",
              "      </script>\n",
              "    </div>\n",
              "  </div>\n",
              "  "
            ]
          },
          "metadata": {},
          "execution_count": 47
        }
      ]
    },
    {
      "cell_type": "code",
      "source": [
        "# to be able to see the plotting in a scatter mix, let us convert the S_A_categories from categorical to integer \n",
        "X_t_plotting.S_A_categories= X_t_plotting.S_A_categories.astype(int)\n",
        "X_t_plotting.S_A_categories.dtypes"
      ],
      "metadata": {
        "colab": {
          "base_uri": "https://localhost:8080/"
        },
        "id": "h5EPXbcQj9NG",
        "outputId": "2d4e08f3-c0af-419b-9237-a78de5ddb78b"
      },
      "execution_count": 48,
      "outputs": [
        {
          "output_type": "execute_result",
          "data": {
            "text/plain": [
              "dtype('int64')"
            ]
          },
          "metadata": {},
          "execution_count": 48
        }
      ]
    },
    {
      "cell_type": "code",
      "source": [
        "# one plot showing correlation of 4 features and target variable (S_A_categories)\n",
        "from pandas.plotting import scatter_matrix \n",
        "attributes = ['Age','FBS','TSH','VitB12','S_A_categories']\n",
        "scatter_matrix(X_t_plotting[attributes],figsize=(10,6),diagonal='kde')\n",
        "plt.show()"
      ],
      "metadata": {
        "colab": {
          "base_uri": "https://localhost:8080/",
          "height": 398
        },
        "id": "_OfMqHkykSrE",
        "outputId": "bd4ee0dd-5c30-489f-c454-30372169b259"
      },
      "execution_count": 49,
      "outputs": [
        {
          "output_type": "display_data",
          "data": {
            "text/plain": [
              "<Figure size 720x432 with 25 Axes>"
            ],
            "image/png": "[encoded data removed]"
          },
          "metadata": {
            "needs_background": "light"
          }
        }
      ]
    },
    {
      "cell_type": "code",
      "source": [
        "# RFECV \n",
        "from sklearn.feature_selection import RFECV\n",
        "from sklearn.ensemble import RandomForestClassifier\n",
        "from sklearn.model_selection import StratifiedKFold \n",
        "estimator = RandomForestClassifier(random_state=0) \n",
        "selector = RFECV(estimator,step=1,cv=StratifiedKFold(7))\n",
        "selector=selector.fit(x_explo,y_explo_cat) \n",
        "selector.ranking_\n",
        "selector.support_"
      ],
      "metadata": {
        "id": "0bjAKoHeqYVM"
      },
      "execution_count": null,
      "outputs": []
    },
    {
      "cell_type": "code",
      "source": [
        "features_ranking = selector.ranking_\n",
        "features_ranking"
      ],
      "metadata": {
        "id": "TeMC7FQOrgUa"
      },
      "execution_count": null,
      "outputs": []
    },
    {
      "cell_type": "code",
      "source": [
        "features_names=x_explo.columns"
      ],
      "metadata": {
        "id": "CVkOWJSJrvvk"
      },
      "execution_count": null,
      "outputs": []
    },
    {
      "cell_type": "code",
      "source": [
        "import matplotlib.pyplot as plt\n",
        "important_features = pd.DataFrame({'Features Names':features_names,'Features Ranking':features_ranking})\n",
        "important_features = important_features.sort_values(by='Features Ranking',ascending=True)\n",
        "important_features "
      ],
      "metadata": {
        "id": "wT6pTh-yr0JE"
      },
      "execution_count": null,
      "outputs": []
    },
    {
      "cell_type": "code",
      "source": [
        "# create dataframe with most important features according to RFECV \n",
        "X_train_valid_data_frame_RFEVC= data_final_num_cat1[['Age','Diet','DTRs','Coldness','AgeO','Driving_hours',\n",
        "                                                     'Working_hours','BMI','Caffeine','Weight',\n",
        "                                                     'Height','Height','HDL','VitB12','TSH','FBS','BP_S_Dias',\n",
        "                                                     'BP_S_Sys','HR_S','BP_L_Dias','BP_L_Sys','HR_L','LDL','S_A_categories']]\n",
        "\n"
      ],
      "metadata": {
        "id": "ZFtKiZHEsERY"
      },
      "execution_count": null,
      "outputs": []
    },
    {
      "cell_type": "markdown",
      "source": [
        "#Data Preprocessing and Feature Engineering without RFECV "
      ],
      "metadata": {
        "id": "D_wQnQRcm-en"
      }
    },
    {
      "cell_type": "code",
      "source": [
        "from sklearn.preprocessing import FunctionTransformer \n",
        "BP_L_Dias_ix,HR_S_ix,BP_S_Sys_ix,TSH_ix = [\n",
        "                                                 list(X_train_val.columns).index(col) for col in ('BP_L_Dias','HR_S','BP_S_Sys','TSH')\n",
        "]\n",
        "def add_extra_features(X,add_BP_S_Sys=True):\n",
        "  BP_L_Dias_TSH = X[:,BP_L_Dias_ix]/X[:,TSH_ix]\n",
        "  HR_S_TSH=X[:,HR_S_ix]/X[:,TSH_ix]\n",
        "  if add_BP_S_Sys:\n",
        "    BP_S_Sys=X[:,BP_S_Sys_ix]/X[:,TSH_ix]\n",
        "    return np.c_[X,BP_L_Dias_TSH,HR_S_TSH,BP_S_Sys]\n",
        "  else:\n",
        "    return np.c_[X,BP_L_Dias_TSH,HR_S_TSH]"
      ],
      "metadata": {
        "id": "dAaDuYMfmBF4"
      },
      "execution_count": null,
      "outputs": []
    },
    {
      "cell_type": "code",
      "source": [
        "attr_adder = FunctionTransformer(add_extra_features,validate=False,kw_args={'add_BP_S_Sys':False})\n",
        "train_extra_attribs=attr_adder.fit_transform(X_train_val.values)\n",
        "train_extra_attribs=pd.DataFrame(\n",
        "    train_extra_attribs,\n",
        "    columns=list(X_train_val.columns)+['BP_L_Dias_TSH','HR_S_TSH'],\n",
        "    index=X_train_val.index\n",
        "\n",
        ")\n",
        "print(train_extra_attribs.shape) \n",
        "print(train_extra_attribs.head(3))\n"
      ],
      "metadata": {
        "id": "IFAixJqdmuej"
      },
      "execution_count": null,
      "outputs": []
    },
    {
      "cell_type": "code",
      "source": [
        "from sklearn.pipeline import Pipeline \n",
        "from sklearn.preprocessing import StandardScaler \n",
        "from sklearn.impute import SimpleImputer \n",
        "num_pipeline = Pipeline([\n",
        "                         ('imputer',SimpleImputer(strategy='median')),\n",
        "                         ('attribs_adder',FunctionTransformer(add_extra_features)),\n",
        "                         ('std_scaler',StandardScaler()),\n",
        "])"
      ],
      "metadata": {
        "id": "1c7MkB2gmBIZ"
      },
      "execution_count": null,
      "outputs": []
    },
    {
      "cell_type": "code",
      "source": [
        "train_num = X_train_val.select_dtypes(include=[np.number]) \n",
        "train_cat=X_train_val.select_dtypes(exclude=[np.number])"
      ],
      "metadata": {
        "id": "-Bdduyv1pnC6"
      },
      "execution_count": null,
      "outputs": []
    },
    {
      "cell_type": "code",
      "source": [
        "from sklearn.compose import ColumnTransformer \n",
        "from sklearn.preprocessing import OneHotEncoder\n",
        "num_attribs = list(train_num)\n",
        "cat_attribs = list(train_cat)\n",
        "\n",
        "full_pipeline = ColumnTransformer([\n",
        "                                   ('num',num_pipeline,num_attribs ),\n",
        "                                   ('cat',OneHotEncoder(handle_unknown = \"ignore\"),cat_attribs),\n",
        "])\n",
        "train_prepared = full_pipeline.fit_transform(X_train_val)\n",
        "valid_prepared = full_pipeline.transform(X_val)"
      ],
      "metadata": {
        "id": "TBNif_n5pCZ_"
      },
      "execution_count": null,
      "outputs": []
    },
    {
      "cell_type": "markdown",
      "source": [
        "# Classification Models Without RFECV "
      ],
      "metadata": {
        "id": "XpAyJEyBv0ca"
      }
    },
    {
      "cell_type": "code",
      "source": [
        "# Basline Models - datafarme without RFECV \n",
        "from sklearn.metrics import accuracy_score\n",
        "from sklearn.linear_model import LogisticRegression \n",
        "from sklearn.ensemble import RandomForestClassifier \n",
        "from sklearn.tree import DecisionTreeClassifier \n",
        "from sklearn.svm import SVC \n",
        "from sklearn.neighbors import KNeighborsClassifier\n",
        "classifiers = [LogisticRegression(),RandomForestClassifier(),DecisionTreeClassifier(),SVC(),KNeighborsClassifier()]\n",
        "estimators = ['Logistic Regression','Random Forest Classifier','Decision Tree Classifier','SVC','KNN'] \n",
        "Accuracy=[]\n",
        "Estimator=[]\n",
        "Model =[]\n",
        "for c,e in zip(classifiers,estimators):\n",
        "  cvs=c.fit(train_prepared,y_train_val)\n",
        "  y_predict1 = cvs.predict(valid_prepared)\n",
        "  accuracy1 = accuracy_score(y_val,y_predict1)\n",
        "  accuracy1=round(accuracy1,2) \n",
        "  Accuracy.append(accuracy1) \n",
        "  Estimator.append(e)\n",
        "  Model.append(c)\n",
        "\n",
        "print(Accuracy) \n",
        "print(Model)\n",
        "dtc_cvs=pd.DataFrame({'Model':Model,'Estimator':Estimator,'Accuracy':Accuracy})\n",
        "dtc_cvs=dtc_cvs.sort_values(by='Accuracy',ascending=False)\n",
        "dtc_cvs=dtc_cvs.drop('Model',axis=1)\n",
        "dtc_cvs\n"
      ],
      "metadata": {
        "id": "e6r_5rAj4L4B"
      },
      "execution_count": null,
      "outputs": []
    },
    {
      "cell_type": "markdown",
      "source": [
        "#DataFrame after applying RFECV"
      ],
      "metadata": {
        "id": "H-wjlhhL5Auv"
      }
    },
    {
      "cell_type": "code",
      "source": [
        "RFECV_Data = data[['Age','VitB12','TSH','FBS','BP_S_Dias','BP_S_Sys','HR_S','BP_L_Dias','BP_L_Sys','HR_L','LDL','Diet','DTRs','Coldness','AgeO','Driving_hours', 'Working_hours','BMI','Caffeine','Weight','Height','HDL','S_A_categories']]\n",
        "RFECV_Data.columns"
      ],
      "metadata": {
        "id": "6nFmZ4u6D6-V"
      },
      "execution_count": null,
      "outputs": []
    },
    {
      "cell_type": "code",
      "source": [
        "X_RFE =RFECV_Data.drop('S_A_categories',axis=1) \n",
        "X_RFE.columns"
      ],
      "metadata": {
        "id": "w5A1UGlcE3R1"
      },
      "execution_count": null,
      "outputs": []
    },
    {
      "cell_type": "code",
      "source": [
        "y_RFE= RFECV_Data['S_A_categories']\n",
        "y_RFE"
      ],
      "metadata": {
        "id": "Umv-PfeNFE65"
      },
      "execution_count": null,
      "outputs": []
    },
    {
      "cell_type": "code",
      "source": [
        "y_RFE_num=RFECV_Data['S_A_categories'].map({\n",
        "    'Severe_PN':0,\n",
        "    'Moderate_PN':1,\n",
        "    'No_PN':2\n",
        "}) \n",
        "y_RFE_num"
      ],
      "metadata": {
        "id": "N3WkcQZh4MBB"
      },
      "execution_count": null,
      "outputs": []
    },
    {
      "cell_type": "code",
      "source": [
        "X_RFE['DTRs']=X_RFE['DTRs'].replace('3','2')\n",
        "X_RFE['DTRs']=X_RFE['DTRs'].astype(str)\n"
      ],
      "metadata": {
        "id": "NrubecHG4Zup"
      },
      "execution_count": null,
      "outputs": []
    },
    {
      "cell_type": "code",
      "source": [
        "from sklearn.model_selection import train_test_split \n",
        "X_train_r,X_test_r,y_train_r,y_test_R = train_test_split(X_RFE,y_RFE_num,test_size=0.4,stratify=y_RFE_num)\n",
        "X_train_rfe,X_val_rfe,y_train_rfe,y_val_rfe=train_test_split(X_train_r,y_train_r,test_size=0.4,stratify=y_train_r)"
      ],
      "metadata": {
        "id": "ukpV1vXx27iC"
      },
      "execution_count": null,
      "outputs": []
    },
    {
      "cell_type": "code",
      "source": [
        "X_train_rfe.head(3)"
      ],
      "metadata": {
        "id": "_wcoqsTfGj4T"
      },
      "execution_count": null,
      "outputs": []
    },
    {
      "cell_type": "code",
      "source": [
        "from sklearn.preprocessing import FunctionTransformer \n",
        "BP_L_Dias_ix,HR_S_ix,BP_S_Sys_ix,TSH_ix = [\n",
        "                                                 list(X_train_rfe.columns).index(col) for col in ('BP_L_Dias','HR_S','BP_S_Sys','TSH')\n",
        "]\n",
        "def add_extra_features1(X,add_BP_S_Sys=True):\n",
        "  BP_L_Dias_TSH1 = X[:,BP_L_Dias_ix]/X[:,TSH_ix]\n",
        "  HR_S_TSH1=X[:,HR_S_ix]/X[:,TSH_ix]\n",
        "  if add_BP_S_Sys:\n",
        "    BP_S_Sys1=X[:,BP_S_Sys_ix]/X[:,TSH_ix]\n",
        "    return np.c_[X,BP_L_Dias_TSH1,HR_S_TSH1,BP_S_Sys1]\n",
        "  else:\n",
        "    return np.c_[X,BP_L_Dias_TSH1,HR_S_TSH1]"
      ],
      "metadata": {
        "id": "VP9l_k1L27k_"
      },
      "execution_count": null,
      "outputs": []
    },
    {
      "cell_type": "code",
      "source": [
        "attr_adder1 = FunctionTransformer(add_extra_features1,validate=False,kw_args={'add_BP_S_Sys':False})\n",
        "train_extra_attribs1=attr_adder1.fit_transform(X_train_rfe.values)\n",
        "train_extra_attribs1=pd.DataFrame(\n",
        "    train_extra_attribs1,\n",
        "    columns=list(X_train_rfe.columns)+['BP_L_Dias_TSH1','HR_S_TSH1'],\n",
        "    index=X_train_rfe.index\n",
        "\n",
        ")\n",
        "print(train_extra_attribs1.shape) \n",
        "print(train_extra_attribs1.head(3))\n"
      ],
      "metadata": {
        "id": "dyvMmjxR27ne"
      },
      "execution_count": null,
      "outputs": []
    },
    {
      "cell_type": "code",
      "source": [
        "from sklearn.pipeline import Pipeline \n",
        "from sklearn.preprocessing import StandardScaler \n",
        "from sklearn.impute import SimpleImputer \n",
        "num_pipeline1 = Pipeline([\n",
        "                         ('imputer',SimpleImputer(strategy='median')),\n",
        "                         ('attribs_adder',FunctionTransformer(add_extra_features1)),\n",
        "                         ('std_scaler',StandardScaler()),\n",
        "])"
      ],
      "metadata": {
        "id": "wwUsLTzI27qU"
      },
      "execution_count": null,
      "outputs": []
    },
    {
      "cell_type": "code",
      "source": [
        "train_num1 = X_train_rfe.select_dtypes(include=[np.number]) \n",
        "train_cat1=X_train_rfe.select_dtypes(exclude=[np.number])"
      ],
      "metadata": {
        "id": "dLxzBpS827tT"
      },
      "execution_count": null,
      "outputs": []
    },
    {
      "cell_type": "code",
      "source": [
        "from sklearn.compose import ColumnTransformer \n",
        "from sklearn.preprocessing import OneHotEncoder\n",
        "num_attribs1 = list(train_num1)\n",
        "cat_attribs1 = list(train_cat1)\n",
        "\n",
        "full_pipeline1 = ColumnTransformer([\n",
        "                                   ('num',num_pipeline1,num_attribs1 ),\n",
        "                                   ('cat',OneHotEncoder(handle_unknown = \"ignore\"),cat_attribs1),\n",
        "])\n",
        "train_prepared1 = full_pipeline1.fit_transform(X_train_rfe)\n",
        "valid_prepared1 = full_pipeline1.transform(X_val_rfe)"
      ],
      "metadata": {
        "id": "mFr4mC4M4MEq"
      },
      "execution_count": null,
      "outputs": []
    },
    {
      "cell_type": "markdown",
      "source": [
        "# Classification Models With RFECV "
      ],
      "metadata": {
        "id": "-xsBYrtiL1os"
      }
    },
    {
      "cell_type": "code",
      "source": [
        "# Basline Model comparison - datafarme with RFECV \n",
        "classifiers_rfe = [LogisticRegression(),RandomForestClassifier(),DecisionTreeClassifier(),SVC(),KNeighborsClassifier()]\n",
        "estimators_rfe = ['Logistic Regression','Random Forest Classifier','Decision Tree Classifier','SVC','KNN'] \n",
        "Accuracy_rfe=[]\n",
        "Estimator_rfe=[]\n",
        "Model_rfe =[]\n",
        "for c,e in zip(classifiers_rfe,estimators_rfe):\n",
        "  cvs_rfe=c.fit(train_prepared1,y_train_rfe)\n",
        "  y_predict_rfe = cvs_rfe.predict(valid_prepared1)\n",
        "  accuracy_r = accuracy_score(y_val_rfe,y_predict_rfe)\n",
        "  accuracy_r=round(accuracy_r,2) \n",
        "  Accuracy_rfe.append(accuracy_r) \n",
        "  Estimator_rfe.append(e)\n",
        "  Model_rfe.append(c)\n",
        "\n",
        "print(Accuracy_rfe) \n",
        "print(Model_rfe)\n",
        "dtc_cvs1=pd.DataFrame({'Model':Model_rfe,'Estimator':Estimator_rfe,'Accuracy':Accuracy_rfe})\n",
        "dtc_cvs1=dtc_cvs1.sort_values(by='Accuracy',ascending=False)\n",
        "dtc_cvs1=dtc_cvs1.drop('Model',axis=1)\n",
        "dtc_cvs1"
      ],
      "metadata": {
        "id": "g9orjoJq_Vza"
      },
      "execution_count": null,
      "outputs": []
    },
    {
      "cell_type": "markdown",
      "source": [
        "# Comparison : Baseline Models With and Without RFECV "
      ],
      "metadata": {
        "id": "kcWXBfKZPHp3"
      }
    },
    {
      "cell_type": "code",
      "source": [
        "# Model with RFECV \n",
        "dtc_cvs1= dtc_cvs1.reset_index()\n",
        "dtc_cvs1"
      ],
      "metadata": {
        "id": "9JwNjuYi_V4y"
      },
      "execution_count": null,
      "outputs": []
    },
    {
      "cell_type": "code",
      "source": [
        "# Model without RFECV\n",
        "dtc_cvs= dtc_cvs.reset_index()\n",
        "dtc_cvs"
      ],
      "metadata": {
        "id": "ojlOhbH__WQR"
      },
      "execution_count": null,
      "outputs": []
    },
    {
      "cell_type": "code",
      "source": [
        "# Merging the two dataset for comparison \n",
        "baseline_models=dtc_cvs.merge(dtc_cvs1,on='index',how='outer')\n",
        "baseline_models = baseline_models.drop(['index','Estimator_y'],axis=1)\n",
        "baseline_models = baseline_models.rename({'Estimator_x':'Classifier','Accuracy_x':'Accuracy_Without_RFECV','Accuracy_y':'Accuracy_with_RFECV'},axis=1)\n",
        "baseline_models"
      ],
      "metadata": {
        "id": "DSSIrrkl_XtX"
      },
      "execution_count": null,
      "outputs": []
    },
    {
      "cell_type": "markdown",
      "source": [
        "#Parameter Optimization for Models Without RFECV"
      ],
      "metadata": {
        "id": "UO_aW31ySNJM"
      }
    },
    {
      "cell_type": "markdown",
      "source": [
        "#SVC"
      ],
      "metadata": {
        "id": "2e6cs2LaXsDd"
      }
    },
    {
      "cell_type": "code",
      "source": [
        "# SVC parameter optimization on dataframe without RFECV since accuracy are higher in baseline models \n",
        "from sklearn.metrics import accuracy_score \n",
        "cost=[0.5,1,1.5,2]\n",
        "kernel=['linear','poly','rbf','sigmoid']\n",
        "gamma=['scale','auto']\n",
        "Cos=[]\n",
        "Kern=[]\n",
        "Gam =[]\n",
        "Accurate_valid=[]\n",
        "Accurate_train=[]\n",
        "for c in cost:\n",
        "  for k in kernel:\n",
        "    for g in gamma:\n",
        "      svc=SVC(C=c,kernel=k,gamma=g).fit(train_prepared,y_train_val)\n",
        "      predict = svc.predict(valid_prepared) \n",
        "      predict_train=svc.predict(train_prepared)\n",
        "      accuracy_valid = accuracy_score(predict,y_val) \n",
        "      accuracy_train=accuracy_score(predict_train,y_train_val)\n",
        "      accuracy_valid = round(accuracy_valid,2)\n",
        "      Accurate_valid.append(accuracy_valid)\n",
        "      Accurate_train.append(accuracy_train) \n",
        "      Cos.append(c) \n",
        "      Kern.append(k) \n",
        "      Gam.append(g)\n",
        "print(Accurate_valid)\n",
        "print(Cos)\n",
        "print(Kern)\n",
        "print(Gam)\n"
      ],
      "metadata": {
        "id": "__1ODWB47w1n"
      },
      "execution_count": null,
      "outputs": []
    },
    {
      "cell_type": "code",
      "source": [
        "SVC_dataframe=pd.DataFrame({'Cost':Cos,'Kernel':Kern,'Gamma':Gam,'Accuracy_valid':Accurate_valid,'Accuracy_train':Accurate_train})\n",
        "SVC_dataframe=SVC_dataframe.sort_values(by='Accuracy_train',ascending=False)\n",
        "SVC_dataframe"
      ],
      "metadata": {
        "id": "u_zdAH5F7w7a"
      },
      "execution_count": null,
      "outputs": []
    },
    {
      "cell_type": "code",
      "source": [
        "# let us plot overfitting with SVC\n",
        "from matplotlib import pyplot \n",
        "cost=[i for i in range (1,10,1)]\n",
        "train_scores, val_scores = list(), list()\n",
        "for i in cost:\n",
        "\t# configure the model\n",
        "\tmodel = SVC(C=i)\n",
        "\t# fit model on the training dataset\n",
        "\tmodel.fit(train_prepared, y_train_val)\n",
        "\t# evaluate on the train dataset\n",
        "\ttrain_yhat = model.predict(train_prepared)\n",
        "\ttrain_acc = accuracy_score(y_train_val, train_yhat)\n",
        "\ttrain_scores.append(train_acc)\n",
        "\t# evaluate on the valid dataset\n",
        "\tval_yhat = model.predict(valid_prepared )\n",
        "\tval_acc = accuracy_score(y_val, val_yhat)\n",
        "\tval_scores.append(val_acc)\n",
        "\t# summarize progress\n",
        "\t# print('>%d, train: %.3f, val: %.3f' % (i, train_acc, val_acc))\n",
        "# plot of train and test scores vs number of neighbors\n",
        "pyplot.plot(cost, train_scores, '-o', label='Train')\n",
        "pyplot.plot(cost, val_scores, '-o', label='Val')\n",
        "pyplot.xlabel('Cost') \n",
        "pyplot.ylabel('Accuracy')\n",
        "pyplot.legend()\n",
        "pyplot.show()"
      ],
      "metadata": {
        "id": "b6D9vEvF7w-Q"
      },
      "execution_count": null,
      "outputs": []
    },
    {
      "cell_type": "markdown",
      "source": [
        "#Random Forest Classifier"
      ],
      "metadata": {
        "id": "scX3dslcXw8O"
      }
    },
    {
      "cell_type": "code",
      "source": [
        "# let us take RandomForestClassifier and perform hyper-parameter tuning \n",
        "from sklearn.ensemble import RandomForestClassifier \n",
        "rfc = RandomForestClassifier()\n",
        "n_estimators=[10,20,30,40,50] \n",
        "criterion =['gini','entropy']\n",
        "min_samples_split=[2,3,4,5] \n",
        "Estimators = [] \n",
        "Criter = [] \n",
        "Min_Samples =[] \n",
        "Accurate_valid =[] \n",
        "Accurate_train=[]\n",
        "for n in n_estimators:\n",
        "  for c in criterion:\n",
        "    for m in min_samples_split:\n",
        "      rfc = RandomForestClassifier(n_estimators=n,criterion=c,min_samples_split=m).fit(train_prepared,y_train_val) \n",
        "      y_predict_train=rfc.predict(train_prepared)\n",
        "      y_predict_valid = rfc.predict(valid_prepared) \n",
        "      accur_valid = accuracy_score(y_predict_valid,y_val) \n",
        "      accur_train=accuracy_score(y_predict_train,y_train_val)\n",
        "      Accurate_valid.append(accur_valid)\n",
        "      Accurate_train.append(accur_train) \n",
        "      Estimators.append(n) \n",
        "      Criter.append(c) \n",
        "      Min_Samples.append(m) \n",
        "print(Estimators)\n",
        "print(Min_Samples)\n",
        "print(Criter)\n",
        "print(Accurate_valid)"
      ],
      "metadata": {
        "id": "5STLKOraUplJ"
      },
      "execution_count": null,
      "outputs": []
    },
    {
      "cell_type": "code",
      "source": [
        "random_forest_dataframe=pd.DataFrame({'Numb_of_Estimators':Estimators,'Criterion':Criter,'Min_Samples':Min_Samples,'Accuracy_valid':Accurate_valid,'Accuracy_train':Accurate_train})\n",
        "random_forest_dataframe=random_forest_dataframe.sort_values(by='Accuracy_valid',ascending=False)\n",
        "random_forest_dataframe"
      ],
      "metadata": {
        "id": "ayktGxBWWBj5"
      },
      "execution_count": null,
      "outputs": []
    },
    {
      "cell_type": "code",
      "source": [
        "# let us plot overfitting with RFc\n",
        "from matplotlib import pyplot \n",
        "n_estimators=[i for i in range (1,70,10)]\n",
        "train_scores, val_scores = list(), list()\n",
        "for i in n_estimators:\n",
        "\t# configure the model\n",
        "\tmodel = RandomForestClassifier(n_estimators=i)\n",
        "\t# fit model on the training dataset\n",
        "\tmodel.fit(train_prepared, y_train_val)\n",
        "\t# evaluate on the train dataset\n",
        "\ttrain_yhat = model.predict(train_prepared)\n",
        "\ttrain_acc = accuracy_score(y_train_val, train_yhat)\n",
        "\ttrain_scores.append(train_acc)\n",
        "\t# evaluate on the test dataset\n",
        "\tval_yhat = model.predict(valid_prepared )\n",
        "\tval_acc = accuracy_score(y_val, val_yhat)\n",
        "\tval_scores.append(val_acc)\n",
        "\t# summarize progress\n",
        "\tprint('>%d, train: %.3f, val: %.3f' % (i, train_acc, val_acc))\n",
        "# plot of train and test scores vs number of neighbors\n",
        "pyplot.plot(n_estimators, train_scores, '-o', label='Train')\n",
        "pyplot.plot(n_estimators, val_scores, '-o', label='Val')\n",
        "pyplot.xlabel('Number of Estimators') \n",
        "pyplot.ylabel('Accuracy')\n",
        "pyplot.legend()\n",
        "pyplot.show()"
      ],
      "metadata": {
        "id": "Z2zJeg9EWBnD"
      },
      "execution_count": null,
      "outputs": []
    },
    {
      "cell_type": "markdown",
      "source": [
        "#Neural Network with Multi-Layer Perceptron "
      ],
      "metadata": {
        "id": "grSLpptnY-AT"
      }
    },
    {
      "cell_type": "code",
      "source": [
        "from sklearn.neural_network import MLPClassifier \n",
        "from sklearn.preprocessing import StandardScaler \n",
        "from sklearn.metrics import confusion_matrix\n",
        "import numpy as np "
      ],
      "metadata": {
        "id": "m6oZ4kxQY4sj"
      },
      "execution_count": null,
      "outputs": []
    },
    {
      "cell_type": "code",
      "source": [
        "MLPClassifier?"
      ],
      "metadata": {
        "id": "2qjzDN3hM4DG"
      },
      "execution_count": null,
      "outputs": []
    },
    {
      "cell_type": "code",
      "source": [
        "from sklearn.metrics import accuracy_score\n",
        "hidden_layer_sizes =[2,4,6] \n",
        "activation=['logistic','relu','tanh'] \n",
        "solver = ['sgd','adam']\n",
        "accuracy=[]\n",
        "parameters = []\n",
        "for h in hidden_layer_sizes:\n",
        "  for a in activation:\n",
        "    for s in solver:\n",
        "      mlp=MLPClassifier(hidden_layer_sizes=(h),activation=a,solver=s) \n",
        "      mlp.fit(train_prepared,y_train_val)  \n",
        "      y_predict = mlp.predict(valid_prepared) \n",
        "      acc_score = round(accuracy_score(y_val,y_predict),2)\n",
        "      parameters.append(\"Hidden_Layers:{}, Activation:{}, Solver:{}\".format(h,a,s))\n",
        "      accuracy.append(acc_score)\n",
        "print(accuracy)"
      ],
      "metadata": {
        "id": "eRQAELelY4vg"
      },
      "execution_count": null,
      "outputs": []
    },
    {
      "cell_type": "code",
      "source": [
        "mlp_dataframe = pd.DataFrame({'Parameters':parameters,'Accuracy':accuracy}) \n",
        "mlp_dataframe =mlp_dataframe.sort_values(by='Accuracy',ascending=False)\n",
        "mlp_dataframe"
      ],
      "metadata": {
        "id": "nsyXyRDWa16Z"
      },
      "execution_count": null,
      "outputs": []
    },
    {
      "cell_type": "markdown",
      "source": [
        "#Deep Neural Network with Keras & Tensorflow "
      ],
      "metadata": {
        "id": "3YynAwcja_cg"
      }
    },
    {
      "cell_type": "code",
      "source": [
        "# Deep Neural Network using tensorflow \n",
        "import tensorflow as tf \n",
        "from tensorflow.keras.layers import Dense \n",
        "from tensorflow.keras.models import Sequential \n",
        "from tensorflow.keras.utils import plot_model \n",
        "%load_ext tensorboard "
      ],
      "metadata": {
        "id": "zFtvgsXkY438"
      },
      "execution_count": null,
      "outputs": []
    },
    {
      "cell_type": "code",
      "source": [
        "train_prepared.shape"
      ],
      "metadata": {
        "id": "OPRZTJDqdBk0"
      },
      "execution_count": null,
      "outputs": []
    },
    {
      "cell_type": "code",
      "source": [
        "model = Sequential()\n",
        "model.add(Dense(4,activation='relu',input_dim=95))\n",
        "model.add(Dense(1,activation='softmax'))"
      ],
      "metadata": {
        "id": "alL06MWybEgy"
      },
      "execution_count": null,
      "outputs": []
    },
    {
      "cell_type": "code",
      "source": [
        "model.summary()"
      ],
      "metadata": {
        "id": "85sdSP0VbEjW"
      },
      "execution_count": null,
      "outputs": []
    },
    {
      "cell_type": "code",
      "source": [
        "plot_model(model,show_shapes=True,show_layer_names=True)"
      ],
      "metadata": {
        "id": "xobpsYe9dbvx"
      },
      "execution_count": null,
      "outputs": []
    },
    {
      "cell_type": "code",
      "source": [
        "model.compile(optimizer='adam',loss='binary_crossentropy',metrics=['accuracy'])"
      ],
      "metadata": {
        "id": "JxDnbTLOdb4L"
      },
      "execution_count": null,
      "outputs": []
    },
    {
      "cell_type": "code",
      "source": [
        "# tensorflow accepts arrays , we will convert our target variable to array \n",
        "y_train_val_nump = np.asarray(y_train_val)\n",
        "y_val_nump = np.asarray(y_val)"
      ],
      "metadata": {
        "id": "kaBURBxkdb60"
      },
      "execution_count": null,
      "outputs": []
    },
    {
      "cell_type": "code",
      "source": [
        "# epochs > 90 is rendering same accuracy. \n",
        "model.fit(train_prepared,y_train_val_nump,epochs=90)"
      ],
      "metadata": {
        "id": "qW9qh2sQdcQP"
      },
      "execution_count": null,
      "outputs": []
    },
    {
      "cell_type": "code",
      "source": [
        "model.evaluate(valid_prepared,y_val_nump)"
      ],
      "metadata": {
        "id": "ndS06wryeAhS"
      },
      "execution_count": null,
      "outputs": []
    },
    {
      "cell_type": "markdown",
      "source": [
        "#Accuracy Measure with ROC & AUC "
      ],
      "metadata": {
        "id": "PsVZFjlShejF"
      }
    },
    {
      "cell_type": "markdown",
      "source": [
        "# ROC - AUC on Validation Dataset "
      ],
      "metadata": {
        "id": "f9b2IVbdx_jH"
      }
    },
    {
      "cell_type": "code",
      "source": [
        "# Plotting confusion matrix \n",
        "import matplotlib.pyplot as plt\n",
        "from sklearn.metrics import plot_confusion_matrix\n",
        "rfc = RandomForestClassifier(n_estimators=25,max_features=7,min_samples_split=2).fit(train_prepared,y_train_val) \n",
        "plot_confusion_matrix(rfc, valid_prepared, y_val)  \n",
        "plt.show()"
      ],
      "metadata": {
        "id": "-xm0MtUneApb"
      },
      "execution_count": null,
      "outputs": []
    },
    {
      "cell_type": "code",
      "source": [
        "# Micro- and macro-averages (for whatever metric) will compute slightly different things, \n",
        "# and thus their interpretation differs. A macro-average will compute the metric independently\n",
        "# for each class and then take the average (hence treating all classes equally), \n",
        "# whereas a micro-average will aggregate the contributions of all classes to compute the average metric. \n",
        "# In a multi-class classification setup, micro-average is preferable if you suspect there might be class imbalance\n",
        "from sklearn.metrics import confusion_matrix \n",
        "import numpy as np\n",
        "import matplotlib.pyplot as plt\n",
        "from itertools import cycle\n",
        "from sklearn import svm, datasets\n",
        "from sklearn.metrics import roc_curve\n",
        "from sklearn.preprocessing import label_binarize\n",
        "from sklearn.multiclass import OneVsRestClassifier,OneVsOneClassifier\n",
        "from sklearn.metrics import roc_auc_score,auc"
      ],
      "metadata": {
        "id": "xoY85ifRiC7s"
      },
      "execution_count": null,
      "outputs": []
    },
    {
      "cell_type": "code",
      "source": [
        "# to compare our work to published papers, we will get accuracy using onevsrest and onevsone \n",
        "# we will use SVC since it was used in published papers. \n",
        "from sklearn.svm import SVC\n",
        "\n",
        "model = OneVsRestClassifier(\n",
        "    SVC())\n",
        "model.fit(train_prepared, y_train_val)\n",
        "# make predictions\n",
        "yhat = model.predict(valid_prepared)\n",
        "accuracy = accuracy_score(y_val,yhat)\n",
        "accuracy = round(accuracy,2)\n",
        "accuracy"
      ],
      "metadata": {
        "id": "VKxM-b2jhiJg"
      },
      "execution_count": null,
      "outputs": []
    },
    {
      "cell_type": "code",
      "source": [
        "# to compare our work to published papers, we will get accuracy using onevsrest and onevs one \n",
        "model1 = OneVsOneClassifier(\n",
        "    SVC())\n",
        "\n",
        "model1.fit(train_prepared, y_train_val)\n",
        "yhat = model1.predict(valid_prepared)\n",
        "accuracy1 = accuracy_score(y_val,yhat)\n",
        "accuracy1 = round(accuracy1,2)\n",
        "accuracy1"
      ],
      "metadata": {
        "id": "OYtvbxyxn7L0"
      },
      "execution_count": null,
      "outputs": []
    },
    {
      "cell_type": "code",
      "source": [
        "y_val_bin=label_binarize(y_val,classes=[0,1,2]) \n",
        "n_classes=y_val_bin.shape[1]\n",
        "y_val_bin"
      ],
      "metadata": {
        "id": "Ctt7mRkRhiMA"
      },
      "execution_count": null,
      "outputs": []
    },
    {
      "cell_type": "code",
      "source": [
        "# learn to predict each class against the other , i tried SVC but it is taking endless time\n",
        "classifier = OneVsRestClassifier(\n",
        "    RandomForestClassifier(n_estimators=25,max_features=7,min_samples_split=2) \n",
        ")\n",
        "y_score = classifier.fit(train_prepared,y_train_val).predict_proba(valid_prepared)\n",
        "y_score "
      ],
      "metadata": {
        "id": "392UBSUDhiO_"
      },
      "execution_count": null,
      "outputs": []
    },
    {
      "cell_type": "code",
      "source": [
        "# let us try to loop over some thresholds for class 0 \"Severe peripheral neuropathy\"\n",
        "y_predict_th3 = np.where(classifier.predict_proba(valid_prepared)[:,0]>0.3,1,0)\n",
        "y_predict_th3"
      ],
      "metadata": {
        "id": "6Y-e37iipljC"
      },
      "execution_count": null,
      "outputs": []
    },
    {
      "cell_type": "code",
      "source": [
        "# compute ROC curve and ROC area for each class \n",
        "fpr = dict()\n",
        "tpr = dict()\n",
        "roc_auc = dict()\n",
        "for i in range(n_classes):\n",
        "    fpr[i], tpr[i], _ = roc_curve(y_val_bin[:, i], y_score[:, i])\n",
        "    roc_auc[i] = auc(fpr[i], tpr[i])\n",
        "\n",
        "# Compute micro-average ROC curve and ROC area\n",
        "fpr[\"micro\"], tpr[\"micro\"], _ = roc_curve(y_val_bin.ravel(), y_score.ravel())\n",
        "roc_auc[\"micro\"] = auc(fpr[\"micro\"], tpr[\"micro\"])"
      ],
      "metadata": {
        "id": "cex86jLUo-zM"
      },
      "execution_count": null,
      "outputs": []
    },
    {
      "cell_type": "code",
      "source": [
        "# plot of a ROC for a specific class - class 2 \n",
        "plt.figure()\n",
        "lw = 2\n",
        "plt.plot(\n",
        "    fpr[2],\n",
        "    tpr[2],\n",
        "    color=\"darkorange\",\n",
        "    lw=lw,\n",
        "    label=\"ROC curve (area = %0.2f)\" % roc_auc[2],\n",
        ")\n",
        "plt.plot([0, 1], [0, 1], color=\"navy\", lw=lw, linestyle=\"--\")\n",
        "plt.xlim([0.0, 1.0])\n",
        "plt.ylim([0.0, 1.05])\n",
        "plt.xlabel(\"False Positive Rate\")\n",
        "plt.ylabel(\"True Positive Rate\")\n",
        "plt.title(\"Receiver operating characteristic example\")\n",
        "plt.legend(loc=\"lower right\")\n",
        "plt.show()\n"
      ],
      "metadata": {
        "id": "koNZWqrGo-2e"
      },
      "execution_count": null,
      "outputs": []
    },
    {
      "cell_type": "code",
      "source": [
        "#plot ROC curves for the multiclass problem \n",
        "# First aggregate all false positive rates\n",
        "all_fpr = np.unique(np.concatenate([fpr[i] for i in range(n_classes)]))\n",
        "\n",
        "# Then interpolate all ROC curves at this points\n",
        "mean_tpr = np.zeros_like(all_fpr)\n",
        "for i in range(n_classes):\n",
        "    mean_tpr += np.interp(all_fpr, fpr[i], tpr[i])\n",
        "\n",
        "# Finally average it and compute AUC\n",
        "mean_tpr /= n_classes\n",
        "\n",
        "fpr[\"macro\"] = all_fpr\n",
        "tpr[\"macro\"] = mean_tpr\n",
        "roc_auc[\"macro\"] = auc(fpr[\"macro\"], tpr[\"macro\"])\n",
        "\n",
        "# Plot all ROC curves\n",
        "plt.figure()\n",
        "plt.plot(\n",
        "    fpr[\"micro\"],\n",
        "    tpr[\"micro\"],\n",
        "    label=\"micro-average ROC curve (area = {0:0.2f})\".format(roc_auc[\"micro\"]),\n",
        "    color=\"deeppink\",\n",
        "    linestyle=\":\",\n",
        "    linewidth=4,\n",
        ")\n",
        "\n",
        "plt.plot(\n",
        "    fpr[\"macro\"],\n",
        "    tpr[\"macro\"],\n",
        "    label=\"macro-average ROC curve (area = {0:0.2f})\".format(roc_auc[\"macro\"]),\n",
        "    color=\"navy\",\n",
        "    linestyle=\":\",\n",
        "    linewidth=4,\n",
        ")\n",
        "\n",
        "colors = cycle([\"aqua\", \"darkorange\", \"cornflowerblue\"])\n",
        "for i, color in zip(range(n_classes), colors):\n",
        "    plt.plot(\n",
        "        fpr[i],\n",
        "        tpr[i],\n",
        "        color=color,\n",
        "        lw=lw,\n",
        "        label=\"ROC curve of class {0} (area = {1:0.2f})\".format(i, roc_auc[i]),\n",
        "    )\n",
        "\n",
        "plt.plot([0, 1], [0, 1], \"k--\", lw=lw)\n",
        "plt.xlim([0.0, 1.0])\n",
        "plt.ylim([0.0, 1.05])\n",
        "plt.xlabel(\"False Positive Rate\")\n",
        "plt.ylabel(\"True Positive Rate\")\n",
        "plt.title(\"Some extension of Receiver operating characteristic to multiclass\")\n",
        "plt.legend(loc=\"lower right\")\n",
        "plt.show()\n",
        "# A macro-average will compute the metric independently for each class and then take the average hence treating all classes equally, \n",
        "# whereas a micro-average will aggregate the contributions of all classes to compute the average metric."
      ],
      "metadata": {
        "id": "jq3rSSv6o-5R"
      },
      "execution_count": null,
      "outputs": []
    },
    {
      "cell_type": "markdown",
      "source": [
        "# ROC - AUC on Test Dataset \n",
        "\n",
        "> Indented block\n",
        "\n"
      ],
      "metadata": {
        "id": "czlAaTszyPgU"
      }
    },
    {
      "cell_type": "code",
      "source": [
        "# transforming train and validation in one training dataset \n",
        "X_train_prepared = full_pipeline.transform(X_train)\n",
        "X_train_prepared"
      ],
      "metadata": {
        "id": "eefeR5X5yZqb"
      },
      "execution_count": null,
      "outputs": []
    },
    {
      "cell_type": "code",
      "source": [
        "X_test_prepared = full_pipeline.transform(X_test)\n",
        "X_test_prepared "
      ],
      "metadata": {
        "id": "a_IzbH-i7wKr"
      },
      "execution_count": null,
      "outputs": []
    },
    {
      "cell_type": "code",
      "source": [
        "y_test_bin=label_binarize(y_test,classes=[0,1,2]) \n",
        "n_classes1=y_test_bin.shape[1]\n",
        "y_test_bin"
      ],
      "metadata": {
        "id": "aXfZgCc67wNn"
      },
      "execution_count": null,
      "outputs": []
    },
    {
      "cell_type": "code",
      "source": [
        "# learn to predict each class against the other , i tried SVC but it is taking endless time\n",
        "classifier1 = OneVsRestClassifier(\n",
        "    RandomForestClassifier(n_estimators=25,max_features=7,min_samples_split=2) \n",
        ")\n",
        "y_score1 = classifier1.fit(X_train_prepared,y_train).predict_proba(X_test_prepared )\n",
        "y_score1"
      ],
      "metadata": {
        "id": "5mhQ5qZU7wQr"
      },
      "execution_count": null,
      "outputs": []
    },
    {
      "cell_type": "code",
      "source": [
        "# compute ROC curve and ROC area for each class \n",
        "fpr1 = dict()\n",
        "tpr1 = dict()\n",
        "roc_auc1 = dict()\n",
        "for i in range(n_classes1):\n",
        "    fpr1[i], tpr1[i], _ = roc_curve(y_test_bin[:, i], y_score1[:, i])\n",
        "    roc_auc1[i] = auc(fpr1[i], tpr1[i])\n",
        "\n",
        "# Compute micro-average ROC curve and ROC area\n",
        "fpr1[\"micro\"], tpr1[\"micro\"], _ = roc_curve(y_test_bin.ravel(), y_score1.ravel())\n",
        "roc_auc1[\"micro\"] = auc(fpr1[\"micro\"], tpr1[\"micro\"])"
      ],
      "metadata": {
        "id": "oig3moNG_JgB"
      },
      "execution_count": null,
      "outputs": []
    },
    {
      "cell_type": "code",
      "source": [
        "# plot of a ROC for a specific class - class 2 \n",
        "plt.figure()\n",
        "lw = 2\n",
        "plt.plot(\n",
        "    fpr1[2],\n",
        "    tpr1[2],\n",
        "    color=\"darkorange\",\n",
        "    lw=lw,\n",
        "    label=\"ROC curve (area = %0.2f)\" % roc_auc1[2],\n",
        ")\n",
        "plt.plot([0, 1], [0, 1], color=\"navy\", lw=lw, linestyle=\"--\")\n",
        "plt.xlim([0.0, 1.0])\n",
        "plt.ylim([0.0, 1.05])\n",
        "plt.xlabel(\"False Positive Rate\")\n",
        "plt.ylabel(\"True Positive Rate\")\n",
        "plt.title(\"Receiver operating characteristic example\")\n",
        "plt.legend(loc=\"lower right\")\n",
        "plt.show()\n"
      ],
      "metadata": {
        "id": "L_t12v50--9S"
      },
      "execution_count": null,
      "outputs": []
    },
    {
      "cell_type": "code",
      "source": [
        "#plot ROC curves for the multiclass problem \n",
        "# First aggregate all false positive rates\n",
        "all_fpr1 = np.unique(np.concatenate([fpr1[i] for i in range(n_classes1)]))\n",
        "\n",
        "# Then interpolate all ROC curves at this points\n",
        "mean_tpr1 = np.zeros_like(all_fpr1)\n",
        "for i in range(n_classes1):\n",
        "    mean_tpr1 += np.interp(all_fpr1, fpr1[i], tpr1[i])\n",
        "\n",
        "# Finally average it and compute AUC\n",
        "mean_tpr1 /= n_classes1\n",
        "\n",
        "fpr1[\"macro\"] = all_fpr1\n",
        "tpr1[\"macro\"] = mean_tpr1\n",
        "roc_auc1[\"macro\"] = auc(fpr1[\"macro\"], tpr1[\"macro\"])\n",
        "\n",
        "# Plot all ROC curves\n",
        "plt.figure()\n",
        "plt.plot(\n",
        "    fpr1[\"micro\"],\n",
        "    tpr1[\"micro\"],\n",
        "    label=\"micro-average ROC curve (area = {0:0.2f})\".format(roc_auc1[\"micro\"]),\n",
        "    color=\"deeppink\",\n",
        "    linestyle=\":\",\n",
        "    linewidth=4,\n",
        ")\n",
        "\n",
        "plt.plot(\n",
        "    fpr1[\"macro\"],\n",
        "    tpr1[\"macro\"],\n",
        "    label=\"macro-average ROC curve (area = {0:0.2f})\".format(roc_auc1[\"macro\"]),\n",
        "    color=\"navy\",\n",
        "    linestyle=\":\",\n",
        "    linewidth=4,\n",
        ")\n",
        "\n",
        "colors = cycle([\"aqua\", \"darkorange\", \"cornflowerblue\"])\n",
        "for i, color in zip(range(n_classes1), colors):\n",
        "    plt.plot(\n",
        "        fpr1[i],\n",
        "        tpr1[i],\n",
        "        color=color,\n",
        "        lw=lw,\n",
        "        label=\"ROC curve of class {0} (area = {1:0.2f})\".format(i, roc_auc1[i]),\n",
        "    )\n",
        "\n",
        "plt.plot([0, 1], [0, 1], \"k--\", lw=lw)\n",
        "plt.xlim([0.0, 1.0])\n",
        "plt.ylim([0.0, 1.05])\n",
        "plt.xlabel(\"False Positive Rate\")\n",
        "plt.ylabel(\"True Positive Rate\")\n",
        "plt.title(\"Some extension of Receiver operating characteristic to multiclass\")\n",
        "plt.legend(loc=\"lower right\")\n",
        "plt.show()\n",
        "# A macro-average will compute the metric independently for each class and then take the average hence treating all classes equally, \n",
        "# whereas a micro-average will aggregate the contributions of all classes to compute the average metric."
      ],
      "metadata": {
        "id": "el2O9wZe-_Ac"
      },
      "execution_count": null,
      "outputs": []
    },
    {
      "cell_type": "markdown",
      "source": [
        "#Addressing Imbalanced Data with SMOTE "
      ],
      "metadata": {
        "id": "gPnrCxQEdj4E"
      }
    },
    {
      "cell_type": "code",
      "source": [
        "pip install imbalanced-learn"
      ],
      "metadata": {
        "id": "rRekSoTD-_Fu"
      },
      "execution_count": null,
      "outputs": []
    },
    {
      "cell_type": "code",
      "source": [
        "import imblearn\n",
        "print(imblearn.__version__)"
      ],
      "metadata": {
        "id": "DcDpKwSe-_In"
      },
      "execution_count": null,
      "outputs": []
    },
    {
      "cell_type": "code",
      "source": [
        "from collections import Counter\n",
        "from imblearn.over_sampling import SMOTE\n",
        "from imblearn.under_sampling import RandomUnderSampler\n",
        "from imblearn.pipeline import Pipeline\n",
        "from matplotlib import pyplot\n",
        "from numpy import where\n",
        "from sklearn.preprocessing import LabelEncoder \n"
      ],
      "metadata": {
        "id": "p0jFERVO7wTd"
      },
      "execution_count": null,
      "outputs": []
    },
    {
      "cell_type": "code",
      "source": [
        "y_cat.value_counts()"
      ],
      "metadata": {
        "id": "Qp4C0wV4g52b"
      },
      "execution_count": null,
      "outputs": []
    },
    {
      "cell_type": "code",
      "source": [
        "# plot the imbalanced data \n",
        "# 0= severe, 1= moderate, 2 = no pN \n",
        "df_smote = data\n",
        "y_smote = LabelEncoder().fit_transform(y_cat) \n",
        "counter = Counter(y_smote) \n",
        "for k,v in counter.items():\n",
        "  per = v / len(y_smote)*100 \n",
        "  print('Class =%d, n=%d (%.3f%%)'%(k,v,per))\n",
        "\n",
        "#plot the distribution \n",
        "pyplot.bar(counter.keys(),counter.values())\n",
        "pyplot.title('Class Breakdown before SMOTE')\n",
        "pyplot.show()"
      ],
      "metadata": {
        "id": "ERdVayVHg58Y"
      },
      "execution_count": null,
      "outputs": []
    },
    {
      "cell_type": "code",
      "source": [
        "data.columns"
      ],
      "metadata": {
        "id": "CAFty4iSokV9"
      },
      "execution_count": null,
      "outputs": []
    },
    {
      "cell_type": "code",
      "source": [
        "data.dtypes"
      ],
      "metadata": {
        "id": "DizOJUA_oqwn"
      },
      "execution_count": null,
      "outputs": []
    },
    {
      "cell_type": "code",
      "source": [
        "# replace NaN of numerical features with Mean \n",
        "data_numeric = data.select_dtypes(include=[np.number])\n",
        "data_numeric = data_numeric.fillna(data_numeric.mean())\n",
        "data_numeric=data_numeric.reset_index()\n",
        "data_numeric.head(3)"
      ],
      "metadata": {
        "id": "7_XFKjR1o5Hj"
      },
      "execution_count": null,
      "outputs": []
    },
    {
      "cell_type": "code",
      "source": [
        "# replace NaN of categorical features with Mode or most frequent value of each column \n",
        "data_categorical = data.select_dtypes(exclude=[np.number])\n",
        "data_categorical = data_categorical.apply(lambda x: x.fillna(x.value_counts().index[0]))\n",
        "data_categorical=data_categorical.reset_index()\n",
        "data_categorical.head(3)"
      ],
      "metadata": {
        "id": "QmsMC792oPjH"
      },
      "execution_count": null,
      "outputs": []
    },
    {
      "cell_type": "code",
      "source": [
        "data_final = data_numeric.merge(data_categorical,on='index',how='outer')\n",
        "data_final=data_final.drop(['index','S_A '],axis=1)\n",
        "data_final.head(2)"
      ],
      "metadata": {
        "id": "TUh1O3HyoPmS"
      },
      "execution_count": null,
      "outputs": []
    },
    {
      "cell_type": "code",
      "source": [
        "y_cat1=data_final['S_A_categories'].map({\n",
        "    'Severe_PN':0,\n",
        "    'Moderate_PN':1,\n",
        "    'No_PN':2\n",
        "}) \n"
      ],
      "metadata": {
        "id": "QnmZHQBVscjR"
      },
      "execution_count": null,
      "outputs": []
    },
    {
      "cell_type": "code",
      "source": [
        "# Oversample minority classes with SMOTE \n",
        "df_smote1 = data_final\n",
        "data_smote = df_smote1.values\n",
        "X_smote1,y_smote1 = data_smote[:,:-1],data_smote[:,-1] \n",
        "y_smote1 = LabelEncoder().fit_transform(y_cat1) \n",
        "#transform teh dataset \n",
        "oversample=SMOTE() \n",
        "X_smote1,y_smote1=oversample.fit_resample(X_smote1,y_smote1)\n",
        "#summarize distribution\n",
        "counter1 = Counter(y_smote1) \n",
        "for k,v in counter1.items():\n",
        "  per = v / len(y_smote1)*100 \n",
        "  print('Class =%d, n=%d (%.3f%%)'%(k,v,per))\n",
        "\n",
        "#plot the distribution \n",
        "pyplot.bar(counter1.keys(),counter1.values())\n",
        "pyplot.title('Class Break Down after SMOTE')\n",
        "pyplot.show()"
      ],
      "metadata": {
        "id": "Uv4ByKJkoPsj"
      },
      "execution_count": null,
      "outputs": []
    },
    {
      "cell_type": "markdown",
      "source": [
        "#Accuracy with SMOTE"
      ],
      "metadata": {
        "id": "N-sSOPwZtc2n"
      }
    },
    {
      "cell_type": "code",
      "source": [
        "# let us split our data after SMOTE\n",
        "X_train_smote,X_test_smote,y_train_smote,y_test_smote = train_test_split(X_smote1,y_smote1,test_size=0.3,stratify=y_smote1,shuffle=True,random_state=0) \n",
        "X_train1_smote,X_valid1_smote,y_train1_smote,y_valid1_smote=train_test_split(X_train_smote,y_train_smote,test_size=0.3,stratify=y_train_smote,shuffle=True,random_state=0)\n",
        "classifiers_smote = [LogisticRegression(),RandomForestClassifier(),DecisionTreeClassifier(),SVC(),KNeighborsClassifier()] \n",
        "Accuracy_smote = []\n",
        "estimator_smote = []\n",
        "for c in classifiers_smote:\n",
        "  m = c.fit(X_train1_smote,y_train1_smote)\n",
        "  pred_smote=m.predict(X_valid1_smote)\n",
        "  acc_smote = accuracy_score(y_valid1_smote,pred_smote)\n",
        "  acc_smote = round(acc_smote,2)\n",
        "  Accuracy_smote.append(acc_smote)\n",
        "  estimator_smote.append(c)\n",
        "\n",
        "data_frame_smote=pd.DataFrame({'Model':estimator_smote,'Accuracy':Accuracy_smote})\n",
        "data_frame_smote=data_frame_smote.sort_values(by='Accuracy',ascending=False)\n",
        "print(data_frame_smote)\n"
      ],
      "metadata": {
        "id": "zKc3uIZKhiWg"
      },
      "execution_count": null,
      "outputs": []
    },
    {
      "cell_type": "code",
      "source": [
        "data_frame_smote=data_frame_smote.reset_index()\n",
        "data_frame_smote"
      ],
      "metadata": {
        "id": "4wB2HEOjwyx8"
      },
      "execution_count": null,
      "outputs": []
    },
    {
      "cell_type": "code",
      "source": [
        "# baseline model without rfecv\n",
        "dtc_cvs"
      ],
      "metadata": {
        "id": "PnsWPkZGm6ES"
      },
      "execution_count": null,
      "outputs": []
    },
    {
      "cell_type": "code",
      "source": [
        "# baseline model with rfecv \n",
        "dtc_cvs1"
      ],
      "metadata": {
        "id": "XqZ0lUEoyqaW"
      },
      "execution_count": null,
      "outputs": []
    },
    {
      "cell_type": "code",
      "source": [
        "# join dataframes with rfecv & withour rfex \n",
        "data_b=dtc_cvs1.merge(dtc_cvs,on='index',how='outer')\n",
        "data_b=data_b.drop('Estimator_y',axis=1)\n",
        "data_b = data_b.rename({'Estimator_x':'Model','Accuracy_x':'Accuracy_WithRFECV','Accuracy_y':'Accuracy_WithoutRFECV'},axis=1)\n",
        "data_b"
      ],
      "metadata": {
        "id": "lzn_G82Oyq0L"
      },
      "execution_count": null,
      "outputs": []
    },
    {
      "cell_type": "code",
      "source": [
        "# join all dataframes for comparison\n",
        "data_f=data_b.merge(data_frame_smote,on='index',how='outer')\n",
        "data_f=data_f.drop(['Model_y','index'],axis=1)\n",
        "data_f = data_f.rename({'Model_x':'Model','Accuracy':'Accuracy_SMOTE'},axis=1)\n",
        "data_f= data_f.sort_values(by='Accuracy_SMOTE',ascending=False)\n",
        "data_f"
      ],
      "metadata": {
        "id": "Ygc_9a6Om6HO"
      },
      "execution_count": null,
      "outputs": []
    },
    {
      "cell_type": "code",
      "source": [
        "# Random Forest Classifier with class weight to balanced the dataset \n",
        "rfc_sk = RandomForestClassifier ( class_weight='balanced' )\n",
        "rfc_sk.fit ( train_prepared, y_train_val )\n",
        "y_predict_val = rfc_sk.predict ( valid_prepared )\n",
        "accuracy_vla = accuracy_score ( y_val, y_predict_val )\n",
        "accuracy_vla = round ( accuracy_vla, 2)\n",
        "accuracy_vla "
      ],
      "metadata": {
        "id": "6BDJWQ0uNhg6"
      },
      "execution_count": null,
      "outputs": []
    },
    {
      "cell_type": "code",
      "source": [
        "# let us try to optimize Random Forest with SMOTE \n",
        "from sklearn.ensemble import RandomForestClassifier \n",
        "rfc = RandomForestClassifier()\n",
        "n_estimators=[10,20,30,40,50] \n",
        "criterion =['gini','entropy']\n",
        "min_samples_split=[2,3,4,5] \n",
        "Estimators = [] \n",
        "Criter = [] \n",
        "Min_Samples =[] \n",
        "Accurate_valid =[] \n",
        "for n in n_estimators:\n",
        "  for c in criterion:\n",
        "    for m in min_samples_split:\n",
        "      rfc = RandomForestClassifier(n_estimators=n,criterion=c,min_samples_split=m).fit(X_train1_smote,y_train1_smote) \n",
        "      y_predict_valid = rfc.predict(X_valid1_smote) \n",
        "      accur_valid = accuracy_score(y_predict_valid,y_valid1_smote) \n",
        "      Accurate_valid.append(accur_valid)\n",
        "      Estimators.append(n) \n",
        "      Criter.append(c) \n",
        "      Min_Samples.append(m) \n",
        "print(Estimators)\n",
        "print(Min_Samples)\n",
        "print(Criter)\n",
        "print(Accurate_valid)"
      ],
      "metadata": {
        "id": "EzMvPoiL2Czk"
      },
      "execution_count": null,
      "outputs": []
    },
    {
      "cell_type": "code",
      "source": [
        "rfc_smote_opt=pd.DataFrame({'Numb_Estimators':Estimators,'Min_Samples_split':Min_Samples,'Criteria':Criter,'Accuracy_valid':Accurate_valid})\n",
        "rfc_smote_opt = rfc_smote_opt.sort_values(by='Accuracy_valid',ascending=False)\n",
        "rfc_smote_opt =rfc_smote_opt.reset_index()\n",
        "rfc_smote_opt.head(3)"
      ],
      "metadata": {
        "id": "pcMyEPSL2C-E"
      },
      "execution_count": null,
      "outputs": []
    },
    {
      "cell_type": "code",
      "source": [
        "# let us now train on full training dataset and test on the final dataset \n",
        "rfc_test= RandomForestClassifier(n_estimators=40,criterion='gini',min_samples_split=2)\n",
        "rfc_test.fit(X_train_smote,y_train_smote)\n",
        "predict_rfc = rfc_test.predict(X_test_smote)\n",
        "accuracy_test = accuracy_score(y_test_smote,predict_rfc)\n",
        "accuracy_test = round(accuracy_test,2)\n",
        "print(accuracy_test)"
      ],
      "metadata": {
        "id": "OE7h8SJK0Mtm"
      },
      "execution_count": null,
      "outputs": []
    },
    {
      "cell_type": "code",
      "source": [
        "# let us split our data after SMOTE\n",
        "X_train_smote,X_test_smote,y_train_smote,y_test_smote = train_test_split(X_smote1,y_smote1,test_size=0.3,stratify=y_smote1,shuffle=True,random_state=0) "
      ],
      "metadata": {
        "id": "cWLNQa0j4fPV"
      },
      "execution_count": null,
      "outputs": []
    },
    {
      "cell_type": "code",
      "source": [
        "y_test_bin1=label_binarize(y_test_smote ,classes=[0,1,2]) \n",
        "n_classes2=y_test_bin1.shape[1]\n",
        "y_test_bin1"
      ],
      "metadata": {
        "id": "f0U3JtUBQUe0"
      },
      "execution_count": null,
      "outputs": []
    },
    {
      "cell_type": "code",
      "source": [
        "# learn to predict each class against the other , i tried SVC but it is taking endless time\n",
        "classifier10 = OneVsRestClassifier(\n",
        "    RandomForestClassifier(n_estimators=25,max_features=7,min_samples_split=2) \n",
        ")\n",
        "y_score10 = classifier10.fit(X_train_smote,y_train_smote).predict_proba(X_test_smote)\n",
        "y_score10"
      ],
      "metadata": {
        "id": "vQqSJMuiQr8r"
      },
      "execution_count": null,
      "outputs": []
    },
    {
      "cell_type": "code",
      "source": [
        "# compute ROC curve and ROC area for each class \n",
        "fpr10 = dict()\n",
        "tpr10 = dict()\n",
        "roc_auc10 = dict()\n",
        "for i in range(n_classes2):\n",
        "    fpr10[i], tpr10[i], _ = roc_curve(y_test_bin1[:, i], y_score10[:, i])\n",
        "    roc_auc10[i] = auc(fpr10[i], tpr10[i])\n",
        "\n",
        "# Compute micro-average ROC curve and ROC area\n",
        "fpr10[\"micro\"], tpr10[\"micro\"], _ = roc_curve(y_test_bin1.ravel(), y_score10.ravel())\n",
        "roc_auc10[\"micro\"] = auc(fpr10[\"micro\"], tpr10[\"micro\"])"
      ],
      "metadata": {
        "id": "Wo-6vzpfSq9i"
      },
      "execution_count": null,
      "outputs": []
    },
    {
      "cell_type": "code",
      "source": [
        "#plot ROC curves for the multiclass problem \n",
        "# First aggregate all false positive rates\n",
        "all_fpr10 = np.unique(np.concatenate([fpr10[i] for i in range(n_classes2)]))\n",
        "\n",
        "# Then interpolate all ROC curves at this points\n",
        "mean_tpr10 = np.zeros_like(all_fpr10)\n",
        "for i in range(n_classes2):\n",
        "    mean_tpr10 += np.interp(all_fpr10, fpr10[i], tpr10[i])\n",
        "\n",
        "# Finally average it and compute AUC\n",
        "mean_tpr10 /= n_classes2\n",
        "\n",
        "fpr10[\"macro\"] = all_fpr10\n",
        "tpr10[\"macro\"] = mean_tpr10\n",
        "roc_auc10[\"macro\"] = auc(fpr10[\"macro\"], tpr10[\"macro\"])\n",
        "\n",
        "# Plot all ROC curves\n",
        "plt.figure()\n",
        "plt.plot(\n",
        "    fpr10[\"micro\"],\n",
        "    tpr10[\"micro\"],\n",
        "    label=\"micro-average ROC curve (area = {0:0.2f})\".format(roc_auc10[\"micro\"]),\n",
        "    color=\"deeppink\",\n",
        "    linestyle=\":\",\n",
        "    linewidth=4,\n",
        ")\n",
        "\n",
        "plt.plot(\n",
        "    fpr10[\"macro\"],\n",
        "    tpr10[\"macro\"],\n",
        "    label=\"macro-average ROC curve (area = {0:0.2f})\".format(roc_auc10[\"macro\"]),\n",
        "    color=\"navy\",\n",
        "    linestyle=\":\",\n",
        "    linewidth=4,\n",
        ")\n",
        "\n",
        "colors = cycle([\"aqua\", \"darkorange\", \"cornflowerblue\"])\n",
        "for i, color in zip(range(n_classes2), colors):\n",
        "    plt.plot(\n",
        "        fpr1[i],\n",
        "        tpr1[i],\n",
        "        color=color,\n",
        "        lw=lw,\n",
        "        label=\"ROC curve of class {0} (area = {1:0.2f})\".format(i, roc_auc1[i]),\n",
        "    )\n",
        "\n",
        "plt.plot([0, 1], [0, 1], \"k--\", lw=lw)\n",
        "plt.xlim([0.0, 1.0])\n",
        "plt.ylim([0.0, 1.05])\n",
        "plt.xlabel(\"False Positive Rate\")\n",
        "plt.ylabel(\"True Positive Rate\")\n",
        "plt.title(\"ROC - AUC on Balanced Dataset - SMOTE\")\n",
        "plt.legend(loc=\"lower right\")\n",
        "plt.show()\n",
        "# A macro-average will compute the metric independently for each class and then take the average hence treating all classes equally, \n",
        "# whereas a micro-average will aggregate the contributions of all classes to compute the average metric."
      ],
      "metadata": {
        "id": "iU5ZJHPSTH7P"
      },
      "execution_count": null,
      "outputs": []
    }
  ],
  "metadata": {
    "colab": {
      "collapsed_sections": [],
      "name": "Peripheral_Neuropathy_practice_20_05_2022_Final.ipynb",
      "provenance": [],
      "include_colab_link": true
    },
    "kernelspec": {
      "display_name": "Python 3",
      "name": "python3"
    },
    "language_info": {
      "name": "python"
    }
  },
  "nbformat": 4,
  "nbformat_minor": 0
}